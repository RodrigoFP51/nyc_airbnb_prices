{
 "cells": [
  {
   "cell_type": "markdown",
   "id": "3473a182",
   "metadata": {},
   "source": [
    "## NYC Airbnb Price Prediction\n",
    "\n",
    "\n",
    "\n"
   ]
  },
  {
   "cell_type": "code",
   "execution_count": 18,
   "id": "354e7180",
   "metadata": {},
   "outputs": [],
   "source": [
    "import numpy as np \n",
    "import pandas as pd\n",
    "\n",
    "from sklearn.linear_model import LinearRegression\n",
    "from sklearn.model_selection import train_test_split\n",
    "\n",
    "from lazypredict.Supervised import LazyRegressor"
   ]
  },
  {
   "cell_type": "code",
   "execution_count": 29,
   "id": "3d9beff8",
   "metadata": {},
   "outputs": [],
   "source": [
    "df = pd.read_csv(\"Data/train.csv\")"
   ]
  },
  {
   "cell_type": "code",
   "execution_count": 30,
   "id": "8c58b62f",
   "metadata": {},
   "outputs": [
    {
     "name": "stdout",
     "output_type": "stream",
     "text": [
      "<class 'pandas.core.frame.DataFrame'>\n",
      "RangeIndex: 34226 entries, 0 to 34225\n",
      "Data columns (total 16 columns):\n",
      " #   Column                          Non-Null Count  Dtype  \n",
      "---  ------                          --------------  -----  \n",
      " 0   id                              34226 non-null  int64  \n",
      " 1   name                            34217 non-null  object \n",
      " 2   host_id                         34226 non-null  int64  \n",
      " 3   host_name                       34212 non-null  object \n",
      " 4   neighbourhood_group             34226 non-null  object \n",
      " 5   neighbourhood                   34226 non-null  object \n",
      " 6   latitude                        34226 non-null  float64\n",
      " 7   longitude                       34226 non-null  float64\n",
      " 8   room_type                       34226 non-null  object \n",
      " 9   price                           34226 non-null  int64  \n",
      " 10  minimum_nights                  34226 non-null  int64  \n",
      " 11  number_of_reviews               34226 non-null  int64  \n",
      " 12  last_review                     27218 non-null  object \n",
      " 13  reviews_per_month               27218 non-null  float64\n",
      " 14  calculated_host_listings_count  34226 non-null  int64  \n",
      " 15  availability_365                34226 non-null  int64  \n",
      "dtypes: float64(3), int64(7), object(6)\n",
      "memory usage: 4.2+ MB\n"
     ]
    }
   ],
   "source": [
    "df.info()"
   ]
  },
  {
   "cell_type": "code",
   "execution_count": 31,
   "id": "fc3c5b92",
   "metadata": {},
   "outputs": [
    {
     "data": {
      "text/plain": [
       "id                                   0\n",
       "name                                 9\n",
       "host_id                              0\n",
       "host_name                           14\n",
       "neighbourhood_group                  0\n",
       "neighbourhood                        0\n",
       "latitude                             0\n",
       "longitude                            0\n",
       "room_type                            0\n",
       "price                                0\n",
       "minimum_nights                       0\n",
       "number_of_reviews                    0\n",
       "last_review                       7008\n",
       "reviews_per_month                 7008\n",
       "calculated_host_listings_count       0\n",
       "availability_365                     0\n",
       "dtype: int64"
      ]
     },
     "execution_count": 31,
     "metadata": {},
     "output_type": "execute_result"
    }
   ],
   "source": [
    "df.isnull().sum()"
   ]
  },
  {
   "cell_type": "code",
   "execution_count": 34,
   "id": "556d9060",
   "metadata": {},
   "outputs": [],
   "source": [
    "X = df.drop(['price', 'host_id', 'host_name', 'neighbourhood', 'name', 'id', 'last_review'], axis = 1).dropna(axis = 1)\n",
    "y = df['price'].dropna()\n",
    "X_train, y_train, X_test, y_test = train_test_split(X,y, test_size = 0.25)"
   ]
  },
  {
   "cell_type": "code",
   "execution_count": 39,
   "id": "2a5b4c4d",
   "metadata": {},
   "outputs": [
    {
     "name": "stderr",
     "output_type": "stream",
     "text": [
      "  7%|▋         | 3/41 [00:00<00:01, 21.14it/s]"
     ]
    },
    {
     "name": "stdout",
     "output_type": "stream",
     "text": [
      "AdaBoostRegressor model failed to execute\n",
      "y should be a 1d array, got an array of shape (8557, 8) instead.\n",
      "BaggingRegressor model failed to execute\n",
      "Found input variables with inconsistent numbers of samples: [25669, 8557]\n",
      "BayesianRidge model failed to execute\n",
      "y should be a 1d array, got an array of shape (8557, 8) instead.\n",
      "DecisionTreeRegressor model failed to execute\n",
      "could not convert string to float: 'Entire home/apt'\n",
      "DummyRegressor model failed to execute\n",
      "could not convert string to float: 'Brooklyn'\n"
     ]
    },
    {
     "name": "stderr",
     "output_type": "stream",
     "text": [
      " 20%|█▉        | 8/41 [00:00<00:01, 17.97it/s]"
     ]
    },
    {
     "name": "stdout",
     "output_type": "stream",
     "text": [
      "ElasticNet model failed to execute\n",
      "could not convert string to float: 'Brooklyn'\n",
      "ElasticNetCV model failed to execute\n",
      "could not convert string to float: 'Brooklyn'\n",
      "ExtraTreeRegressor model failed to execute\n",
      "could not convert string to float: 'Entire home/apt'\n",
      "ExtraTreesRegressor model failed to execute\n",
      "Found input variables with inconsistent numbers of samples: [25669, 8557]\n"
     ]
    },
    {
     "name": "stderr",
     "output_type": "stream",
     "text": [
      " 34%|███▍      | 14/41 [00:00<00:01, 21.80it/s]"
     ]
    },
    {
     "name": "stdout",
     "output_type": "stream",
     "text": [
      "GammaRegressor model failed to execute\n",
      "y should be a 1d array, got an array of shape (8557, 8) instead.\n",
      "GaussianProcessRegressor model failed to execute\n",
      "could not convert string to float: 'Brooklyn'\n",
      "GradientBoostingRegressor model failed to execute\n",
      "Found input variables with inconsistent numbers of samples: [25669, 8557]\n",
      "HistGradientBoostingRegressor model failed to execute\n",
      "y should be a 1d array, got an array of shape (8557, 8) instead.\n",
      "HuberRegressor model failed to execute\n",
      "y should be a 1d array, got an array of shape (8557, 8) instead.\n",
      "KNeighborsRegressor model failed to execute\n",
      "Found input variables with inconsistent numbers of samples: [25669, 8557]\n"
     ]
    },
    {
     "name": "stderr",
     "output_type": "stream",
     "text": [
      " 49%|████▉     | 20/41 [00:00<00:00, 24.17it/s]"
     ]
    },
    {
     "name": "stdout",
     "output_type": "stream",
     "text": [
      "KernelRidge model failed to execute\n",
      "could not convert string to float: 'Brooklyn'\n",
      "Lars model failed to execute\n",
      "could not convert string to float: 'Brooklyn'\n",
      "LarsCV model failed to execute\n",
      "y should be a 1d array, got an array of shape (8557, 8) instead.\n",
      "Lasso model failed to execute\n",
      "could not convert string to float: 'Brooklyn'\n",
      "LassoCV model failed to execute\n",
      "could not convert string to float: 'Brooklyn'\n",
      "LassoLars model failed to execute\n",
      "could not convert string to float: 'Brooklyn'\n"
     ]
    },
    {
     "name": "stderr",
     "output_type": "stream",
     "text": [
      " 63%|██████▎   | 26/41 [00:01<00:00, 24.12it/s]"
     ]
    },
    {
     "name": "stdout",
     "output_type": "stream",
     "text": [
      "LassoLarsCV model failed to execute\n",
      "y should be a 1d array, got an array of shape (8557, 8) instead.\n",
      "LassoLarsIC model failed to execute\n",
      "y should be a 1d array, got an array of shape (8557, 8) instead.\n",
      "LinearRegression model failed to execute\n",
      "could not convert string to float: 'Brooklyn'\n",
      "LinearSVR model failed to execute\n",
      "y should be a 1d array, got an array of shape (8557, 8) instead.\n",
      "MLPRegressor model failed to execute\n",
      "could not convert string to float: 'Brooklyn'\n"
     ]
    },
    {
     "name": "stderr",
     "output_type": "stream",
     "text": [
      " 78%|███████▊  | 32/41 [00:01<00:00, 25.29it/s]"
     ]
    },
    {
     "name": "stdout",
     "output_type": "stream",
     "text": [
      "NuSVR model failed to execute\n",
      "y should be a 1d array, got an array of shape (8557, 8) instead.\n",
      "OrthogonalMatchingPursuit model failed to execute\n",
      "could not convert string to float: 'Brooklyn'\n",
      "OrthogonalMatchingPursuitCV model failed to execute\n",
      "y should be a 1d array, got an array of shape (8557, 8) instead.\n",
      "PassiveAggressiveRegressor model failed to execute\n",
      "y should be a 1d array, got an array of shape (8557, 8) instead.\n",
      "PoissonRegressor model failed to execute\n",
      "y should be a 1d array, got an array of shape (8557, 8) instead.\n",
      "RANSACRegressor model failed to execute\n",
      "could not convert string to float: 'Brooklyn'\n"
     ]
    },
    {
     "name": "stderr",
     "output_type": "stream",
     "text": [
      " 93%|█████████▎| 38/41 [00:01<00:00, 25.81it/s]"
     ]
    },
    {
     "name": "stdout",
     "output_type": "stream",
     "text": [
      "RandomForestRegressor model failed to execute\n",
      "Found input variables with inconsistent numbers of samples: [25669, 8557]\n",
      "Ridge model failed to execute\n",
      "could not convert string to float: 'Brooklyn'\n",
      "RidgeCV model failed to execute\n",
      "could not convert string to float: 'Brooklyn'\n",
      "SGDRegressor model failed to execute\n",
      "y should be a 1d array, got an array of shape (8557, 8) instead.\n",
      "SVR model failed to execute\n",
      "y should be a 1d array, got an array of shape (8557, 8) instead.\n",
      "TransformedTargetRegressor model failed to execute\n",
      "could not convert string to float: 'Brooklyn'\n"
     ]
    },
    {
     "name": "stderr",
     "output_type": "stream",
     "text": [
      "100%|██████████| 41/41 [00:01<00:00, 23.12it/s]"
     ]
    },
    {
     "name": "stdout",
     "output_type": "stream",
     "text": [
      "TweedieRegressor model failed to execute\n",
      "y should be a 1d array, got an array of shape (8557, 8) instead.\n",
      "XGBRegressor model failed to execute\n",
      "DataFrame.dtypes for data must be int, float, bool or category. When categorical type is supplied, The experimental DMatrix parameter`enable_categorical` must be set to `True`.  Invalid columns:neighbourhood_group: object, room_type: object\n",
      "LGBMRegressor model failed to execute\n",
      "y should be a 1d array, got an array of shape (8557, 8) instead.\n"
     ]
    },
    {
     "name": "stderr",
     "output_type": "stream",
     "text": [
      "\n"
     ]
    }
   ],
   "source": [
    "reg = LazyRegressor(verbose=0,ignore_warnings=False, custom_metric=None)\n",
    "models, predictions = reg.fit(X_train, X_test, y_train, y_test)"
   ]
  },
  {
   "cell_type": "code",
   "execution_count": 38,
   "id": "c9229751",
   "metadata": {},
   "outputs": [
    {
     "data": {
      "text/plain": [
       "0        180\n",
       "1        100\n",
       "2        133\n",
       "3        260\n",
       "4        120\n",
       "        ... \n",
       "34221    145\n",
       "34222     99\n",
       "34223    145\n",
       "34224     26\n",
       "34225     55\n",
       "Name: price, Length: 34226, dtype: int64"
      ]
     },
     "execution_count": 38,
     "metadata": {},
     "output_type": "execute_result"
    }
   ],
   "source": []
  },
  {
   "cell_type": "code",
   "execution_count": null,
   "id": "fc5919e8",
   "metadata": {},
   "outputs": [],
   "source": []
  }
 ],
 "metadata": {
  "kernelspec": {
   "display_name": "Python 3",
   "language": "python",
   "name": "python3"
  },
  "language_info": {
   "codemirror_mode": {
    "name": "ipython",
    "version": 3
   },
   "file_extension": ".py",
   "mimetype": "text/x-python",
   "name": "python",
   "nbconvert_exporter": "python",
   "pygments_lexer": "ipython3",
   "version": "3.8.8"
  }
 },
 "nbformat": 4,
 "nbformat_minor": 5
}
