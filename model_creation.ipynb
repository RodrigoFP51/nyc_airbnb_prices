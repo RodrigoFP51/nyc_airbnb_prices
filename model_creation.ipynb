{
 "cells": [
  {
   "cell_type": "markdown",
   "id": "3473a182",
   "metadata": {},
   "source": [
    "## NYC Airbnb Price Prediction\n",
    "\n",
    "\n",
    "\n"
   ]
  },
  {
   "cell_type": "code",
   "execution_count": 1,
   "id": "354e7180",
   "metadata": {},
   "outputs": [
    {
     "ename": "ImportError",
     "evalue": "cannot import name '_check_y' from 'sklearn.utils.validation' (C:\\Users\\pessoal\\anaconda3\\lib\\site-packages\\sklearn\\utils\\validation.py)",
     "output_type": "error",
     "traceback": [
      "\u001b[1;31m---------------------------------------------------------------------------\u001b[0m",
      "\u001b[1;31mImportError\u001b[0m                               Traceback (most recent call last)",
      "\u001b[1;32m<ipython-input-1-9ecb8de3606f>\u001b[0m in \u001b[0;36m<module>\u001b[1;34m\u001b[0m\n\u001b[0;32m      4\u001b[0m \u001b[1;32mfrom\u001b[0m \u001b[0mpycaret\u001b[0m\u001b[1;33m.\u001b[0m\u001b[0mregression\u001b[0m \u001b[1;32mimport\u001b[0m \u001b[1;33m*\u001b[0m\u001b[1;33m\u001b[0m\u001b[1;33m\u001b[0m\u001b[0m\n\u001b[0;32m      5\u001b[0m \u001b[1;33m\u001b[0m\u001b[0m\n\u001b[1;32m----> 6\u001b[1;33m \u001b[1;32mfrom\u001b[0m \u001b[0mfeature_engine\u001b[0m\u001b[1;33m.\u001b[0m\u001b[0mencoding\u001b[0m \u001b[1;32mimport\u001b[0m \u001b[0mRareLabelEncoder\u001b[0m\u001b[1;33m\u001b[0m\u001b[1;33m\u001b[0m\u001b[0m\n\u001b[0m\u001b[0;32m      7\u001b[0m \u001b[1;33m\u001b[0m\u001b[0m\n\u001b[0;32m      8\u001b[0m \u001b[1;32mfrom\u001b[0m \u001b[0msklearn\u001b[0m\u001b[1;33m.\u001b[0m\u001b[0mlinear_model\u001b[0m \u001b[1;32mimport\u001b[0m \u001b[0mLinearRegression\u001b[0m\u001b[1;33m\u001b[0m\u001b[1;33m\u001b[0m\u001b[0m\n",
      "\u001b[1;32m~\\anaconda3\\lib\\site-packages\\feature_engine\\encoding\\__init__.py\u001b[0m in \u001b[0;36m<module>\u001b[1;34m\u001b[0m\n\u001b[0;32m      3\u001b[0m \"\"\"\n\u001b[0;32m      4\u001b[0m \u001b[1;33m\u001b[0m\u001b[0m\n\u001b[1;32m----> 5\u001b[1;33m \u001b[1;32mfrom\u001b[0m \u001b[1;33m.\u001b[0m\u001b[0mcount_frequency\u001b[0m \u001b[1;32mimport\u001b[0m \u001b[0mCountFrequencyEncoder\u001b[0m\u001b[1;33m\u001b[0m\u001b[1;33m\u001b[0m\u001b[0m\n\u001b[0m\u001b[0;32m      6\u001b[0m \u001b[1;32mfrom\u001b[0m \u001b[1;33m.\u001b[0m\u001b[0mdecision_tree\u001b[0m \u001b[1;32mimport\u001b[0m \u001b[0mDecisionTreeEncoder\u001b[0m\u001b[1;33m\u001b[0m\u001b[1;33m\u001b[0m\u001b[0m\n\u001b[0;32m      7\u001b[0m \u001b[1;32mfrom\u001b[0m \u001b[1;33m.\u001b[0m\u001b[0mmean_encoding\u001b[0m \u001b[1;32mimport\u001b[0m \u001b[0mMeanEncoder\u001b[0m\u001b[1;33m\u001b[0m\u001b[1;33m\u001b[0m\u001b[0m\n",
      "\u001b[1;32m~\\anaconda3\\lib\\site-packages\\feature_engine\\encoding\\count_frequency.py\u001b[0m in \u001b[0;36m<module>\u001b[1;34m\u001b[0m\n\u001b[0;32m     22\u001b[0m )\n\u001b[0;32m     23\u001b[0m \u001b[1;32mfrom\u001b[0m \u001b[0mfeature_engine\u001b[0m\u001b[1;33m.\u001b[0m\u001b[0m_docstrings\u001b[0m\u001b[1;33m.\u001b[0m\u001b[0msubstitute\u001b[0m \u001b[1;32mimport\u001b[0m \u001b[0mSubstitution\u001b[0m\u001b[1;33m\u001b[0m\u001b[1;33m\u001b[0m\u001b[0m\n\u001b[1;32m---> 24\u001b[1;33m \u001b[1;32mfrom\u001b[0m \u001b[0mfeature_engine\u001b[0m\u001b[1;33m.\u001b[0m\u001b[0mdataframe_checks\u001b[0m \u001b[1;32mimport\u001b[0m \u001b[0mcheck_X\u001b[0m\u001b[1;33m\u001b[0m\u001b[1;33m\u001b[0m\u001b[0m\n\u001b[0m\u001b[0;32m     25\u001b[0m \u001b[1;32mfrom\u001b[0m \u001b[0mfeature_engine\u001b[0m\u001b[1;33m.\u001b[0m\u001b[0mencoding\u001b[0m\u001b[1;33m.\u001b[0m\u001b[0m_helper_functions\u001b[0m \u001b[1;32mimport\u001b[0m \u001b[0mcheck_parameter_unseen\u001b[0m\u001b[1;33m\u001b[0m\u001b[1;33m\u001b[0m\u001b[0m\n\u001b[0;32m     26\u001b[0m from feature_engine.encoding.base_encoder import (\n",
      "\u001b[1;32m~\\anaconda3\\lib\\site-packages\\feature_engine\\dataframe_checks.py\u001b[0m in \u001b[0;36m<module>\u001b[1;34m\u001b[0m\n\u001b[0;32m      8\u001b[0m \u001b[1;32mimport\u001b[0m \u001b[0mpandas\u001b[0m \u001b[1;32mas\u001b[0m \u001b[0mpd\u001b[0m\u001b[1;33m\u001b[0m\u001b[1;33m\u001b[0m\u001b[0m\n\u001b[0;32m      9\u001b[0m \u001b[1;32mfrom\u001b[0m \u001b[0mscipy\u001b[0m\u001b[1;33m.\u001b[0m\u001b[0msparse\u001b[0m \u001b[1;32mimport\u001b[0m \u001b[0missparse\u001b[0m\u001b[1;33m\u001b[0m\u001b[1;33m\u001b[0m\u001b[0m\n\u001b[1;32m---> 10\u001b[1;33m \u001b[1;32mfrom\u001b[0m \u001b[0msklearn\u001b[0m\u001b[1;33m.\u001b[0m\u001b[0mutils\u001b[0m\u001b[1;33m.\u001b[0m\u001b[0mvalidation\u001b[0m \u001b[1;32mimport\u001b[0m \u001b[0m_check_y\u001b[0m\u001b[1;33m,\u001b[0m \u001b[0mcheck_consistent_length\u001b[0m\u001b[1;33m\u001b[0m\u001b[1;33m\u001b[0m\u001b[0m\n\u001b[0m\u001b[0;32m     11\u001b[0m \u001b[1;33m\u001b[0m\u001b[0m\n\u001b[0;32m     12\u001b[0m \u001b[1;33m\u001b[0m\u001b[0m\n",
      "\u001b[1;31mImportError\u001b[0m: cannot import name '_check_y' from 'sklearn.utils.validation' (C:\\Users\\pessoal\\anaconda3\\lib\\site-packages\\sklearn\\utils\\validation.py)"
     ]
    }
   ],
   "source": [
    "import numpy as np \n",
    "import pandas as pd\n",
    "\n",
    "from pycaret.regression import *\n",
    "\n",
    "from feature_engine.encoding import RareLabelEncoder\n",
    "\n",
    "from sklearn.linear_model import LinearRegression\n",
    "from lightgbm import LGBMRegressor\n",
    "from sklearn.pipeline import Pipeline\n",
    "from sklearn.preprocessing import OneHotEncoder, PowerTransformer\n",
    "from sklearn.compose import ColumnTransformer\n",
    "from sklearn.model_selection import (\n",
    "    KFold, RandomizedSearchCV, train_test_split\n",
    ")\n",
    "from sklearn.metrics import mean_squared_error, r2_score"
   ]
  },
  {
   "cell_type": "code",
   "execution_count": null,
   "id": "3d9beff8",
   "metadata": {},
   "outputs": [],
   "source": [
    "df = pd.read_csv(\"Data/train.csv\")"
   ]
  },
  {
   "cell_type": "code",
   "execution_count": null,
   "id": "11252d28",
   "metadata": {},
   "outputs": [],
   "source": [
    "df.describe()"
   ]
  },
  {
   "cell_type": "code",
   "execution_count": null,
   "id": "8c58b62f",
   "metadata": {},
   "outputs": [],
   "source": [
    "df.info()"
   ]
  },
  {
   "cell_type": "code",
   "execution_count": null,
   "id": "d89d4a0d",
   "metadata": {},
   "outputs": [],
   "source": [
    "df['last_review'] = pd.to_datetime(df['last_review'])"
   ]
  },
  {
   "cell_type": "code",
   "execution_count": null,
   "id": "615ee47f",
   "metadata": {},
   "outputs": [],
   "source": [
    "df['last_review']"
   ]
  },
  {
   "cell_type": "code",
   "execution_count": null,
   "id": "fc3c5b92",
   "metadata": {},
   "outputs": [],
   "source": [
    "df.isnull().sum()"
   ]
  },
  {
   "cell_type": "code",
   "execution_count": null,
   "id": "651dab9c",
   "metadata": {},
   "outputs": [],
   "source": [
    "df['price'] = df['price'].astype(\"float64\")\n",
    "df.dtypes"
   ]
  },
  {
   "cell_type": "code",
   "execution_count": 2,
   "id": "556d9060",
   "metadata": {},
   "outputs": [
    {
     "name": "stdout",
     "output_type": "stream",
     "text": [
      "Requirement already satisfied: scikit-learn in c:\\users\\pessoal\\anaconda3\\lib\\site-packages (0.23.2)\n",
      "Requirement already satisfied: joblib>=0.11 in c:\\users\\pessoal\\anaconda3\\lib\\site-packages (from scikit-learn) (1.2.0)\n",
      "Requirement already satisfied: numpy>=1.13.3 in c:\\users\\pessoal\\anaconda3\\lib\\site-packages (from scikit-learn) (1.19.5)\n",
      "Requirement already satisfied: scipy>=0.19.1 in c:\\users\\pessoal\\anaconda3\\lib\\site-packages (from scikit-learn) (1.5.4)\n",
      "Requirement already satisfied: threadpoolctl>=2.0.0 in c:\\users\\pessoal\\anaconda3\\lib\\site-packages (from scikit-learn) (2.1.0)\n"
     ]
    }
   ],
   "source": [
    "!pip install scikit-learn"
   ]
  },
  {
   "cell_type": "code",
   "execution_count": null,
   "id": "2a5b4c4d",
   "metadata": {},
   "outputs": [],
   "source": [
    "df_filtered = df\\\n",
    "    .drop(['host_id', 'host_name', 'neighbourhood', 'name', 'id', 'last_review'], axis = 1)\\\n",
    "    .dropna(axis = 1)\n"
   ]
  },
  {
   "cell_type": "code",
   "execution_count": null,
   "id": "c9229751",
   "metadata": {},
   "outputs": [],
   "source": [
    "setup = setup(data = df_filtered, target = \"price\", combine_rare_levels=True)"
   ]
  },
  {
   "cell_type": "code",
   "execution_count": null,
   "id": "fc5919e8",
   "metadata": {},
   "outputs": [],
   "source": [
    "models = compare_models(fold = 5, sort='rmse')\n",
    "models"
   ]
  },
  {
   "cell_type": "code",
   "execution_count": null,
   "id": "5422e103",
   "metadata": {},
   "outputs": [],
   "source": []
  },
  {
   "cell_type": "code",
   "execution_count": null,
   "id": "20c0d636",
   "metadata": {},
   "outputs": [],
   "source": [
    "X = df.drop(['price', 'host_id', 'host_name', 'neighbourhood', 'name', 'id', 'last_review'], axis = 1).dropna(axis = 1)\n",
    "y = df['price'].dropna()\n",
    "\n",
    "X_train, X_test, y_train, y_test = train_test_split(X, y, test_size=0.30, random_state=42)\n",
    "\n",
    "num_cols = X.select_dtypes(include = np.number).columns.to_list()"
   ]
  },
  {
   "cell_type": "code",
   "execution_count": null,
   "id": "229579da",
   "metadata": {},
   "outputs": [],
   "source": [
    "pipe_cat = Pipeline(steps = [\n",
    "    ('encoder', OneHotEncoder(handle_unknown='ignore'))\n",
    "])\n",
    "\n",
    "pipe_num = Pipeline(steps = [\n",
    "    ('yeo', PowerTransformer())\n",
    "])"
   ]
  },
  {
   "cell_type": "code",
   "execution_count": null,
   "id": "931fcfc7",
   "metadata": {},
   "outputs": [],
   "source": [
    "preprocess = ColumnTransformer(transformers = [\n",
    "    ('num', pipe_num, num_cols),\n",
    "    ('cat', pipe_cat, ['neighbourhood_group', 'room_type'])\n",
    "])"
   ]
  },
  {
   "cell_type": "code",
   "execution_count": null,
   "id": "074efe02",
   "metadata": {},
   "outputs": [],
   "source": [
    "model = Pipeline(steps = [\n",
    "    ('preprocessor',preprocess),\n",
    "    ('lgbm', LGBMRegressor())\n",
    "])"
   ]
  },
  {
   "cell_type": "code",
   "execution_count": null,
   "id": "5261a55d",
   "metadata": {},
   "outputs": [],
   "source": [
    "lgbm = model.fit(X_train, y_train)\n",
    "lgbm_pred = lgbm.predict(X_test)"
   ]
  },
  {
   "cell_type": "code",
   "execution_count": null,
   "id": "179c7f67",
   "metadata": {},
   "outputs": [],
   "source": [
    "print(f\"RMSE for LGBM: {mean_squared_error(y_test, lgbm_pred, squared=False)}\")"
   ]
  },
  {
   "cell_type": "markdown",
   "id": "0279e825",
   "metadata": {},
   "source": [
    "## Otimização dos parâmetros do modelo"
   ]
  },
  {
   "cell_type": "code",
   "execution_count": null,
   "id": "4955b835",
   "metadata": {},
   "outputs": [],
   "source": [
    "lgbm_grid = {\n",
    "    'lgbm__num_leaves': [7, 14, 21],\n",
    "    'lgbm__learning_rate': [0.1, 0.03, 0.003],\n",
    "    'lgbm__max_depth': [-1, 3, 5],\n",
    "    'lgbm__n_estimators': [200, 500, 1000]\n",
    "}"
   ]
  },
  {
   "cell_type": "code",
   "execution_count": null,
   "id": "2762de79",
   "metadata": {},
   "outputs": [],
   "source": [
    "lgbm_tune = RandomizedSearchCV(\n",
    "    model, \n",
    "    param_distributions = lgbm_grid,\n",
    "    cv = 3,\n",
    "    scoring = 'neg_root_mean_squared_error',\n",
    "    return_train_score = True,\n",
    "    verbose = 3,\n",
    "    random_state = 42\n",
    ")"
   ]
  },
  {
   "cell_type": "code",
   "execution_count": null,
   "id": "8ec1cd0e",
   "metadata": {},
   "outputs": [],
   "source": [
    "lgbm_tune.fit(X,y)"
   ]
  },
  {
   "cell_type": "code",
   "execution_count": null,
   "id": "edc3fa24",
   "metadata": {},
   "outputs": [],
   "source": [
    "lgbm_tune.best_estimator_"
   ]
  }
 ],
 "metadata": {
  "kernelspec": {
   "display_name": "Python 3",
   "language": "python",
   "name": "python3"
  },
  "language_info": {
   "codemirror_mode": {
    "name": "ipython",
    "version": 3
   },
   "file_extension": ".py",
   "mimetype": "text/x-python",
   "name": "python",
   "nbconvert_exporter": "python",
   "pygments_lexer": "ipython3",
   "version": "3.8.8"
  }
 },
 "nbformat": 4,
 "nbformat_minor": 5
}
