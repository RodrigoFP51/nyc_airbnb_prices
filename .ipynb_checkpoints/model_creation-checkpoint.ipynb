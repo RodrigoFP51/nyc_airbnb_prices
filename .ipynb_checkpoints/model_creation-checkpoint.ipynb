{
 "cells": [
  {
   "cell_type": "markdown",
   "id": "3473a182",
   "metadata": {},
   "source": [
    "## NYC Airbnb Price Prediction\n",
    "\n",
    "\n",
    "\n"
   ]
  },
  {
   "cell_type": "code",
   "execution_count": 1,
   "id": "354e7180",
   "metadata": {},
   "outputs": [],
   "source": [
    "import numpy as np \n",
    "import pandas as pd\n",
    "\n",
    "# from pycaret.regression import *\n",
    "\n",
    "from feature_engine.encoding import RareLabelEncoder\n",
    "\n",
    "from sklearn.feature_extraction.text import TfidfVectorizer\n",
    "from lightgbm import LGBMRegressor\n",
    "from sklearn.pipeline import Pipeline\n",
    "from sklearn.preprocessing import (\n",
    "OneHotEncoder, PowerTransformer, FunctionTransformer\n",
    ")\n",
    "\n",
    "from sklearn.compose import ColumnTransformer\n",
    "from sklearn.model_selection import (\n",
    "    KFold, RandomizedSearchCV, train_test_split\n",
    ")\n",
    "\n",
    "from sklearn.metrics import mean_squared_error, r2_score, mean_absolute_error"
   ]
  },
  {
   "cell_type": "code",
   "execution_count": 2,
   "id": "3d9beff8",
   "metadata": {},
   "outputs": [],
   "source": [
    "df = pd.read_csv(\"Data/airbnb_imputed.csv\")"
   ]
  },
  {
   "cell_type": "code",
   "execution_count": 3,
   "id": "11252d28",
   "metadata": {},
   "outputs": [
    {
     "data": {
      "text/html": [
       "<div>\n",
       "<style scoped>\n",
       "    .dataframe tbody tr th:only-of-type {\n",
       "        vertical-align: middle;\n",
       "    }\n",
       "\n",
       "    .dataframe tbody tr th {\n",
       "        vertical-align: top;\n",
       "    }\n",
       "\n",
       "    .dataframe thead th {\n",
       "        text-align: right;\n",
       "    }\n",
       "</style>\n",
       "<table border=\"1\" class=\"dataframe\">\n",
       "  <thead>\n",
       "    <tr style=\"text-align: right;\">\n",
       "      <th></th>\n",
       "      <th>id</th>\n",
       "      <th>host_id</th>\n",
       "      <th>latitude</th>\n",
       "      <th>longitude</th>\n",
       "      <th>price</th>\n",
       "      <th>minimum_nights</th>\n",
       "      <th>number_of_reviews</th>\n",
       "      <th>reviews_per_month</th>\n",
       "      <th>calculated_host_listings_count</th>\n",
       "      <th>availability_365</th>\n",
       "    </tr>\n",
       "  </thead>\n",
       "  <tbody>\n",
       "    <tr>\n",
       "      <th>count</th>\n",
       "      <td>3.420200e+04</td>\n",
       "      <td>3.420200e+04</td>\n",
       "      <td>34202.000000</td>\n",
       "      <td>34202.000000</td>\n",
       "      <td>34202.000000</td>\n",
       "      <td>34202.000000</td>\n",
       "      <td>34202.000000</td>\n",
       "      <td>34202.000000</td>\n",
       "      <td>34202.000000</td>\n",
       "      <td>34202.000000</td>\n",
       "    </tr>\n",
       "    <tr>\n",
       "      <th>mean</th>\n",
       "      <td>1.908988e+07</td>\n",
       "      <td>6.776159e+07</td>\n",
       "      <td>40.728840</td>\n",
       "      <td>-73.952123</td>\n",
       "      <td>152.040699</td>\n",
       "      <td>7.058213</td>\n",
       "      <td>23.204930</td>\n",
       "      <td>1.157316</td>\n",
       "      <td>7.180516</td>\n",
       "      <td>113.557862</td>\n",
       "    </tr>\n",
       "    <tr>\n",
       "      <th>std</th>\n",
       "      <td>1.098080e+07</td>\n",
       "      <td>7.876830e+07</td>\n",
       "      <td>0.054628</td>\n",
       "      <td>0.046084</td>\n",
       "      <td>234.546984</td>\n",
       "      <td>20.709473</td>\n",
       "      <td>44.327434</td>\n",
       "      <td>1.593326</td>\n",
       "      <td>32.970576</td>\n",
       "      <td>131.911958</td>\n",
       "    </tr>\n",
       "    <tr>\n",
       "      <th>min</th>\n",
       "      <td>2.539000e+03</td>\n",
       "      <td>2.438000e+03</td>\n",
       "      <td>40.506410</td>\n",
       "      <td>-74.242850</td>\n",
       "      <td>0.000000</td>\n",
       "      <td>1.000000</td>\n",
       "      <td>0.000000</td>\n",
       "      <td>0.010000</td>\n",
       "      <td>1.000000</td>\n",
       "      <td>0.000000</td>\n",
       "    </tr>\n",
       "    <tr>\n",
       "      <th>25%</th>\n",
       "      <td>9.512642e+06</td>\n",
       "      <td>7.858259e+06</td>\n",
       "      <td>40.689920</td>\n",
       "      <td>-73.983020</td>\n",
       "      <td>69.000000</td>\n",
       "      <td>1.000000</td>\n",
       "      <td>1.000000</td>\n",
       "      <td>0.120000</td>\n",
       "      <td>1.000000</td>\n",
       "      <td>0.000000</td>\n",
       "    </tr>\n",
       "    <tr>\n",
       "      <th>50%</th>\n",
       "      <td>1.976333e+07</td>\n",
       "      <td>3.087198e+07</td>\n",
       "      <td>40.722900</td>\n",
       "      <td>-73.955680</td>\n",
       "      <td>105.000000</td>\n",
       "      <td>3.000000</td>\n",
       "      <td>5.000000</td>\n",
       "      <td>0.510000</td>\n",
       "      <td>1.000000</td>\n",
       "      <td>46.000000</td>\n",
       "    </tr>\n",
       "    <tr>\n",
       "      <th>75%</th>\n",
       "      <td>2.922994e+07</td>\n",
       "      <td>1.074344e+08</td>\n",
       "      <td>40.763148</td>\n",
       "      <td>-73.936123</td>\n",
       "      <td>175.000000</td>\n",
       "      <td>5.000000</td>\n",
       "      <td>23.000000</td>\n",
       "      <td>1.590000</td>\n",
       "      <td>2.000000</td>\n",
       "      <td>230.000000</td>\n",
       "    </tr>\n",
       "    <tr>\n",
       "      <th>max</th>\n",
       "      <td>3.648724e+07</td>\n",
       "      <td>2.743213e+08</td>\n",
       "      <td>40.913060</td>\n",
       "      <td>-73.716900</td>\n",
       "      <td>10000.000000</td>\n",
       "      <td>1250.000000</td>\n",
       "      <td>629.000000</td>\n",
       "      <td>58.500000</td>\n",
       "      <td>327.000000</td>\n",
       "      <td>365.000000</td>\n",
       "    </tr>\n",
       "  </tbody>\n",
       "</table>\n",
       "</div>"
      ],
      "text/plain": [
       "                 id       host_id      latitude     longitude         price  \\\n",
       "count  3.420200e+04  3.420200e+04  34202.000000  34202.000000  34202.000000   \n",
       "mean   1.908988e+07  6.776159e+07     40.728840    -73.952123    152.040699   \n",
       "std    1.098080e+07  7.876830e+07      0.054628      0.046084    234.546984   \n",
       "min    2.539000e+03  2.438000e+03     40.506410    -74.242850      0.000000   \n",
       "25%    9.512642e+06  7.858259e+06     40.689920    -73.983020     69.000000   \n",
       "50%    1.976333e+07  3.087198e+07     40.722900    -73.955680    105.000000   \n",
       "75%    2.922994e+07  1.074344e+08     40.763148    -73.936123    175.000000   \n",
       "max    3.648724e+07  2.743213e+08     40.913060    -73.716900  10000.000000   \n",
       "\n",
       "       minimum_nights  number_of_reviews  reviews_per_month  \\\n",
       "count    34202.000000       34202.000000       34202.000000   \n",
       "mean         7.058213          23.204930           1.157316   \n",
       "std         20.709473          44.327434           1.593326   \n",
       "min          1.000000           0.000000           0.010000   \n",
       "25%          1.000000           1.000000           0.120000   \n",
       "50%          3.000000           5.000000           0.510000   \n",
       "75%          5.000000          23.000000           1.590000   \n",
       "max       1250.000000         629.000000          58.500000   \n",
       "\n",
       "       calculated_host_listings_count  availability_365  \n",
       "count                    34202.000000      34202.000000  \n",
       "mean                         7.180516        113.557862  \n",
       "std                         32.970576        131.911958  \n",
       "min                          1.000000          0.000000  \n",
       "25%                          1.000000          0.000000  \n",
       "50%                          1.000000         46.000000  \n",
       "75%                          2.000000        230.000000  \n",
       "max                        327.000000        365.000000  "
      ]
     },
     "execution_count": 3,
     "metadata": {},
     "output_type": "execute_result"
    }
   ],
   "source": [
    "df.describe()"
   ]
  },
  {
   "cell_type": "code",
   "execution_count": 4,
   "id": "9d0e40df",
   "metadata": {},
   "outputs": [
    {
     "data": {
      "text/html": [
       "<div>\n",
       "<style scoped>\n",
       "    .dataframe tbody tr th:only-of-type {\n",
       "        vertical-align: middle;\n",
       "    }\n",
       "\n",
       "    .dataframe tbody tr th {\n",
       "        vertical-align: top;\n",
       "    }\n",
       "\n",
       "    .dataframe thead th {\n",
       "        text-align: right;\n",
       "    }\n",
       "</style>\n",
       "<table border=\"1\" class=\"dataframe\">\n",
       "  <thead>\n",
       "    <tr style=\"text-align: right;\">\n",
       "      <th></th>\n",
       "      <th>name</th>\n",
       "      <th>host_name</th>\n",
       "      <th>neighbourhood_group</th>\n",
       "      <th>neighbourhood</th>\n",
       "      <th>room_type</th>\n",
       "      <th>last_review</th>\n",
       "    </tr>\n",
       "  </thead>\n",
       "  <tbody>\n",
       "    <tr>\n",
       "      <th>count</th>\n",
       "      <td>34202</td>\n",
       "      <td>34202</td>\n",
       "      <td>34202</td>\n",
       "      <td>34202</td>\n",
       "      <td>34202</td>\n",
       "      <td>34202</td>\n",
       "    </tr>\n",
       "    <tr>\n",
       "      <th>unique</th>\n",
       "      <td>33689</td>\n",
       "      <td>9149</td>\n",
       "      <td>5</td>\n",
       "      <td>217</td>\n",
       "      <td>3</td>\n",
       "      <td>1675</td>\n",
       "    </tr>\n",
       "    <tr>\n",
       "      <th>top</th>\n",
       "      <td>Hillside Hotel</td>\n",
       "      <td>Michael</td>\n",
       "      <td>Manhattan</td>\n",
       "      <td>Williamsburg</td>\n",
       "      <td>Entire home/apt</td>\n",
       "      <td>2019-06-23</td>\n",
       "    </tr>\n",
       "    <tr>\n",
       "      <th>freq</th>\n",
       "      <td>15</td>\n",
       "      <td>309</td>\n",
       "      <td>15134</td>\n",
       "      <td>2719</td>\n",
       "      <td>17801</td>\n",
       "      <td>1213</td>\n",
       "    </tr>\n",
       "  </tbody>\n",
       "</table>\n",
       "</div>"
      ],
      "text/plain": [
       "                  name host_name neighbourhood_group neighbourhood  \\\n",
       "count            34202     34202               34202         34202   \n",
       "unique           33689      9149                   5           217   \n",
       "top     Hillside Hotel   Michael           Manhattan  Williamsburg   \n",
       "freq                15       309               15134          2719   \n",
       "\n",
       "              room_type last_review  \n",
       "count             34202       34202  \n",
       "unique                3        1675  \n",
       "top     Entire home/apt  2019-06-23  \n",
       "freq              17801        1213  "
      ]
     },
     "execution_count": 4,
     "metadata": {},
     "output_type": "execute_result"
    }
   ],
   "source": [
    "df.describe(include='object')"
   ]
  },
  {
   "cell_type": "code",
   "execution_count": 16,
   "id": "cd875c9d",
   "metadata": {},
   "outputs": [
    {
     "name": "stdout",
     "output_type": "stream",
     "text": [
      "<class 'pandas.core.frame.DataFrame'>\n",
      "RangeIndex: 34202 entries, 0 to 34201\n",
      "Data columns (total 16 columns):\n",
      " #   Column                          Non-Null Count  Dtype         \n",
      "---  ------                          --------------  -----         \n",
      " 0   id                              34202 non-null  int64         \n",
      " 1   name                            34202 non-null  object        \n",
      " 2   host_id                         34202 non-null  int64         \n",
      " 3   host_name                       34202 non-null  object        \n",
      " 4   neighbourhood_group             34202 non-null  object        \n",
      " 5   neighbourhood                   34202 non-null  object        \n",
      " 6   latitude                        34202 non-null  float64       \n",
      " 7   longitude                       34202 non-null  float64       \n",
      " 8   room_type                       34202 non-null  object        \n",
      " 9   price                           34202 non-null  float64       \n",
      " 10  minimum_nights                  34202 non-null  int64         \n",
      " 11  number_of_reviews               34202 non-null  int64         \n",
      " 12  last_review                     34202 non-null  datetime64[ns]\n",
      " 13  reviews_per_month               34202 non-null  float64       \n",
      " 14  calculated_host_listings_count  34202 non-null  int64         \n",
      " 15  availability_365                34202 non-null  int64         \n",
      "dtypes: datetime64[ns](1), float64(4), int64(6), object(5)\n",
      "memory usage: 4.2+ MB\n"
     ]
    }
   ],
   "source": [
    "df.info()"
   ]
  },
  {
   "cell_type": "code",
   "execution_count": 18,
   "id": "d1e7bfed",
   "metadata": {},
   "outputs": [
    {
     "data": {
      "text/plain": [
       "id                                0\n",
       "name                              0\n",
       "host_id                           0\n",
       "host_name                         0\n",
       "neighbourhood_group               0\n",
       "neighbourhood                     0\n",
       "latitude                          0\n",
       "longitude                         0\n",
       "room_type                         0\n",
       "price                             0\n",
       "minimum_nights                    0\n",
       "number_of_reviews                 0\n",
       "last_review                       0\n",
       "reviews_per_month                 0\n",
       "calculated_host_listings_count    0\n",
       "availability_365                  0\n",
       "dtype: int64"
      ]
     },
     "execution_count": 18,
     "metadata": {},
     "output_type": "execute_result"
    }
   ],
   "source": [
    "df.isna().sum()"
   ]
  },
  {
   "cell_type": "code",
   "execution_count": 4,
   "id": "f599bef2",
   "metadata": {},
   "outputs": [],
   "source": [
    "df.query(\"price == 0\")\n",
    "df = df[df['price']>0]"
   ]
  },
  {
   "cell_type": "code",
   "execution_count": 5,
   "id": "d89d4a0d",
   "metadata": {},
   "outputs": [],
   "source": [
    "df['last_review'] = pd.to_datetime(df['last_review'])"
   ]
  },
  {
   "cell_type": "code",
   "execution_count": 6,
   "id": "651dab9c",
   "metadata": {},
   "outputs": [
    {
     "data": {
      "text/plain": [
       "id                                         int64\n",
       "name                                      object\n",
       "host_id                                    int64\n",
       "host_name                                 object\n",
       "neighbourhood_group                       object\n",
       "neighbourhood                             object\n",
       "latitude                                 float64\n",
       "longitude                                float64\n",
       "room_type                                 object\n",
       "price                                    float64\n",
       "minimum_nights                             int64\n",
       "number_of_reviews                          int64\n",
       "last_review                       datetime64[ns]\n",
       "reviews_per_month                        float64\n",
       "calculated_host_listings_count             int64\n",
       "availability_365                           int64\n",
       "dtype: object"
      ]
     },
     "execution_count": 6,
     "metadata": {},
     "output_type": "execute_result"
    }
   ],
   "source": [
    "df['price'] = df['price'].astype(\"float64\")\n",
    "df['name'] = df['name'].astype(\"str\")\n",
    "df.dtypes"
   ]
  },
  {
   "cell_type": "code",
   "execution_count": 45,
   "id": "dc74572f",
   "metadata": {},
   "outputs": [],
   "source": [
    "df['year'] = df.last_review.dt.year\n",
    "df['month'] = df.last_review.dt.month"
   ]
  },
  {
   "cell_type": "code",
   "execution_count": null,
   "id": "2a5b4c4d",
   "metadata": {},
   "outputs": [],
   "source": [
    "df_filtered = df\\\n",
    "    .drop(['host_id', 'host_name', 'neighbourhood', 'name', 'id', 'last_review'], axis = 1)\\\n",
    "    .dropna(axis = 1)\n"
   ]
  },
  {
   "cell_type": "code",
   "execution_count": null,
   "id": "c9229751",
   "metadata": {},
   "outputs": [],
   "source": [
    "setup = setup(data = df_filtered, target = \"price\", combine_rare_levels=True)"
   ]
  },
  {
   "cell_type": "code",
   "execution_count": null,
   "id": "fc5919e8",
   "metadata": {},
   "outputs": [],
   "source": [
    "models = compare_models(fold = 5, sort='rmse')\n",
    "models"
   ]
  },
  {
   "cell_type": "code",
   "execution_count": 47,
   "id": "20c0d636",
   "metadata": {},
   "outputs": [],
   "source": [
    "X = df.drop(['price', 'host_id', 'host_name', 'id', 'last_review'], axis = 1)\n",
    "y = df['price']\n",
    "\n",
    "num_cols = X.select_dtypes(include = np.number).columns.to_list()\n",
    "cat_cols = X.select_dtypes(exclude = np.number).drop(['name'], axis=1).columns.to_list()\n",
    "\n",
    "X_train, X_test, y_train, y_test = train_test_split(X, y, test_size=0.30, random_state=42)"
   ]
  },
  {
   "cell_type": "code",
   "execution_count": 48,
   "id": "229579da",
   "metadata": {},
   "outputs": [],
   "source": [
    "pipe_cat = Pipeline(steps = [\n",
    "    ('encoder', OneHotEncoder(handle_unknown='ignore'))\n",
    "])\n",
    "\n",
    "pipe_num = Pipeline(steps = [\n",
    "    ('yeo', PowerTransformer())\n",
    "])"
   ]
  },
  {
   "cell_type": "code",
   "execution_count": 49,
   "id": "931fcfc7",
   "metadata": {},
   "outputs": [],
   "source": [
    "preprocess = ColumnTransformer([\n",
    "    ('num', pipe_num, num_cols),\n",
    "    #('rare', RareLabelEncoder(max_n_categories=10), 'neighbourhood'),\n",
    "    ('text_vec', TfidfVectorizer(), 'name'),\n",
    "    ('cat', pipe_cat, ['neighbourhood_group', 'room_type'])\n",
    "])"
   ]
  },
  {
   "cell_type": "code",
   "execution_count": 50,
   "id": "074efe02",
   "metadata": {},
   "outputs": [],
   "source": [
    "model = Pipeline(steps = [\n",
    "    ('preprocessor', preprocess),\n",
    "    ('lgbm', LGBMRegressor())\n",
    "])"
   ]
  },
  {
   "cell_type": "code",
   "execution_count": 51,
   "id": "5261a55d",
   "metadata": {},
   "outputs": [
    {
     "name": "stderr",
     "output_type": "stream",
     "text": [
      "C:\\Users\\pessoal\\anaconda3\\lib\\site-packages\\sklearn\\preprocessing\\_data.py:3260: RuntimeWarning: overflow encountered in power\n",
      "  out[~pos] = -(np.power(-x[~pos] + 1, 2 - lmbda) - 1) / (2 - lmbda)\n",
      "C:\\Users\\pessoal\\anaconda3\\lib\\site-packages\\numpy\\core\\_methods.py:239: RuntimeWarning: overflow encountered in multiply\n",
      "  x = um.multiply(x, x, out=x)\n",
      "C:\\Users\\pessoal\\anaconda3\\lib\\site-packages\\numpy\\core\\_methods.py:250: RuntimeWarning: overflow encountered in reduce\n",
      "  ret = umr_sum(x, axis, dtype, out, keepdims=keepdims, where=where)\n",
      "C:\\Users\\pessoal\\anaconda3\\lib\\site-packages\\sklearn\\preprocessing\\_data.py:3256: RuntimeWarning: overflow encountered in power\n",
      "  out[pos] = (np.power(x[pos] + 1, lmbda) - 1) / lmbda\n"
     ]
    },
    {
     "ename": "ValueError",
     "evalue": "Input X contains infinity or a value too large for dtype('float64').",
     "output_type": "error",
     "traceback": [
      "\u001b[1;31m---------------------------------------------------------------------------\u001b[0m",
      "\u001b[1;31mValueError\u001b[0m                                Traceback (most recent call last)",
      "\u001b[1;32m<ipython-input-51-bfd0581c23b7>\u001b[0m in \u001b[0;36m<module>\u001b[1;34m\u001b[0m\n\u001b[1;32m----> 1\u001b[1;33m \u001b[0mlgbm\u001b[0m \u001b[1;33m=\u001b[0m \u001b[0mmodel\u001b[0m\u001b[1;33m.\u001b[0m\u001b[0mfit\u001b[0m\u001b[1;33m(\u001b[0m\u001b[0mX_train\u001b[0m\u001b[1;33m,\u001b[0m \u001b[0my_train\u001b[0m\u001b[1;33m)\u001b[0m\u001b[1;33m\u001b[0m\u001b[1;33m\u001b[0m\u001b[0m\n\u001b[0m\u001b[0;32m      2\u001b[0m \u001b[0mlgbm_pred\u001b[0m \u001b[1;33m=\u001b[0m \u001b[0mlgbm\u001b[0m\u001b[1;33m.\u001b[0m\u001b[0mpredict\u001b[0m\u001b[1;33m(\u001b[0m\u001b[0mX_test\u001b[0m\u001b[1;33m)\u001b[0m\u001b[1;33m\u001b[0m\u001b[1;33m\u001b[0m\u001b[0m\n",
      "\u001b[1;32m~\\anaconda3\\lib\\site-packages\\sklearn\\pipeline.py\u001b[0m in \u001b[0;36mfit\u001b[1;34m(self, X, y, **fit_params)\u001b[0m\n\u001b[0;32m    399\u001b[0m         \"\"\"\n\u001b[0;32m    400\u001b[0m         \u001b[0mfit_params_steps\u001b[0m \u001b[1;33m=\u001b[0m \u001b[0mself\u001b[0m\u001b[1;33m.\u001b[0m\u001b[0m_check_fit_params\u001b[0m\u001b[1;33m(\u001b[0m\u001b[1;33m**\u001b[0m\u001b[0mfit_params\u001b[0m\u001b[1;33m)\u001b[0m\u001b[1;33m\u001b[0m\u001b[1;33m\u001b[0m\u001b[0m\n\u001b[1;32m--> 401\u001b[1;33m         \u001b[0mXt\u001b[0m \u001b[1;33m=\u001b[0m \u001b[0mself\u001b[0m\u001b[1;33m.\u001b[0m\u001b[0m_fit\u001b[0m\u001b[1;33m(\u001b[0m\u001b[0mX\u001b[0m\u001b[1;33m,\u001b[0m \u001b[0my\u001b[0m\u001b[1;33m,\u001b[0m \u001b[1;33m**\u001b[0m\u001b[0mfit_params_steps\u001b[0m\u001b[1;33m)\u001b[0m\u001b[1;33m\u001b[0m\u001b[1;33m\u001b[0m\u001b[0m\n\u001b[0m\u001b[0;32m    402\u001b[0m         \u001b[1;32mwith\u001b[0m \u001b[0m_print_elapsed_time\u001b[0m\u001b[1;33m(\u001b[0m\u001b[1;34m\"Pipeline\"\u001b[0m\u001b[1;33m,\u001b[0m \u001b[0mself\u001b[0m\u001b[1;33m.\u001b[0m\u001b[0m_log_message\u001b[0m\u001b[1;33m(\u001b[0m\u001b[0mlen\u001b[0m\u001b[1;33m(\u001b[0m\u001b[0mself\u001b[0m\u001b[1;33m.\u001b[0m\u001b[0msteps\u001b[0m\u001b[1;33m)\u001b[0m \u001b[1;33m-\u001b[0m \u001b[1;36m1\u001b[0m\u001b[1;33m)\u001b[0m\u001b[1;33m)\u001b[0m\u001b[1;33m:\u001b[0m\u001b[1;33m\u001b[0m\u001b[1;33m\u001b[0m\u001b[0m\n\u001b[0;32m    403\u001b[0m             \u001b[1;32mif\u001b[0m \u001b[0mself\u001b[0m\u001b[1;33m.\u001b[0m\u001b[0m_final_estimator\u001b[0m \u001b[1;33m!=\u001b[0m \u001b[1;34m\"passthrough\"\u001b[0m\u001b[1;33m:\u001b[0m\u001b[1;33m\u001b[0m\u001b[1;33m\u001b[0m\u001b[0m\n",
      "\u001b[1;32m~\\anaconda3\\lib\\site-packages\\sklearn\\pipeline.py\u001b[0m in \u001b[0;36m_fit\u001b[1;34m(self, X, y, **fit_params_steps)\u001b[0m\n\u001b[0;32m    357\u001b[0m                 \u001b[0mcloned_transformer\u001b[0m \u001b[1;33m=\u001b[0m \u001b[0mclone\u001b[0m\u001b[1;33m(\u001b[0m\u001b[0mtransformer\u001b[0m\u001b[1;33m)\u001b[0m\u001b[1;33m\u001b[0m\u001b[1;33m\u001b[0m\u001b[0m\n\u001b[0;32m    358\u001b[0m             \u001b[1;31m# Fit or load from cache the current transformer\u001b[0m\u001b[1;33m\u001b[0m\u001b[1;33m\u001b[0m\u001b[1;33m\u001b[0m\u001b[0m\n\u001b[1;32m--> 359\u001b[1;33m             X, fitted_transformer = fit_transform_one_cached(\n\u001b[0m\u001b[0;32m    360\u001b[0m                 \u001b[0mcloned_transformer\u001b[0m\u001b[1;33m,\u001b[0m\u001b[1;33m\u001b[0m\u001b[1;33m\u001b[0m\u001b[0m\n\u001b[0;32m    361\u001b[0m                 \u001b[0mX\u001b[0m\u001b[1;33m,\u001b[0m\u001b[1;33m\u001b[0m\u001b[1;33m\u001b[0m\u001b[0m\n",
      "\u001b[1;32m~\\anaconda3\\lib\\site-packages\\joblib\\memory.py\u001b[0m in \u001b[0;36m__call__\u001b[1;34m(self, *args, **kwargs)\u001b[0m\n\u001b[0;32m    347\u001b[0m \u001b[1;33m\u001b[0m\u001b[0m\n\u001b[0;32m    348\u001b[0m     \u001b[1;32mdef\u001b[0m \u001b[0m__call__\u001b[0m\u001b[1;33m(\u001b[0m\u001b[0mself\u001b[0m\u001b[1;33m,\u001b[0m \u001b[1;33m*\u001b[0m\u001b[0margs\u001b[0m\u001b[1;33m,\u001b[0m \u001b[1;33m**\u001b[0m\u001b[0mkwargs\u001b[0m\u001b[1;33m)\u001b[0m\u001b[1;33m:\u001b[0m\u001b[1;33m\u001b[0m\u001b[1;33m\u001b[0m\u001b[0m\n\u001b[1;32m--> 349\u001b[1;33m         \u001b[1;32mreturn\u001b[0m \u001b[0mself\u001b[0m\u001b[1;33m.\u001b[0m\u001b[0mfunc\u001b[0m\u001b[1;33m(\u001b[0m\u001b[1;33m*\u001b[0m\u001b[0margs\u001b[0m\u001b[1;33m,\u001b[0m \u001b[1;33m**\u001b[0m\u001b[0mkwargs\u001b[0m\u001b[1;33m)\u001b[0m\u001b[1;33m\u001b[0m\u001b[1;33m\u001b[0m\u001b[0m\n\u001b[0m\u001b[0;32m    350\u001b[0m \u001b[1;33m\u001b[0m\u001b[0m\n\u001b[0;32m    351\u001b[0m     \u001b[1;32mdef\u001b[0m \u001b[0mcall_and_shelve\u001b[0m\u001b[1;33m(\u001b[0m\u001b[0mself\u001b[0m\u001b[1;33m,\u001b[0m \u001b[1;33m*\u001b[0m\u001b[0margs\u001b[0m\u001b[1;33m,\u001b[0m \u001b[1;33m**\u001b[0m\u001b[0mkwargs\u001b[0m\u001b[1;33m)\u001b[0m\u001b[1;33m:\u001b[0m\u001b[1;33m\u001b[0m\u001b[1;33m\u001b[0m\u001b[0m\n",
      "\u001b[1;32m~\\anaconda3\\lib\\site-packages\\sklearn\\pipeline.py\u001b[0m in \u001b[0;36m_fit_transform_one\u001b[1;34m(transformer, X, y, weight, message_clsname, message, **fit_params)\u001b[0m\n\u001b[0;32m    891\u001b[0m     \u001b[1;32mwith\u001b[0m \u001b[0m_print_elapsed_time\u001b[0m\u001b[1;33m(\u001b[0m\u001b[0mmessage_clsname\u001b[0m\u001b[1;33m,\u001b[0m \u001b[0mmessage\u001b[0m\u001b[1;33m)\u001b[0m\u001b[1;33m:\u001b[0m\u001b[1;33m\u001b[0m\u001b[1;33m\u001b[0m\u001b[0m\n\u001b[0;32m    892\u001b[0m         \u001b[1;32mif\u001b[0m \u001b[0mhasattr\u001b[0m\u001b[1;33m(\u001b[0m\u001b[0mtransformer\u001b[0m\u001b[1;33m,\u001b[0m \u001b[1;34m\"fit_transform\"\u001b[0m\u001b[1;33m)\u001b[0m\u001b[1;33m:\u001b[0m\u001b[1;33m\u001b[0m\u001b[1;33m\u001b[0m\u001b[0m\n\u001b[1;32m--> 893\u001b[1;33m             \u001b[0mres\u001b[0m \u001b[1;33m=\u001b[0m \u001b[0mtransformer\u001b[0m\u001b[1;33m.\u001b[0m\u001b[0mfit_transform\u001b[0m\u001b[1;33m(\u001b[0m\u001b[0mX\u001b[0m\u001b[1;33m,\u001b[0m \u001b[0my\u001b[0m\u001b[1;33m,\u001b[0m \u001b[1;33m**\u001b[0m\u001b[0mfit_params\u001b[0m\u001b[1;33m)\u001b[0m\u001b[1;33m\u001b[0m\u001b[1;33m\u001b[0m\u001b[0m\n\u001b[0m\u001b[0;32m    894\u001b[0m         \u001b[1;32melse\u001b[0m\u001b[1;33m:\u001b[0m\u001b[1;33m\u001b[0m\u001b[1;33m\u001b[0m\u001b[0m\n\u001b[0;32m    895\u001b[0m             \u001b[0mres\u001b[0m \u001b[1;33m=\u001b[0m \u001b[0mtransformer\u001b[0m\u001b[1;33m.\u001b[0m\u001b[0mfit\u001b[0m\u001b[1;33m(\u001b[0m\u001b[0mX\u001b[0m\u001b[1;33m,\u001b[0m \u001b[0my\u001b[0m\u001b[1;33m,\u001b[0m \u001b[1;33m**\u001b[0m\u001b[0mfit_params\u001b[0m\u001b[1;33m)\u001b[0m\u001b[1;33m.\u001b[0m\u001b[0mtransform\u001b[0m\u001b[1;33m(\u001b[0m\u001b[0mX\u001b[0m\u001b[1;33m)\u001b[0m\u001b[1;33m\u001b[0m\u001b[1;33m\u001b[0m\u001b[0m\n",
      "\u001b[1;32m~\\anaconda3\\lib\\site-packages\\sklearn\\utils\\_set_output.py\u001b[0m in \u001b[0;36mwrapped\u001b[1;34m(self, X, *args, **kwargs)\u001b[0m\n\u001b[0;32m    140\u001b[0m     \u001b[1;33m@\u001b[0m\u001b[0mwraps\u001b[0m\u001b[1;33m(\u001b[0m\u001b[0mf\u001b[0m\u001b[1;33m)\u001b[0m\u001b[1;33m\u001b[0m\u001b[1;33m\u001b[0m\u001b[0m\n\u001b[0;32m    141\u001b[0m     \u001b[1;32mdef\u001b[0m \u001b[0mwrapped\u001b[0m\u001b[1;33m(\u001b[0m\u001b[0mself\u001b[0m\u001b[1;33m,\u001b[0m \u001b[0mX\u001b[0m\u001b[1;33m,\u001b[0m \u001b[1;33m*\u001b[0m\u001b[0margs\u001b[0m\u001b[1;33m,\u001b[0m \u001b[1;33m**\u001b[0m\u001b[0mkwargs\u001b[0m\u001b[1;33m)\u001b[0m\u001b[1;33m:\u001b[0m\u001b[1;33m\u001b[0m\u001b[1;33m\u001b[0m\u001b[0m\n\u001b[1;32m--> 142\u001b[1;33m         \u001b[0mdata_to_wrap\u001b[0m \u001b[1;33m=\u001b[0m \u001b[0mf\u001b[0m\u001b[1;33m(\u001b[0m\u001b[0mself\u001b[0m\u001b[1;33m,\u001b[0m \u001b[0mX\u001b[0m\u001b[1;33m,\u001b[0m \u001b[1;33m*\u001b[0m\u001b[0margs\u001b[0m\u001b[1;33m,\u001b[0m \u001b[1;33m**\u001b[0m\u001b[0mkwargs\u001b[0m\u001b[1;33m)\u001b[0m\u001b[1;33m\u001b[0m\u001b[1;33m\u001b[0m\u001b[0m\n\u001b[0m\u001b[0;32m    143\u001b[0m         \u001b[1;32mif\u001b[0m \u001b[0misinstance\u001b[0m\u001b[1;33m(\u001b[0m\u001b[0mdata_to_wrap\u001b[0m\u001b[1;33m,\u001b[0m \u001b[0mtuple\u001b[0m\u001b[1;33m)\u001b[0m\u001b[1;33m:\u001b[0m\u001b[1;33m\u001b[0m\u001b[1;33m\u001b[0m\u001b[0m\n\u001b[0;32m    144\u001b[0m             \u001b[1;31m# only wrap the first output for cross decomposition\u001b[0m\u001b[1;33m\u001b[0m\u001b[1;33m\u001b[0m\u001b[1;33m\u001b[0m\u001b[0m\n",
      "\u001b[1;32m~\\anaconda3\\lib\\site-packages\\sklearn\\compose\\_column_transformer.py\u001b[0m in \u001b[0;36mfit_transform\u001b[1;34m(self, X, y)\u001b[0m\n\u001b[0;32m    725\u001b[0m         \u001b[0mself\u001b[0m\u001b[1;33m.\u001b[0m\u001b[0m_validate_remainder\u001b[0m\u001b[1;33m(\u001b[0m\u001b[0mX\u001b[0m\u001b[1;33m)\u001b[0m\u001b[1;33m\u001b[0m\u001b[1;33m\u001b[0m\u001b[0m\n\u001b[0;32m    726\u001b[0m \u001b[1;33m\u001b[0m\u001b[0m\n\u001b[1;32m--> 727\u001b[1;33m         \u001b[0mresult\u001b[0m \u001b[1;33m=\u001b[0m \u001b[0mself\u001b[0m\u001b[1;33m.\u001b[0m\u001b[0m_fit_transform\u001b[0m\u001b[1;33m(\u001b[0m\u001b[0mX\u001b[0m\u001b[1;33m,\u001b[0m \u001b[0my\u001b[0m\u001b[1;33m,\u001b[0m \u001b[0m_fit_transform_one\u001b[0m\u001b[1;33m)\u001b[0m\u001b[1;33m\u001b[0m\u001b[1;33m\u001b[0m\u001b[0m\n\u001b[0m\u001b[0;32m    728\u001b[0m \u001b[1;33m\u001b[0m\u001b[0m\n\u001b[0;32m    729\u001b[0m         \u001b[1;32mif\u001b[0m \u001b[1;32mnot\u001b[0m \u001b[0mresult\u001b[0m\u001b[1;33m:\u001b[0m\u001b[1;33m\u001b[0m\u001b[1;33m\u001b[0m\u001b[0m\n",
      "\u001b[1;32m~\\anaconda3\\lib\\site-packages\\sklearn\\compose\\_column_transformer.py\u001b[0m in \u001b[0;36m_fit_transform\u001b[1;34m(self, X, y, func, fitted, column_as_strings)\u001b[0m\n\u001b[0;32m    656\u001b[0m         )\n\u001b[0;32m    657\u001b[0m         \u001b[1;32mtry\u001b[0m\u001b[1;33m:\u001b[0m\u001b[1;33m\u001b[0m\u001b[1;33m\u001b[0m\u001b[0m\n\u001b[1;32m--> 658\u001b[1;33m             return Parallel(n_jobs=self.n_jobs)(\n\u001b[0m\u001b[0;32m    659\u001b[0m                 delayed(func)(\n\u001b[0;32m    660\u001b[0m                     \u001b[0mtransformer\u001b[0m\u001b[1;33m=\u001b[0m\u001b[0mclone\u001b[0m\u001b[1;33m(\u001b[0m\u001b[0mtrans\u001b[0m\u001b[1;33m)\u001b[0m \u001b[1;32mif\u001b[0m \u001b[1;32mnot\u001b[0m \u001b[0mfitted\u001b[0m \u001b[1;32melse\u001b[0m \u001b[0mtrans\u001b[0m\u001b[1;33m,\u001b[0m\u001b[1;33m\u001b[0m\u001b[1;33m\u001b[0m\u001b[0m\n",
      "\u001b[1;32m~\\anaconda3\\lib\\site-packages\\sklearn\\utils\\parallel.py\u001b[0m in \u001b[0;36m__call__\u001b[1;34m(self, iterable)\u001b[0m\n\u001b[0;32m     61\u001b[0m             \u001b[1;32mfor\u001b[0m \u001b[0mdelayed_func\u001b[0m\u001b[1;33m,\u001b[0m \u001b[0margs\u001b[0m\u001b[1;33m,\u001b[0m \u001b[0mkwargs\u001b[0m \u001b[1;32min\u001b[0m \u001b[0miterable\u001b[0m\u001b[1;33m\u001b[0m\u001b[1;33m\u001b[0m\u001b[0m\n\u001b[0;32m     62\u001b[0m         )\n\u001b[1;32m---> 63\u001b[1;33m         \u001b[1;32mreturn\u001b[0m \u001b[0msuper\u001b[0m\u001b[1;33m(\u001b[0m\u001b[1;33m)\u001b[0m\u001b[1;33m.\u001b[0m\u001b[0m__call__\u001b[0m\u001b[1;33m(\u001b[0m\u001b[0miterable_with_config\u001b[0m\u001b[1;33m)\u001b[0m\u001b[1;33m\u001b[0m\u001b[1;33m\u001b[0m\u001b[0m\n\u001b[0m\u001b[0;32m     64\u001b[0m \u001b[1;33m\u001b[0m\u001b[0m\n\u001b[0;32m     65\u001b[0m \u001b[1;33m\u001b[0m\u001b[0m\n",
      "\u001b[1;32m~\\anaconda3\\lib\\site-packages\\joblib\\parallel.py\u001b[0m in \u001b[0;36m__call__\u001b[1;34m(self, iterable)\u001b[0m\n\u001b[0;32m   1083\u001b[0m             \u001b[1;31m# remaining jobs.\u001b[0m\u001b[1;33m\u001b[0m\u001b[1;33m\u001b[0m\u001b[1;33m\u001b[0m\u001b[0m\n\u001b[0;32m   1084\u001b[0m             \u001b[0mself\u001b[0m\u001b[1;33m.\u001b[0m\u001b[0m_iterating\u001b[0m \u001b[1;33m=\u001b[0m \u001b[1;32mFalse\u001b[0m\u001b[1;33m\u001b[0m\u001b[1;33m\u001b[0m\u001b[0m\n\u001b[1;32m-> 1085\u001b[1;33m             \u001b[1;32mif\u001b[0m \u001b[0mself\u001b[0m\u001b[1;33m.\u001b[0m\u001b[0mdispatch_one_batch\u001b[0m\u001b[1;33m(\u001b[0m\u001b[0miterator\u001b[0m\u001b[1;33m)\u001b[0m\u001b[1;33m:\u001b[0m\u001b[1;33m\u001b[0m\u001b[1;33m\u001b[0m\u001b[0m\n\u001b[0m\u001b[0;32m   1086\u001b[0m                 \u001b[0mself\u001b[0m\u001b[1;33m.\u001b[0m\u001b[0m_iterating\u001b[0m \u001b[1;33m=\u001b[0m \u001b[0mself\u001b[0m\u001b[1;33m.\u001b[0m\u001b[0m_original_iterator\u001b[0m \u001b[1;32mis\u001b[0m \u001b[1;32mnot\u001b[0m \u001b[1;32mNone\u001b[0m\u001b[1;33m\u001b[0m\u001b[1;33m\u001b[0m\u001b[0m\n\u001b[0;32m   1087\u001b[0m \u001b[1;33m\u001b[0m\u001b[0m\n",
      "\u001b[1;32m~\\anaconda3\\lib\\site-packages\\joblib\\parallel.py\u001b[0m in \u001b[0;36mdispatch_one_batch\u001b[1;34m(self, iterator)\u001b[0m\n\u001b[0;32m    899\u001b[0m                 \u001b[1;32mreturn\u001b[0m \u001b[1;32mFalse\u001b[0m\u001b[1;33m\u001b[0m\u001b[1;33m\u001b[0m\u001b[0m\n\u001b[0;32m    900\u001b[0m             \u001b[1;32melse\u001b[0m\u001b[1;33m:\u001b[0m\u001b[1;33m\u001b[0m\u001b[1;33m\u001b[0m\u001b[0m\n\u001b[1;32m--> 901\u001b[1;33m                 \u001b[0mself\u001b[0m\u001b[1;33m.\u001b[0m\u001b[0m_dispatch\u001b[0m\u001b[1;33m(\u001b[0m\u001b[0mtasks\u001b[0m\u001b[1;33m)\u001b[0m\u001b[1;33m\u001b[0m\u001b[1;33m\u001b[0m\u001b[0m\n\u001b[0m\u001b[0;32m    902\u001b[0m                 \u001b[1;32mreturn\u001b[0m \u001b[1;32mTrue\u001b[0m\u001b[1;33m\u001b[0m\u001b[1;33m\u001b[0m\u001b[0m\n\u001b[0;32m    903\u001b[0m \u001b[1;33m\u001b[0m\u001b[0m\n",
      "\u001b[1;32m~\\anaconda3\\lib\\site-packages\\joblib\\parallel.py\u001b[0m in \u001b[0;36m_dispatch\u001b[1;34m(self, batch)\u001b[0m\n\u001b[0;32m    817\u001b[0m         \u001b[1;32mwith\u001b[0m \u001b[0mself\u001b[0m\u001b[1;33m.\u001b[0m\u001b[0m_lock\u001b[0m\u001b[1;33m:\u001b[0m\u001b[1;33m\u001b[0m\u001b[1;33m\u001b[0m\u001b[0m\n\u001b[0;32m    818\u001b[0m             \u001b[0mjob_idx\u001b[0m \u001b[1;33m=\u001b[0m \u001b[0mlen\u001b[0m\u001b[1;33m(\u001b[0m\u001b[0mself\u001b[0m\u001b[1;33m.\u001b[0m\u001b[0m_jobs\u001b[0m\u001b[1;33m)\u001b[0m\u001b[1;33m\u001b[0m\u001b[1;33m\u001b[0m\u001b[0m\n\u001b[1;32m--> 819\u001b[1;33m             \u001b[0mjob\u001b[0m \u001b[1;33m=\u001b[0m \u001b[0mself\u001b[0m\u001b[1;33m.\u001b[0m\u001b[0m_backend\u001b[0m\u001b[1;33m.\u001b[0m\u001b[0mapply_async\u001b[0m\u001b[1;33m(\u001b[0m\u001b[0mbatch\u001b[0m\u001b[1;33m,\u001b[0m \u001b[0mcallback\u001b[0m\u001b[1;33m=\u001b[0m\u001b[0mcb\u001b[0m\u001b[1;33m)\u001b[0m\u001b[1;33m\u001b[0m\u001b[1;33m\u001b[0m\u001b[0m\n\u001b[0m\u001b[0;32m    820\u001b[0m             \u001b[1;31m# A job can complete so quickly than its callback is\u001b[0m\u001b[1;33m\u001b[0m\u001b[1;33m\u001b[0m\u001b[1;33m\u001b[0m\u001b[0m\n\u001b[0;32m    821\u001b[0m             \u001b[1;31m# called before we get here, causing self._jobs to\u001b[0m\u001b[1;33m\u001b[0m\u001b[1;33m\u001b[0m\u001b[1;33m\u001b[0m\u001b[0m\n",
      "\u001b[1;32m~\\anaconda3\\lib\\site-packages\\joblib\\_parallel_backends.py\u001b[0m in \u001b[0;36mapply_async\u001b[1;34m(self, func, callback)\u001b[0m\n\u001b[0;32m    206\u001b[0m     \u001b[1;32mdef\u001b[0m \u001b[0mapply_async\u001b[0m\u001b[1;33m(\u001b[0m\u001b[0mself\u001b[0m\u001b[1;33m,\u001b[0m \u001b[0mfunc\u001b[0m\u001b[1;33m,\u001b[0m \u001b[0mcallback\u001b[0m\u001b[1;33m=\u001b[0m\u001b[1;32mNone\u001b[0m\u001b[1;33m)\u001b[0m\u001b[1;33m:\u001b[0m\u001b[1;33m\u001b[0m\u001b[1;33m\u001b[0m\u001b[0m\n\u001b[0;32m    207\u001b[0m         \u001b[1;34m\"\"\"Schedule a func to be run\"\"\"\u001b[0m\u001b[1;33m\u001b[0m\u001b[1;33m\u001b[0m\u001b[0m\n\u001b[1;32m--> 208\u001b[1;33m         \u001b[0mresult\u001b[0m \u001b[1;33m=\u001b[0m \u001b[0mImmediateResult\u001b[0m\u001b[1;33m(\u001b[0m\u001b[0mfunc\u001b[0m\u001b[1;33m)\u001b[0m\u001b[1;33m\u001b[0m\u001b[1;33m\u001b[0m\u001b[0m\n\u001b[0m\u001b[0;32m    209\u001b[0m         \u001b[1;32mif\u001b[0m \u001b[0mcallback\u001b[0m\u001b[1;33m:\u001b[0m\u001b[1;33m\u001b[0m\u001b[1;33m\u001b[0m\u001b[0m\n\u001b[0;32m    210\u001b[0m             \u001b[0mcallback\u001b[0m\u001b[1;33m(\u001b[0m\u001b[0mresult\u001b[0m\u001b[1;33m)\u001b[0m\u001b[1;33m\u001b[0m\u001b[1;33m\u001b[0m\u001b[0m\n",
      "\u001b[1;32m~\\anaconda3\\lib\\site-packages\\joblib\\_parallel_backends.py\u001b[0m in \u001b[0;36m__init__\u001b[1;34m(self, batch)\u001b[0m\n\u001b[0;32m    595\u001b[0m         \u001b[1;31m# Don't delay the application, to avoid keeping the input\u001b[0m\u001b[1;33m\u001b[0m\u001b[1;33m\u001b[0m\u001b[1;33m\u001b[0m\u001b[0m\n\u001b[0;32m    596\u001b[0m         \u001b[1;31m# arguments in memory\u001b[0m\u001b[1;33m\u001b[0m\u001b[1;33m\u001b[0m\u001b[1;33m\u001b[0m\u001b[0m\n\u001b[1;32m--> 597\u001b[1;33m         \u001b[0mself\u001b[0m\u001b[1;33m.\u001b[0m\u001b[0mresults\u001b[0m \u001b[1;33m=\u001b[0m \u001b[0mbatch\u001b[0m\u001b[1;33m(\u001b[0m\u001b[1;33m)\u001b[0m\u001b[1;33m\u001b[0m\u001b[1;33m\u001b[0m\u001b[0m\n\u001b[0m\u001b[0;32m    598\u001b[0m \u001b[1;33m\u001b[0m\u001b[0m\n\u001b[0;32m    599\u001b[0m     \u001b[1;32mdef\u001b[0m \u001b[0mget\u001b[0m\u001b[1;33m(\u001b[0m\u001b[0mself\u001b[0m\u001b[1;33m)\u001b[0m\u001b[1;33m:\u001b[0m\u001b[1;33m\u001b[0m\u001b[1;33m\u001b[0m\u001b[0m\n",
      "\u001b[1;32m~\\anaconda3\\lib\\site-packages\\joblib\\parallel.py\u001b[0m in \u001b[0;36m__call__\u001b[1;34m(self)\u001b[0m\n\u001b[0;32m    286\u001b[0m         \u001b[1;31m# change the default number of processes to -1\u001b[0m\u001b[1;33m\u001b[0m\u001b[1;33m\u001b[0m\u001b[1;33m\u001b[0m\u001b[0m\n\u001b[0;32m    287\u001b[0m         \u001b[1;32mwith\u001b[0m \u001b[0mparallel_backend\u001b[0m\u001b[1;33m(\u001b[0m\u001b[0mself\u001b[0m\u001b[1;33m.\u001b[0m\u001b[0m_backend\u001b[0m\u001b[1;33m,\u001b[0m \u001b[0mn_jobs\u001b[0m\u001b[1;33m=\u001b[0m\u001b[0mself\u001b[0m\u001b[1;33m.\u001b[0m\u001b[0m_n_jobs\u001b[0m\u001b[1;33m)\u001b[0m\u001b[1;33m:\u001b[0m\u001b[1;33m\u001b[0m\u001b[1;33m\u001b[0m\u001b[0m\n\u001b[1;32m--> 288\u001b[1;33m             return [func(*args, **kwargs)\n\u001b[0m\u001b[0;32m    289\u001b[0m                     for func, args, kwargs in self.items]\n\u001b[0;32m    290\u001b[0m \u001b[1;33m\u001b[0m\u001b[0m\n",
      "\u001b[1;32m~\\anaconda3\\lib\\site-packages\\joblib\\parallel.py\u001b[0m in \u001b[0;36m<listcomp>\u001b[1;34m(.0)\u001b[0m\n\u001b[0;32m    286\u001b[0m         \u001b[1;31m# change the default number of processes to -1\u001b[0m\u001b[1;33m\u001b[0m\u001b[1;33m\u001b[0m\u001b[1;33m\u001b[0m\u001b[0m\n\u001b[0;32m    287\u001b[0m         \u001b[1;32mwith\u001b[0m \u001b[0mparallel_backend\u001b[0m\u001b[1;33m(\u001b[0m\u001b[0mself\u001b[0m\u001b[1;33m.\u001b[0m\u001b[0m_backend\u001b[0m\u001b[1;33m,\u001b[0m \u001b[0mn_jobs\u001b[0m\u001b[1;33m=\u001b[0m\u001b[0mself\u001b[0m\u001b[1;33m.\u001b[0m\u001b[0m_n_jobs\u001b[0m\u001b[1;33m)\u001b[0m\u001b[1;33m:\u001b[0m\u001b[1;33m\u001b[0m\u001b[1;33m\u001b[0m\u001b[0m\n\u001b[1;32m--> 288\u001b[1;33m             return [func(*args, **kwargs)\n\u001b[0m\u001b[0;32m    289\u001b[0m                     for func, args, kwargs in self.items]\n\u001b[0;32m    290\u001b[0m \u001b[1;33m\u001b[0m\u001b[0m\n",
      "\u001b[1;32m~\\anaconda3\\lib\\site-packages\\sklearn\\utils\\parallel.py\u001b[0m in \u001b[0;36m__call__\u001b[1;34m(self, *args, **kwargs)\u001b[0m\n\u001b[0;32m    121\u001b[0m             \u001b[0mconfig\u001b[0m \u001b[1;33m=\u001b[0m \u001b[1;33m{\u001b[0m\u001b[1;33m}\u001b[0m\u001b[1;33m\u001b[0m\u001b[1;33m\u001b[0m\u001b[0m\n\u001b[0;32m    122\u001b[0m         \u001b[1;32mwith\u001b[0m \u001b[0mconfig_context\u001b[0m\u001b[1;33m(\u001b[0m\u001b[1;33m**\u001b[0m\u001b[0mconfig\u001b[0m\u001b[1;33m)\u001b[0m\u001b[1;33m:\u001b[0m\u001b[1;33m\u001b[0m\u001b[1;33m\u001b[0m\u001b[0m\n\u001b[1;32m--> 123\u001b[1;33m             \u001b[1;32mreturn\u001b[0m \u001b[0mself\u001b[0m\u001b[1;33m.\u001b[0m\u001b[0mfunction\u001b[0m\u001b[1;33m(\u001b[0m\u001b[1;33m*\u001b[0m\u001b[0margs\u001b[0m\u001b[1;33m,\u001b[0m \u001b[1;33m**\u001b[0m\u001b[0mkwargs\u001b[0m\u001b[1;33m)\u001b[0m\u001b[1;33m\u001b[0m\u001b[1;33m\u001b[0m\u001b[0m\n\u001b[0m",
      "\u001b[1;32m~\\anaconda3\\lib\\site-packages\\sklearn\\pipeline.py\u001b[0m in \u001b[0;36m_fit_transform_one\u001b[1;34m(transformer, X, y, weight, message_clsname, message, **fit_params)\u001b[0m\n\u001b[0;32m    891\u001b[0m     \u001b[1;32mwith\u001b[0m \u001b[0m_print_elapsed_time\u001b[0m\u001b[1;33m(\u001b[0m\u001b[0mmessage_clsname\u001b[0m\u001b[1;33m,\u001b[0m \u001b[0mmessage\u001b[0m\u001b[1;33m)\u001b[0m\u001b[1;33m:\u001b[0m\u001b[1;33m\u001b[0m\u001b[1;33m\u001b[0m\u001b[0m\n\u001b[0;32m    892\u001b[0m         \u001b[1;32mif\u001b[0m \u001b[0mhasattr\u001b[0m\u001b[1;33m(\u001b[0m\u001b[0mtransformer\u001b[0m\u001b[1;33m,\u001b[0m \u001b[1;34m\"fit_transform\"\u001b[0m\u001b[1;33m)\u001b[0m\u001b[1;33m:\u001b[0m\u001b[1;33m\u001b[0m\u001b[1;33m\u001b[0m\u001b[0m\n\u001b[1;32m--> 893\u001b[1;33m             \u001b[0mres\u001b[0m \u001b[1;33m=\u001b[0m \u001b[0mtransformer\u001b[0m\u001b[1;33m.\u001b[0m\u001b[0mfit_transform\u001b[0m\u001b[1;33m(\u001b[0m\u001b[0mX\u001b[0m\u001b[1;33m,\u001b[0m \u001b[0my\u001b[0m\u001b[1;33m,\u001b[0m \u001b[1;33m**\u001b[0m\u001b[0mfit_params\u001b[0m\u001b[1;33m)\u001b[0m\u001b[1;33m\u001b[0m\u001b[1;33m\u001b[0m\u001b[0m\n\u001b[0m\u001b[0;32m    894\u001b[0m         \u001b[1;32melse\u001b[0m\u001b[1;33m:\u001b[0m\u001b[1;33m\u001b[0m\u001b[1;33m\u001b[0m\u001b[0m\n\u001b[0;32m    895\u001b[0m             \u001b[0mres\u001b[0m \u001b[1;33m=\u001b[0m \u001b[0mtransformer\u001b[0m\u001b[1;33m.\u001b[0m\u001b[0mfit\u001b[0m\u001b[1;33m(\u001b[0m\u001b[0mX\u001b[0m\u001b[1;33m,\u001b[0m \u001b[0my\u001b[0m\u001b[1;33m,\u001b[0m \u001b[1;33m**\u001b[0m\u001b[0mfit_params\u001b[0m\u001b[1;33m)\u001b[0m\u001b[1;33m.\u001b[0m\u001b[0mtransform\u001b[0m\u001b[1;33m(\u001b[0m\u001b[0mX\u001b[0m\u001b[1;33m)\u001b[0m\u001b[1;33m\u001b[0m\u001b[1;33m\u001b[0m\u001b[0m\n",
      "\u001b[1;32m~\\anaconda3\\lib\\site-packages\\sklearn\\pipeline.py\u001b[0m in \u001b[0;36mfit_transform\u001b[1;34m(self, X, y, **fit_params)\u001b[0m\n\u001b[0;32m    443\u001b[0m             \u001b[0mfit_params_last_step\u001b[0m \u001b[1;33m=\u001b[0m \u001b[0mfit_params_steps\u001b[0m\u001b[1;33m[\u001b[0m\u001b[0mself\u001b[0m\u001b[1;33m.\u001b[0m\u001b[0msteps\u001b[0m\u001b[1;33m[\u001b[0m\u001b[1;33m-\u001b[0m\u001b[1;36m1\u001b[0m\u001b[1;33m]\u001b[0m\u001b[1;33m[\u001b[0m\u001b[1;36m0\u001b[0m\u001b[1;33m]\u001b[0m\u001b[1;33m]\u001b[0m\u001b[1;33m\u001b[0m\u001b[1;33m\u001b[0m\u001b[0m\n\u001b[0;32m    444\u001b[0m             \u001b[1;32mif\u001b[0m \u001b[0mhasattr\u001b[0m\u001b[1;33m(\u001b[0m\u001b[0mlast_step\u001b[0m\u001b[1;33m,\u001b[0m \u001b[1;34m\"fit_transform\"\u001b[0m\u001b[1;33m)\u001b[0m\u001b[1;33m:\u001b[0m\u001b[1;33m\u001b[0m\u001b[1;33m\u001b[0m\u001b[0m\n\u001b[1;32m--> 445\u001b[1;33m                 \u001b[1;32mreturn\u001b[0m \u001b[0mlast_step\u001b[0m\u001b[1;33m.\u001b[0m\u001b[0mfit_transform\u001b[0m\u001b[1;33m(\u001b[0m\u001b[0mXt\u001b[0m\u001b[1;33m,\u001b[0m \u001b[0my\u001b[0m\u001b[1;33m,\u001b[0m \u001b[1;33m**\u001b[0m\u001b[0mfit_params_last_step\u001b[0m\u001b[1;33m)\u001b[0m\u001b[1;33m\u001b[0m\u001b[1;33m\u001b[0m\u001b[0m\n\u001b[0m\u001b[0;32m    446\u001b[0m             \u001b[1;32melse\u001b[0m\u001b[1;33m:\u001b[0m\u001b[1;33m\u001b[0m\u001b[1;33m\u001b[0m\u001b[0m\n\u001b[0;32m    447\u001b[0m                 \u001b[1;32mreturn\u001b[0m \u001b[0mlast_step\u001b[0m\u001b[1;33m.\u001b[0m\u001b[0mfit\u001b[0m\u001b[1;33m(\u001b[0m\u001b[0mXt\u001b[0m\u001b[1;33m,\u001b[0m \u001b[0my\u001b[0m\u001b[1;33m,\u001b[0m \u001b[1;33m**\u001b[0m\u001b[0mfit_params_last_step\u001b[0m\u001b[1;33m)\u001b[0m\u001b[1;33m.\u001b[0m\u001b[0mtransform\u001b[0m\u001b[1;33m(\u001b[0m\u001b[0mXt\u001b[0m\u001b[1;33m)\u001b[0m\u001b[1;33m\u001b[0m\u001b[1;33m\u001b[0m\u001b[0m\n",
      "\u001b[1;32m~\\anaconda3\\lib\\site-packages\\sklearn\\utils\\_set_output.py\u001b[0m in \u001b[0;36mwrapped\u001b[1;34m(self, X, *args, **kwargs)\u001b[0m\n\u001b[0;32m    140\u001b[0m     \u001b[1;33m@\u001b[0m\u001b[0mwraps\u001b[0m\u001b[1;33m(\u001b[0m\u001b[0mf\u001b[0m\u001b[1;33m)\u001b[0m\u001b[1;33m\u001b[0m\u001b[1;33m\u001b[0m\u001b[0m\n\u001b[0;32m    141\u001b[0m     \u001b[1;32mdef\u001b[0m \u001b[0mwrapped\u001b[0m\u001b[1;33m(\u001b[0m\u001b[0mself\u001b[0m\u001b[1;33m,\u001b[0m \u001b[0mX\u001b[0m\u001b[1;33m,\u001b[0m \u001b[1;33m*\u001b[0m\u001b[0margs\u001b[0m\u001b[1;33m,\u001b[0m \u001b[1;33m**\u001b[0m\u001b[0mkwargs\u001b[0m\u001b[1;33m)\u001b[0m\u001b[1;33m:\u001b[0m\u001b[1;33m\u001b[0m\u001b[1;33m\u001b[0m\u001b[0m\n\u001b[1;32m--> 142\u001b[1;33m         \u001b[0mdata_to_wrap\u001b[0m \u001b[1;33m=\u001b[0m \u001b[0mf\u001b[0m\u001b[1;33m(\u001b[0m\u001b[0mself\u001b[0m\u001b[1;33m,\u001b[0m \u001b[0mX\u001b[0m\u001b[1;33m,\u001b[0m \u001b[1;33m*\u001b[0m\u001b[0margs\u001b[0m\u001b[1;33m,\u001b[0m \u001b[1;33m**\u001b[0m\u001b[0mkwargs\u001b[0m\u001b[1;33m)\u001b[0m\u001b[1;33m\u001b[0m\u001b[1;33m\u001b[0m\u001b[0m\n\u001b[0m\u001b[0;32m    143\u001b[0m         \u001b[1;32mif\u001b[0m \u001b[0misinstance\u001b[0m\u001b[1;33m(\u001b[0m\u001b[0mdata_to_wrap\u001b[0m\u001b[1;33m,\u001b[0m \u001b[0mtuple\u001b[0m\u001b[1;33m)\u001b[0m\u001b[1;33m:\u001b[0m\u001b[1;33m\u001b[0m\u001b[1;33m\u001b[0m\u001b[0m\n\u001b[0;32m    144\u001b[0m             \u001b[1;31m# only wrap the first output for cross decomposition\u001b[0m\u001b[1;33m\u001b[0m\u001b[1;33m\u001b[0m\u001b[1;33m\u001b[0m\u001b[0m\n",
      "\u001b[1;32m~\\anaconda3\\lib\\site-packages\\sklearn\\preprocessing\\_data.py\u001b[0m in \u001b[0;36mfit_transform\u001b[1;34m(self, X, y)\u001b[0m\n\u001b[0;32m   3101\u001b[0m         \"\"\"\n\u001b[0;32m   3102\u001b[0m         \u001b[0mself\u001b[0m\u001b[1;33m.\u001b[0m\u001b[0m_validate_params\u001b[0m\u001b[1;33m(\u001b[0m\u001b[1;33m)\u001b[0m\u001b[1;33m\u001b[0m\u001b[1;33m\u001b[0m\u001b[0m\n\u001b[1;32m-> 3103\u001b[1;33m         \u001b[1;32mreturn\u001b[0m \u001b[0mself\u001b[0m\u001b[1;33m.\u001b[0m\u001b[0m_fit\u001b[0m\u001b[1;33m(\u001b[0m\u001b[0mX\u001b[0m\u001b[1;33m,\u001b[0m \u001b[0my\u001b[0m\u001b[1;33m,\u001b[0m \u001b[0mforce_transform\u001b[0m\u001b[1;33m=\u001b[0m\u001b[1;32mTrue\u001b[0m\u001b[1;33m)\u001b[0m\u001b[1;33m\u001b[0m\u001b[1;33m\u001b[0m\u001b[0m\n\u001b[0m\u001b[0;32m   3104\u001b[0m \u001b[1;33m\u001b[0m\u001b[0m\n\u001b[0;32m   3105\u001b[0m     \u001b[1;32mdef\u001b[0m \u001b[0m_fit\u001b[0m\u001b[1;33m(\u001b[0m\u001b[0mself\u001b[0m\u001b[1;33m,\u001b[0m \u001b[0mX\u001b[0m\u001b[1;33m,\u001b[0m \u001b[0my\u001b[0m\u001b[1;33m=\u001b[0m\u001b[1;32mNone\u001b[0m\u001b[1;33m,\u001b[0m \u001b[0mforce_transform\u001b[0m\u001b[1;33m=\u001b[0m\u001b[1;32mFalse\u001b[0m\u001b[1;33m)\u001b[0m\u001b[1;33m:\u001b[0m\u001b[1;33m\u001b[0m\u001b[1;33m\u001b[0m\u001b[0m\n",
      "\u001b[1;32m~\\anaconda3\\lib\\site-packages\\sklearn\\preprocessing\\_data.py\u001b[0m in \u001b[0;36m_fit\u001b[1;34m(self, X, y, force_transform)\u001b[0m\n\u001b[0;32m   3128\u001b[0m             \u001b[0mself\u001b[0m\u001b[1;33m.\u001b[0m\u001b[0m_scaler\u001b[0m \u001b[1;33m=\u001b[0m \u001b[0mStandardScaler\u001b[0m\u001b[1;33m(\u001b[0m\u001b[0mcopy\u001b[0m\u001b[1;33m=\u001b[0m\u001b[1;32mFalse\u001b[0m\u001b[1;33m)\u001b[0m\u001b[1;33m\u001b[0m\u001b[1;33m\u001b[0m\u001b[0m\n\u001b[0;32m   3129\u001b[0m             \u001b[1;32mif\u001b[0m \u001b[0mforce_transform\u001b[0m\u001b[1;33m:\u001b[0m\u001b[1;33m\u001b[0m\u001b[1;33m\u001b[0m\u001b[0m\n\u001b[1;32m-> 3130\u001b[1;33m                 \u001b[0mX\u001b[0m \u001b[1;33m=\u001b[0m \u001b[0mself\u001b[0m\u001b[1;33m.\u001b[0m\u001b[0m_scaler\u001b[0m\u001b[1;33m.\u001b[0m\u001b[0mfit_transform\u001b[0m\u001b[1;33m(\u001b[0m\u001b[0mX\u001b[0m\u001b[1;33m)\u001b[0m\u001b[1;33m\u001b[0m\u001b[1;33m\u001b[0m\u001b[0m\n\u001b[0m\u001b[0;32m   3131\u001b[0m             \u001b[1;32melse\u001b[0m\u001b[1;33m:\u001b[0m\u001b[1;33m\u001b[0m\u001b[1;33m\u001b[0m\u001b[0m\n\u001b[0;32m   3132\u001b[0m                 \u001b[0mself\u001b[0m\u001b[1;33m.\u001b[0m\u001b[0m_scaler\u001b[0m\u001b[1;33m.\u001b[0m\u001b[0mfit\u001b[0m\u001b[1;33m(\u001b[0m\u001b[0mX\u001b[0m\u001b[1;33m)\u001b[0m\u001b[1;33m\u001b[0m\u001b[1;33m\u001b[0m\u001b[0m\n",
      "\u001b[1;32m~\\anaconda3\\lib\\site-packages\\sklearn\\utils\\_set_output.py\u001b[0m in \u001b[0;36mwrapped\u001b[1;34m(self, X, *args, **kwargs)\u001b[0m\n\u001b[0;32m    140\u001b[0m     \u001b[1;33m@\u001b[0m\u001b[0mwraps\u001b[0m\u001b[1;33m(\u001b[0m\u001b[0mf\u001b[0m\u001b[1;33m)\u001b[0m\u001b[1;33m\u001b[0m\u001b[1;33m\u001b[0m\u001b[0m\n\u001b[0;32m    141\u001b[0m     \u001b[1;32mdef\u001b[0m \u001b[0mwrapped\u001b[0m\u001b[1;33m(\u001b[0m\u001b[0mself\u001b[0m\u001b[1;33m,\u001b[0m \u001b[0mX\u001b[0m\u001b[1;33m,\u001b[0m \u001b[1;33m*\u001b[0m\u001b[0margs\u001b[0m\u001b[1;33m,\u001b[0m \u001b[1;33m**\u001b[0m\u001b[0mkwargs\u001b[0m\u001b[1;33m)\u001b[0m\u001b[1;33m:\u001b[0m\u001b[1;33m\u001b[0m\u001b[1;33m\u001b[0m\u001b[0m\n\u001b[1;32m--> 142\u001b[1;33m         \u001b[0mdata_to_wrap\u001b[0m \u001b[1;33m=\u001b[0m \u001b[0mf\u001b[0m\u001b[1;33m(\u001b[0m\u001b[0mself\u001b[0m\u001b[1;33m,\u001b[0m \u001b[0mX\u001b[0m\u001b[1;33m,\u001b[0m \u001b[1;33m*\u001b[0m\u001b[0margs\u001b[0m\u001b[1;33m,\u001b[0m \u001b[1;33m**\u001b[0m\u001b[0mkwargs\u001b[0m\u001b[1;33m)\u001b[0m\u001b[1;33m\u001b[0m\u001b[1;33m\u001b[0m\u001b[0m\n\u001b[0m\u001b[0;32m    143\u001b[0m         \u001b[1;32mif\u001b[0m \u001b[0misinstance\u001b[0m\u001b[1;33m(\u001b[0m\u001b[0mdata_to_wrap\u001b[0m\u001b[1;33m,\u001b[0m \u001b[0mtuple\u001b[0m\u001b[1;33m)\u001b[0m\u001b[1;33m:\u001b[0m\u001b[1;33m\u001b[0m\u001b[1;33m\u001b[0m\u001b[0m\n\u001b[0;32m    144\u001b[0m             \u001b[1;31m# only wrap the first output for cross decomposition\u001b[0m\u001b[1;33m\u001b[0m\u001b[1;33m\u001b[0m\u001b[1;33m\u001b[0m\u001b[0m\n",
      "\u001b[1;32m~\\anaconda3\\lib\\site-packages\\sklearn\\base.py\u001b[0m in \u001b[0;36mfit_transform\u001b[1;34m(self, X, y, **fit_params)\u001b[0m\n\u001b[0;32m    857\u001b[0m         \u001b[1;32mif\u001b[0m \u001b[0my\u001b[0m \u001b[1;32mis\u001b[0m \u001b[1;32mNone\u001b[0m\u001b[1;33m:\u001b[0m\u001b[1;33m\u001b[0m\u001b[1;33m\u001b[0m\u001b[0m\n\u001b[0;32m    858\u001b[0m             \u001b[1;31m# fit method of arity 1 (unsupervised transformation)\u001b[0m\u001b[1;33m\u001b[0m\u001b[1;33m\u001b[0m\u001b[1;33m\u001b[0m\u001b[0m\n\u001b[1;32m--> 859\u001b[1;33m             \u001b[1;32mreturn\u001b[0m \u001b[0mself\u001b[0m\u001b[1;33m.\u001b[0m\u001b[0mfit\u001b[0m\u001b[1;33m(\u001b[0m\u001b[0mX\u001b[0m\u001b[1;33m,\u001b[0m \u001b[1;33m**\u001b[0m\u001b[0mfit_params\u001b[0m\u001b[1;33m)\u001b[0m\u001b[1;33m.\u001b[0m\u001b[0mtransform\u001b[0m\u001b[1;33m(\u001b[0m\u001b[0mX\u001b[0m\u001b[1;33m)\u001b[0m\u001b[1;33m\u001b[0m\u001b[1;33m\u001b[0m\u001b[0m\n\u001b[0m\u001b[0;32m    860\u001b[0m         \u001b[1;32melse\u001b[0m\u001b[1;33m:\u001b[0m\u001b[1;33m\u001b[0m\u001b[1;33m\u001b[0m\u001b[0m\n\u001b[0;32m    861\u001b[0m             \u001b[1;31m# fit method of arity 2 (supervised transformation)\u001b[0m\u001b[1;33m\u001b[0m\u001b[1;33m\u001b[0m\u001b[1;33m\u001b[0m\u001b[0m\n",
      "\u001b[1;32m~\\anaconda3\\lib\\site-packages\\sklearn\\preprocessing\\_data.py\u001b[0m in \u001b[0;36mfit\u001b[1;34m(self, X, y, sample_weight)\u001b[0m\n\u001b[0;32m    822\u001b[0m         \u001b[1;31m# Reset internal state before fitting\u001b[0m\u001b[1;33m\u001b[0m\u001b[1;33m\u001b[0m\u001b[1;33m\u001b[0m\u001b[0m\n\u001b[0;32m    823\u001b[0m         \u001b[0mself\u001b[0m\u001b[1;33m.\u001b[0m\u001b[0m_reset\u001b[0m\u001b[1;33m(\u001b[0m\u001b[1;33m)\u001b[0m\u001b[1;33m\u001b[0m\u001b[1;33m\u001b[0m\u001b[0m\n\u001b[1;32m--> 824\u001b[1;33m         \u001b[1;32mreturn\u001b[0m \u001b[0mself\u001b[0m\u001b[1;33m.\u001b[0m\u001b[0mpartial_fit\u001b[0m\u001b[1;33m(\u001b[0m\u001b[0mX\u001b[0m\u001b[1;33m,\u001b[0m \u001b[0my\u001b[0m\u001b[1;33m,\u001b[0m \u001b[0msample_weight\u001b[0m\u001b[1;33m)\u001b[0m\u001b[1;33m\u001b[0m\u001b[1;33m\u001b[0m\u001b[0m\n\u001b[0m\u001b[0;32m    825\u001b[0m \u001b[1;33m\u001b[0m\u001b[0m\n\u001b[0;32m    826\u001b[0m     \u001b[1;32mdef\u001b[0m \u001b[0mpartial_fit\u001b[0m\u001b[1;33m(\u001b[0m\u001b[0mself\u001b[0m\u001b[1;33m,\u001b[0m \u001b[0mX\u001b[0m\u001b[1;33m,\u001b[0m \u001b[0my\u001b[0m\u001b[1;33m=\u001b[0m\u001b[1;32mNone\u001b[0m\u001b[1;33m,\u001b[0m \u001b[0msample_weight\u001b[0m\u001b[1;33m=\u001b[0m\u001b[1;32mNone\u001b[0m\u001b[1;33m)\u001b[0m\u001b[1;33m:\u001b[0m\u001b[1;33m\u001b[0m\u001b[1;33m\u001b[0m\u001b[0m\n",
      "\u001b[1;32m~\\anaconda3\\lib\\site-packages\\sklearn\\preprocessing\\_data.py\u001b[0m in \u001b[0;36mpartial_fit\u001b[1;34m(self, X, y, sample_weight)\u001b[0m\n\u001b[0;32m    859\u001b[0m \u001b[1;33m\u001b[0m\u001b[0m\n\u001b[0;32m    860\u001b[0m         \u001b[0mfirst_call\u001b[0m \u001b[1;33m=\u001b[0m \u001b[1;32mnot\u001b[0m \u001b[0mhasattr\u001b[0m\u001b[1;33m(\u001b[0m\u001b[0mself\u001b[0m\u001b[1;33m,\u001b[0m \u001b[1;34m\"n_samples_seen_\"\u001b[0m\u001b[1;33m)\u001b[0m\u001b[1;33m\u001b[0m\u001b[1;33m\u001b[0m\u001b[0m\n\u001b[1;32m--> 861\u001b[1;33m         X = self._validate_data(\n\u001b[0m\u001b[0;32m    862\u001b[0m             \u001b[0mX\u001b[0m\u001b[1;33m,\u001b[0m\u001b[1;33m\u001b[0m\u001b[1;33m\u001b[0m\u001b[0m\n\u001b[0;32m    863\u001b[0m             \u001b[0maccept_sparse\u001b[0m\u001b[1;33m=\u001b[0m\u001b[1;33m(\u001b[0m\u001b[1;34m\"csr\"\u001b[0m\u001b[1;33m,\u001b[0m \u001b[1;34m\"csc\"\u001b[0m\u001b[1;33m)\u001b[0m\u001b[1;33m,\u001b[0m\u001b[1;33m\u001b[0m\u001b[1;33m\u001b[0m\u001b[0m\n",
      "\u001b[1;32m~\\anaconda3\\lib\\site-packages\\sklearn\\base.py\u001b[0m in \u001b[0;36m_validate_data\u001b[1;34m(self, X, y, reset, validate_separately, **check_params)\u001b[0m\n\u001b[0;32m    544\u001b[0m             \u001b[1;32mraise\u001b[0m \u001b[0mValueError\u001b[0m\u001b[1;33m(\u001b[0m\u001b[1;34m\"Validation should be done on X, y or both.\"\u001b[0m\u001b[1;33m)\u001b[0m\u001b[1;33m\u001b[0m\u001b[1;33m\u001b[0m\u001b[0m\n\u001b[0;32m    545\u001b[0m         \u001b[1;32melif\u001b[0m \u001b[1;32mnot\u001b[0m \u001b[0mno_val_X\u001b[0m \u001b[1;32mand\u001b[0m \u001b[0mno_val_y\u001b[0m\u001b[1;33m:\u001b[0m\u001b[1;33m\u001b[0m\u001b[1;33m\u001b[0m\u001b[0m\n\u001b[1;32m--> 546\u001b[1;33m             \u001b[0mX\u001b[0m \u001b[1;33m=\u001b[0m \u001b[0mcheck_array\u001b[0m\u001b[1;33m(\u001b[0m\u001b[0mX\u001b[0m\u001b[1;33m,\u001b[0m \u001b[0minput_name\u001b[0m\u001b[1;33m=\u001b[0m\u001b[1;34m\"X\"\u001b[0m\u001b[1;33m,\u001b[0m \u001b[1;33m**\u001b[0m\u001b[0mcheck_params\u001b[0m\u001b[1;33m)\u001b[0m\u001b[1;33m\u001b[0m\u001b[1;33m\u001b[0m\u001b[0m\n\u001b[0m\u001b[0;32m    547\u001b[0m             \u001b[0mout\u001b[0m \u001b[1;33m=\u001b[0m \u001b[0mX\u001b[0m\u001b[1;33m\u001b[0m\u001b[1;33m\u001b[0m\u001b[0m\n\u001b[0;32m    548\u001b[0m         \u001b[1;32melif\u001b[0m \u001b[0mno_val_X\u001b[0m \u001b[1;32mand\u001b[0m \u001b[1;32mnot\u001b[0m \u001b[0mno_val_y\u001b[0m\u001b[1;33m:\u001b[0m\u001b[1;33m\u001b[0m\u001b[1;33m\u001b[0m\u001b[0m\n",
      "\u001b[1;32m~\\anaconda3\\lib\\site-packages\\sklearn\\utils\\validation.py\u001b[0m in \u001b[0;36mcheck_array\u001b[1;34m(array, accept_sparse, accept_large_sparse, dtype, order, copy, force_all_finite, ensure_2d, allow_nd, ensure_min_samples, ensure_min_features, estimator, input_name)\u001b[0m\n\u001b[0;32m    919\u001b[0m \u001b[1;33m\u001b[0m\u001b[0m\n\u001b[0;32m    920\u001b[0m         \u001b[1;32mif\u001b[0m \u001b[0mforce_all_finite\u001b[0m\u001b[1;33m:\u001b[0m\u001b[1;33m\u001b[0m\u001b[1;33m\u001b[0m\u001b[0m\n\u001b[1;32m--> 921\u001b[1;33m             _assert_all_finite(\n\u001b[0m\u001b[0;32m    922\u001b[0m                 \u001b[0marray\u001b[0m\u001b[1;33m,\u001b[0m\u001b[1;33m\u001b[0m\u001b[1;33m\u001b[0m\u001b[0m\n\u001b[0;32m    923\u001b[0m                 \u001b[0minput_name\u001b[0m\u001b[1;33m=\u001b[0m\u001b[0minput_name\u001b[0m\u001b[1;33m,\u001b[0m\u001b[1;33m\u001b[0m\u001b[1;33m\u001b[0m\u001b[0m\n",
      "\u001b[1;32m~\\anaconda3\\lib\\site-packages\\sklearn\\utils\\validation.py\u001b[0m in \u001b[0;36m_assert_all_finite\u001b[1;34m(X, allow_nan, msg_dtype, estimator_name, input_name)\u001b[0m\n\u001b[0;32m    159\u001b[0m                 \u001b[1;34m\"#estimators-that-handle-nan-values\"\u001b[0m\u001b[1;33m\u001b[0m\u001b[1;33m\u001b[0m\u001b[0m\n\u001b[0;32m    160\u001b[0m             )\n\u001b[1;32m--> 161\u001b[1;33m         \u001b[1;32mraise\u001b[0m \u001b[0mValueError\u001b[0m\u001b[1;33m(\u001b[0m\u001b[0mmsg_err\u001b[0m\u001b[1;33m)\u001b[0m\u001b[1;33m\u001b[0m\u001b[1;33m\u001b[0m\u001b[0m\n\u001b[0m\u001b[0;32m    162\u001b[0m \u001b[1;33m\u001b[0m\u001b[0m\n\u001b[0;32m    163\u001b[0m \u001b[1;33m\u001b[0m\u001b[0m\n",
      "\u001b[1;31mValueError\u001b[0m: Input X contains infinity or a value too large for dtype('float64')."
     ]
    }
   ],
   "source": [
    "lgbm = model.fit(X_train, y_train)\n",
    "lgbm_pred = lgbm.predict(X_test)"
   ]
  },
  {
   "cell_type": "code",
   "execution_count": 36,
   "id": "179c7f67",
   "metadata": {},
   "outputs": [
    {
     "name": "stdout",
     "output_type": "stream",
     "text": [
      "RMSE for LGBM: 211.08163229926868,\n",
      "MAE for LGBM: 63.273356957172346\n"
     ]
    }
   ],
   "source": [
    "print(f\"RMSE for LGBM: {np.sqrt(mean_squared_error(y_test, lgbm_pred))},\\\n",
    "\\nMAE for LGBM: {mean_absolute_error(y_test,lgbm_pred)}\")"
   ]
  },
  {
   "cell_type": "markdown",
   "id": "0279e825",
   "metadata": {},
   "source": [
    "## Otimização dos parâmetros do modelo"
   ]
  },
  {
   "cell_type": "code",
   "execution_count": 15,
   "id": "4955b835",
   "metadata": {},
   "outputs": [],
   "source": [
    "lgbm_grid = {\n",
    "    'lgbm__num_leaves': [7, 14, 21],\n",
    "    'lgbm__learning_rate': [0.1, 0.03, 0.001],\n",
    "    'lgbm__max_depth': [-1, 3, 5],\n",
    "    'lgbm__n_estimators': [200, 500, 1000],\n",
    "    'preprocessor__text_vec__max_features': [10,20,50]\n",
    "}"
   ]
  },
  {
   "cell_type": "code",
   "execution_count": 38,
   "id": "2762de79",
   "metadata": {},
   "outputs": [],
   "source": [
    "lgbm_tune = RandomizedSearchCV(\n",
    "    model, \n",
    "    param_distributions = lgbm_grid,\n",
    "    cv = 5,\n",
    "    scoring = 'neg_root_mean_squared_error',\n",
    "    return_train_score = True,\n",
    "    n_iter = 15,\n",
    "    verbose = 3,\n",
    "    random_state = 42\n",
    ")"
   ]
  },
  {
   "cell_type": "code",
   "execution_count": 39,
   "id": "8ec1cd0e",
   "metadata": {},
   "outputs": [
    {
     "name": "stdout",
     "output_type": "stream",
     "text": [
      "Fitting 5 folds for each of 15 candidates, totalling 75 fits\n"
     ]
    },
    {
     "name": "stderr",
     "output_type": "stream",
     "text": [
      "C:\\Users\\pessoal\\anaconda3\\lib\\site-packages\\sklearn\\preprocessing\\_data.py:3260: RuntimeWarning: overflow encountered in power\n",
      "  out[~pos] = -(np.power(-x[~pos] + 1, 2 - lmbda) - 1) / (2 - lmbda)\n",
      "C:\\Users\\pessoal\\anaconda3\\lib\\site-packages\\numpy\\core\\_methods.py:239: RuntimeWarning: overflow encountered in multiply\n",
      "  x = um.multiply(x, x, out=x)\n",
      "C:\\Users\\pessoal\\anaconda3\\lib\\site-packages\\numpy\\core\\_methods.py:250: RuntimeWarning: overflow encountered in reduce\n",
      "  ret = umr_sum(x, axis, dtype, out, keepdims=keepdims, where=where)\n"
     ]
    },
    {
     "name": "stdout",
     "output_type": "stream",
     "text": [
      "[CV 1/5] END lgbm__learning_rate=0.1, lgbm__max_depth=-1, lgbm__n_estimators=1000, lgbm__num_leaves=21, preprocessor__text_vec__max_features=10;, score=(train=-122.569, test=-233.958) total time=   1.7s\n"
     ]
    },
    {
     "name": "stderr",
     "output_type": "stream",
     "text": [
      "C:\\Users\\pessoal\\anaconda3\\lib\\site-packages\\sklearn\\preprocessing\\_data.py:3260: RuntimeWarning: overflow encountered in power\n",
      "  out[~pos] = -(np.power(-x[~pos] + 1, 2 - lmbda) - 1) / (2 - lmbda)\n",
      "C:\\Users\\pessoal\\anaconda3\\lib\\site-packages\\numpy\\core\\_methods.py:239: RuntimeWarning: overflow encountered in multiply\n",
      "  x = um.multiply(x, x, out=x)\n",
      "C:\\Users\\pessoal\\anaconda3\\lib\\site-packages\\numpy\\core\\_methods.py:250: RuntimeWarning: overflow encountered in reduce\n",
      "  ret = umr_sum(x, axis, dtype, out, keepdims=keepdims, where=where)\n"
     ]
    },
    {
     "name": "stdout",
     "output_type": "stream",
     "text": [
      "[CV 2/5] END lgbm__learning_rate=0.1, lgbm__max_depth=-1, lgbm__n_estimators=1000, lgbm__num_leaves=21, preprocessor__text_vec__max_features=10;, score=(train=-114.231, test=-254.147) total time=   2.8s\n"
     ]
    },
    {
     "name": "stderr",
     "output_type": "stream",
     "text": [
      "C:\\Users\\pessoal\\anaconda3\\lib\\site-packages\\sklearn\\preprocessing\\_data.py:3260: RuntimeWarning: overflow encountered in power\n",
      "  out[~pos] = -(np.power(-x[~pos] + 1, 2 - lmbda) - 1) / (2 - lmbda)\n",
      "C:\\Users\\pessoal\\anaconda3\\lib\\site-packages\\numpy\\core\\_methods.py:239: RuntimeWarning: overflow encountered in multiply\n",
      "  x = um.multiply(x, x, out=x)\n",
      "C:\\Users\\pessoal\\anaconda3\\lib\\site-packages\\numpy\\core\\_methods.py:250: RuntimeWarning: overflow encountered in reduce\n",
      "  ret = umr_sum(x, axis, dtype, out, keepdims=keepdims, where=where)\n"
     ]
    },
    {
     "name": "stdout",
     "output_type": "stream",
     "text": [
      "[CV 3/5] END lgbm__learning_rate=0.1, lgbm__max_depth=-1, lgbm__n_estimators=1000, lgbm__num_leaves=21, preprocessor__text_vec__max_features=10;, score=(train=-112.903, test=-259.614) total time=   2.7s\n"
     ]
    },
    {
     "name": "stderr",
     "output_type": "stream",
     "text": [
      "C:\\Users\\pessoal\\anaconda3\\lib\\site-packages\\sklearn\\preprocessing\\_data.py:3260: RuntimeWarning: overflow encountered in power\n",
      "  out[~pos] = -(np.power(-x[~pos] + 1, 2 - lmbda) - 1) / (2 - lmbda)\n",
      "C:\\Users\\pessoal\\anaconda3\\lib\\site-packages\\numpy\\core\\_methods.py:239: RuntimeWarning: overflow encountered in multiply\n",
      "  x = um.multiply(x, x, out=x)\n",
      "C:\\Users\\pessoal\\anaconda3\\lib\\site-packages\\numpy\\core\\_methods.py:250: RuntimeWarning: overflow encountered in reduce\n",
      "  ret = umr_sum(x, axis, dtype, out, keepdims=keepdims, where=where)\n"
     ]
    },
    {
     "name": "stdout",
     "output_type": "stream",
     "text": [
      "[CV 4/5] END lgbm__learning_rate=0.1, lgbm__max_depth=-1, lgbm__n_estimators=1000, lgbm__num_leaves=21, preprocessor__text_vec__max_features=10;, score=(train=-124.312, test=-182.890) total time=   1.8s\n"
     ]
    },
    {
     "name": "stderr",
     "output_type": "stream",
     "text": [
      "C:\\Users\\pessoal\\anaconda3\\lib\\site-packages\\sklearn\\preprocessing\\_data.py:3260: RuntimeWarning: overflow encountered in power\n",
      "  out[~pos] = -(np.power(-x[~pos] + 1, 2 - lmbda) - 1) / (2 - lmbda)\n",
      "C:\\Users\\pessoal\\anaconda3\\lib\\site-packages\\numpy\\core\\_methods.py:239: RuntimeWarning: overflow encountered in multiply\n",
      "  x = um.multiply(x, x, out=x)\n",
      "C:\\Users\\pessoal\\anaconda3\\lib\\site-packages\\numpy\\core\\_methods.py:250: RuntimeWarning: overflow encountered in reduce\n",
      "  ret = umr_sum(x, axis, dtype, out, keepdims=keepdims, where=where)\n"
     ]
    },
    {
     "name": "stdout",
     "output_type": "stream",
     "text": [
      "[CV 5/5] END lgbm__learning_rate=0.1, lgbm__max_depth=-1, lgbm__n_estimators=1000, lgbm__num_leaves=21, preprocessor__text_vec__max_features=10;, score=(train=-119.775, test=-187.831) total time=   1.9s\n"
     ]
    },
    {
     "name": "stderr",
     "output_type": "stream",
     "text": [
      "C:\\Users\\pessoal\\anaconda3\\lib\\site-packages\\sklearn\\preprocessing\\_data.py:3260: RuntimeWarning: overflow encountered in power\n",
      "  out[~pos] = -(np.power(-x[~pos] + 1, 2 - lmbda) - 1) / (2 - lmbda)\n",
      "C:\\Users\\pessoal\\anaconda3\\lib\\site-packages\\numpy\\core\\_methods.py:239: RuntimeWarning: overflow encountered in multiply\n",
      "  x = um.multiply(x, x, out=x)\n",
      "C:\\Users\\pessoal\\anaconda3\\lib\\site-packages\\numpy\\core\\_methods.py:250: RuntimeWarning: overflow encountered in reduce\n",
      "  ret = umr_sum(x, axis, dtype, out, keepdims=keepdims, where=where)\n"
     ]
    },
    {
     "name": "stdout",
     "output_type": "stream",
     "text": [
      "[CV 1/5] END lgbm__learning_rate=0.1, lgbm__max_depth=-1, lgbm__n_estimators=200, lgbm__num_leaves=21, preprocessor__text_vec__max_features=10;, score=(train=-168.036, test=-223.221) total time=   0.9s\n"
     ]
    },
    {
     "name": "stderr",
     "output_type": "stream",
     "text": [
      "C:\\Users\\pessoal\\anaconda3\\lib\\site-packages\\sklearn\\preprocessing\\_data.py:3260: RuntimeWarning: overflow encountered in power\n",
      "  out[~pos] = -(np.power(-x[~pos] + 1, 2 - lmbda) - 1) / (2 - lmbda)\n",
      "C:\\Users\\pessoal\\anaconda3\\lib\\site-packages\\numpy\\core\\_methods.py:239: RuntimeWarning: overflow encountered in multiply\n",
      "  x = um.multiply(x, x, out=x)\n",
      "C:\\Users\\pessoal\\anaconda3\\lib\\site-packages\\numpy\\core\\_methods.py:250: RuntimeWarning: overflow encountered in reduce\n",
      "  ret = umr_sum(x, axis, dtype, out, keepdims=keepdims, where=where)\n"
     ]
    },
    {
     "name": "stdout",
     "output_type": "stream",
     "text": [
      "[CV 2/5] END lgbm__learning_rate=0.1, lgbm__max_depth=-1, lgbm__n_estimators=200, lgbm__num_leaves=21, preprocessor__text_vec__max_features=10;, score=(train=-160.206, test=-252.952) total time=   0.8s\n"
     ]
    },
    {
     "name": "stderr",
     "output_type": "stream",
     "text": [
      "C:\\Users\\pessoal\\anaconda3\\lib\\site-packages\\sklearn\\preprocessing\\_data.py:3260: RuntimeWarning: overflow encountered in power\n",
      "  out[~pos] = -(np.power(-x[~pos] + 1, 2 - lmbda) - 1) / (2 - lmbda)\n",
      "C:\\Users\\pessoal\\anaconda3\\lib\\site-packages\\numpy\\core\\_methods.py:239: RuntimeWarning: overflow encountered in multiply\n",
      "  x = um.multiply(x, x, out=x)\n",
      "C:\\Users\\pessoal\\anaconda3\\lib\\site-packages\\numpy\\core\\_methods.py:250: RuntimeWarning: overflow encountered in reduce\n",
      "  ret = umr_sum(x, axis, dtype, out, keepdims=keepdims, where=where)\n"
     ]
    },
    {
     "name": "stdout",
     "output_type": "stream",
     "text": [
      "[CV 3/5] END lgbm__learning_rate=0.1, lgbm__max_depth=-1, lgbm__n_estimators=200, lgbm__num_leaves=21, preprocessor__text_vec__max_features=10;, score=(train=-159.711, test=-255.445) total time=   0.8s\n"
     ]
    },
    {
     "name": "stderr",
     "output_type": "stream",
     "text": [
      "C:\\Users\\pessoal\\anaconda3\\lib\\site-packages\\sklearn\\preprocessing\\_data.py:3260: RuntimeWarning: overflow encountered in power\n",
      "  out[~pos] = -(np.power(-x[~pos] + 1, 2 - lmbda) - 1) / (2 - lmbda)\n",
      "C:\\Users\\pessoal\\anaconda3\\lib\\site-packages\\numpy\\core\\_methods.py:239: RuntimeWarning: overflow encountered in multiply\n",
      "  x = um.multiply(x, x, out=x)\n",
      "C:\\Users\\pessoal\\anaconda3\\lib\\site-packages\\numpy\\core\\_methods.py:250: RuntimeWarning: overflow encountered in reduce\n",
      "  ret = umr_sum(x, axis, dtype, out, keepdims=keepdims, where=where)\n"
     ]
    },
    {
     "name": "stdout",
     "output_type": "stream",
     "text": [
      "[CV 4/5] END lgbm__learning_rate=0.1, lgbm__max_depth=-1, lgbm__n_estimators=200, lgbm__num_leaves=21, preprocessor__text_vec__max_features=10;, score=(train=-176.541, test=-171.472) total time=   1.1s\n"
     ]
    },
    {
     "name": "stderr",
     "output_type": "stream",
     "text": [
      "C:\\Users\\pessoal\\anaconda3\\lib\\site-packages\\sklearn\\preprocessing\\_data.py:3260: RuntimeWarning: overflow encountered in power\n",
      "  out[~pos] = -(np.power(-x[~pos] + 1, 2 - lmbda) - 1) / (2 - lmbda)\n",
      "C:\\Users\\pessoal\\anaconda3\\lib\\site-packages\\numpy\\core\\_methods.py:239: RuntimeWarning: overflow encountered in multiply\n",
      "  x = um.multiply(x, x, out=x)\n",
      "C:\\Users\\pessoal\\anaconda3\\lib\\site-packages\\numpy\\core\\_methods.py:250: RuntimeWarning: overflow encountered in reduce\n",
      "  ret = umr_sum(x, axis, dtype, out, keepdims=keepdims, where=where)\n"
     ]
    },
    {
     "name": "stdout",
     "output_type": "stream",
     "text": [
      "[CV 5/5] END lgbm__learning_rate=0.1, lgbm__max_depth=-1, lgbm__n_estimators=200, lgbm__num_leaves=21, preprocessor__text_vec__max_features=10;, score=(train=-172.008, test=-178.650) total time=   0.8s\n"
     ]
    },
    {
     "name": "stderr",
     "output_type": "stream",
     "text": [
      "C:\\Users\\pessoal\\anaconda3\\lib\\site-packages\\sklearn\\preprocessing\\_data.py:3260: RuntimeWarning: overflow encountered in power\n",
      "  out[~pos] = -(np.power(-x[~pos] + 1, 2 - lmbda) - 1) / (2 - lmbda)\n",
      "C:\\Users\\pessoal\\anaconda3\\lib\\site-packages\\numpy\\core\\_methods.py:239: RuntimeWarning: overflow encountered in multiply\n",
      "  x = um.multiply(x, x, out=x)\n",
      "C:\\Users\\pessoal\\anaconda3\\lib\\site-packages\\numpy\\core\\_methods.py:250: RuntimeWarning: overflow encountered in reduce\n",
      "  ret = umr_sum(x, axis, dtype, out, keepdims=keepdims, where=where)\n"
     ]
    },
    {
     "name": "stdout",
     "output_type": "stream",
     "text": [
      "[CV 1/5] END lgbm__learning_rate=0.03, lgbm__max_depth=5, lgbm__n_estimators=500, lgbm__num_leaves=21, preprocessor__text_vec__max_features=50;, score=(train=-191.533, test=-218.558) total time=   2.0s\n"
     ]
    },
    {
     "name": "stderr",
     "output_type": "stream",
     "text": [
      "C:\\Users\\pessoal\\anaconda3\\lib\\site-packages\\sklearn\\preprocessing\\_data.py:3260: RuntimeWarning: overflow encountered in power\n",
      "  out[~pos] = -(np.power(-x[~pos] + 1, 2 - lmbda) - 1) / (2 - lmbda)\n",
      "C:\\Users\\pessoal\\anaconda3\\lib\\site-packages\\numpy\\core\\_methods.py:239: RuntimeWarning: overflow encountered in multiply\n",
      "  x = um.multiply(x, x, out=x)\n",
      "C:\\Users\\pessoal\\anaconda3\\lib\\site-packages\\numpy\\core\\_methods.py:250: RuntimeWarning: overflow encountered in reduce\n",
      "  ret = umr_sum(x, axis, dtype, out, keepdims=keepdims, where=where)\n"
     ]
    },
    {
     "name": "stdout",
     "output_type": "stream",
     "text": [
      "[CV 2/5] END lgbm__learning_rate=0.03, lgbm__max_depth=5, lgbm__n_estimators=500, lgbm__num_leaves=21, preprocessor__text_vec__max_features=50;, score=(train=-183.397, test=-249.954) total time=   1.7s\n"
     ]
    },
    {
     "name": "stderr",
     "output_type": "stream",
     "text": [
      "C:\\Users\\pessoal\\anaconda3\\lib\\site-packages\\sklearn\\preprocessing\\_data.py:3260: RuntimeWarning: overflow encountered in power\n",
      "  out[~pos] = -(np.power(-x[~pos] + 1, 2 - lmbda) - 1) / (2 - lmbda)\n",
      "C:\\Users\\pessoal\\anaconda3\\lib\\site-packages\\numpy\\core\\_methods.py:239: RuntimeWarning: overflow encountered in multiply\n",
      "  x = um.multiply(x, x, out=x)\n",
      "C:\\Users\\pessoal\\anaconda3\\lib\\site-packages\\numpy\\core\\_methods.py:250: RuntimeWarning: overflow encountered in reduce\n",
      "  ret = umr_sum(x, axis, dtype, out, keepdims=keepdims, where=where)\n"
     ]
    },
    {
     "name": "stdout",
     "output_type": "stream",
     "text": [
      "[CV 3/5] END lgbm__learning_rate=0.03, lgbm__max_depth=5, lgbm__n_estimators=500, lgbm__num_leaves=21, preprocessor__text_vec__max_features=50;, score=(train=-181.494, test=-254.215) total time=   2.1s\n"
     ]
    },
    {
     "name": "stderr",
     "output_type": "stream",
     "text": [
      "C:\\Users\\pessoal\\anaconda3\\lib\\site-packages\\sklearn\\preprocessing\\_data.py:3260: RuntimeWarning: overflow encountered in power\n",
      "  out[~pos] = -(np.power(-x[~pos] + 1, 2 - lmbda) - 1) / (2 - lmbda)\n",
      "C:\\Users\\pessoal\\anaconda3\\lib\\site-packages\\numpy\\core\\_methods.py:239: RuntimeWarning: overflow encountered in multiply\n",
      "  x = um.multiply(x, x, out=x)\n",
      "C:\\Users\\pessoal\\anaconda3\\lib\\site-packages\\numpy\\core\\_methods.py:250: RuntimeWarning: overflow encountered in reduce\n",
      "  ret = umr_sum(x, axis, dtype, out, keepdims=keepdims, where=where)\n"
     ]
    },
    {
     "name": "stdout",
     "output_type": "stream",
     "text": [
      "[CV 4/5] END lgbm__learning_rate=0.03, lgbm__max_depth=5, lgbm__n_estimators=500, lgbm__num_leaves=21, preprocessor__text_vec__max_features=50;, score=(train=-202.610, test=-168.940) total time=   1.8s\n"
     ]
    },
    {
     "name": "stderr",
     "output_type": "stream",
     "text": [
      "C:\\Users\\pessoal\\anaconda3\\lib\\site-packages\\sklearn\\preprocessing\\_data.py:3260: RuntimeWarning: overflow encountered in power\n",
      "  out[~pos] = -(np.power(-x[~pos] + 1, 2 - lmbda) - 1) / (2 - lmbda)\n",
      "C:\\Users\\pessoal\\anaconda3\\lib\\site-packages\\numpy\\core\\_methods.py:239: RuntimeWarning: overflow encountered in multiply\n",
      "  x = um.multiply(x, x, out=x)\n",
      "C:\\Users\\pessoal\\anaconda3\\lib\\site-packages\\numpy\\core\\_methods.py:250: RuntimeWarning: overflow encountered in reduce\n",
      "  ret = umr_sum(x, axis, dtype, out, keepdims=keepdims, where=where)\n"
     ]
    },
    {
     "name": "stdout",
     "output_type": "stream",
     "text": [
      "[CV 5/5] END lgbm__learning_rate=0.03, lgbm__max_depth=5, lgbm__n_estimators=500, lgbm__num_leaves=21, preprocessor__text_vec__max_features=50;, score=(train=-198.765, test=-186.288) total time=   3.0s\n"
     ]
    },
    {
     "name": "stderr",
     "output_type": "stream",
     "text": [
      "C:\\Users\\pessoal\\anaconda3\\lib\\site-packages\\sklearn\\preprocessing\\_data.py:3260: RuntimeWarning: overflow encountered in power\n",
      "  out[~pos] = -(np.power(-x[~pos] + 1, 2 - lmbda) - 1) / (2 - lmbda)\n",
      "C:\\Users\\pessoal\\anaconda3\\lib\\site-packages\\numpy\\core\\_methods.py:239: RuntimeWarning: overflow encountered in multiply\n",
      "  x = um.multiply(x, x, out=x)\n",
      "C:\\Users\\pessoal\\anaconda3\\lib\\site-packages\\numpy\\core\\_methods.py:250: RuntimeWarning: overflow encountered in reduce\n",
      "  ret = umr_sum(x, axis, dtype, out, keepdims=keepdims, where=where)\n"
     ]
    },
    {
     "name": "stdout",
     "output_type": "stream",
     "text": [
      "[CV 1/5] END lgbm__learning_rate=0.001, lgbm__max_depth=5, lgbm__n_estimators=500, lgbm__num_leaves=21, preprocessor__text_vec__max_features=20;, score=(train=-222.943, test=-224.198) total time=   2.1s\n"
     ]
    },
    {
     "name": "stderr",
     "output_type": "stream",
     "text": [
      "C:\\Users\\pessoal\\anaconda3\\lib\\site-packages\\sklearn\\preprocessing\\_data.py:3260: RuntimeWarning: overflow encountered in power\n",
      "  out[~pos] = -(np.power(-x[~pos] + 1, 2 - lmbda) - 1) / (2 - lmbda)\n",
      "C:\\Users\\pessoal\\anaconda3\\lib\\site-packages\\numpy\\core\\_methods.py:239: RuntimeWarning: overflow encountered in multiply\n",
      "  x = um.multiply(x, x, out=x)\n",
      "C:\\Users\\pessoal\\anaconda3\\lib\\site-packages\\numpy\\core\\_methods.py:250: RuntimeWarning: overflow encountered in reduce\n",
      "  ret = umr_sum(x, axis, dtype, out, keepdims=keepdims, where=where)\n"
     ]
    },
    {
     "name": "stdout",
     "output_type": "stream",
     "text": [
      "[CV 2/5] END lgbm__learning_rate=0.001, lgbm__max_depth=5, lgbm__n_estimators=500, lgbm__num_leaves=21, preprocessor__text_vec__max_features=20;, score=(train=-214.641, test=-257.385) total time=   1.7s\n"
     ]
    },
    {
     "name": "stderr",
     "output_type": "stream",
     "text": [
      "C:\\Users\\pessoal\\anaconda3\\lib\\site-packages\\sklearn\\preprocessing\\_data.py:3260: RuntimeWarning: overflow encountered in power\n",
      "  out[~pos] = -(np.power(-x[~pos] + 1, 2 - lmbda) - 1) / (2 - lmbda)\n",
      "C:\\Users\\pessoal\\anaconda3\\lib\\site-packages\\numpy\\core\\_methods.py:239: RuntimeWarning: overflow encountered in multiply\n",
      "  x = um.multiply(x, x, out=x)\n",
      "C:\\Users\\pessoal\\anaconda3\\lib\\site-packages\\numpy\\core\\_methods.py:250: RuntimeWarning: overflow encountered in reduce\n",
      "  ret = umr_sum(x, axis, dtype, out, keepdims=keepdims, where=where)\n"
     ]
    },
    {
     "name": "stdout",
     "output_type": "stream",
     "text": [
      "[CV 3/5] END lgbm__learning_rate=0.001, lgbm__max_depth=5, lgbm__n_estimators=500, lgbm__num_leaves=21, preprocessor__text_vec__max_features=20;, score=(train=-212.271, test=-262.817) total time=   1.7s\n"
     ]
    },
    {
     "name": "stderr",
     "output_type": "stream",
     "text": [
      "C:\\Users\\pessoal\\anaconda3\\lib\\site-packages\\sklearn\\preprocessing\\_data.py:3260: RuntimeWarning: overflow encountered in power\n",
      "  out[~pos] = -(np.power(-x[~pos] + 1, 2 - lmbda) - 1) / (2 - lmbda)\n",
      "C:\\Users\\pessoal\\anaconda3\\lib\\site-packages\\numpy\\core\\_methods.py:239: RuntimeWarning: overflow encountered in multiply\n",
      "  x = um.multiply(x, x, out=x)\n",
      "C:\\Users\\pessoal\\anaconda3\\lib\\site-packages\\numpy\\core\\_methods.py:250: RuntimeWarning: overflow encountered in reduce\n",
      "  ret = umr_sum(x, axis, dtype, out, keepdims=keepdims, where=where)\n"
     ]
    },
    {
     "name": "stdout",
     "output_type": "stream",
     "text": [
      "[CV 4/5] END lgbm__learning_rate=0.001, lgbm__max_depth=5, lgbm__n_estimators=500, lgbm__num_leaves=21, preprocessor__text_vec__max_features=20;, score=(train=-233.090, test=-178.228) total time=   1.6s\n"
     ]
    },
    {
     "name": "stderr",
     "output_type": "stream",
     "text": [
      "C:\\Users\\pessoal\\anaconda3\\lib\\site-packages\\sklearn\\preprocessing\\_data.py:3260: RuntimeWarning: overflow encountered in power\n",
      "  out[~pos] = -(np.power(-x[~pos] + 1, 2 - lmbda) - 1) / (2 - lmbda)\n",
      "C:\\Users\\pessoal\\anaconda3\\lib\\site-packages\\numpy\\core\\_methods.py:239: RuntimeWarning: overflow encountered in multiply\n",
      "  x = um.multiply(x, x, out=x)\n",
      "C:\\Users\\pessoal\\anaconda3\\lib\\site-packages\\numpy\\core\\_methods.py:250: RuntimeWarning: overflow encountered in reduce\n",
      "  ret = umr_sum(x, axis, dtype, out, keepdims=keepdims, where=where)\n"
     ]
    },
    {
     "name": "stdout",
     "output_type": "stream",
     "text": [
      "[CV 5/5] END lgbm__learning_rate=0.001, lgbm__max_depth=5, lgbm__n_estimators=500, lgbm__num_leaves=21, preprocessor__text_vec__max_features=20;, score=(train=-230.910, test=-189.121) total time=   1.6s\n"
     ]
    },
    {
     "name": "stderr",
     "output_type": "stream",
     "text": [
      "C:\\Users\\pessoal\\anaconda3\\lib\\site-packages\\sklearn\\preprocessing\\_data.py:3260: RuntimeWarning: overflow encountered in power\n",
      "  out[~pos] = -(np.power(-x[~pos] + 1, 2 - lmbda) - 1) / (2 - lmbda)\n",
      "C:\\Users\\pessoal\\anaconda3\\lib\\site-packages\\numpy\\core\\_methods.py:239: RuntimeWarning: overflow encountered in multiply\n",
      "  x = um.multiply(x, x, out=x)\n",
      "C:\\Users\\pessoal\\anaconda3\\lib\\site-packages\\numpy\\core\\_methods.py:250: RuntimeWarning: overflow encountered in reduce\n",
      "  ret = umr_sum(x, axis, dtype, out, keepdims=keepdims, where=where)\n"
     ]
    },
    {
     "name": "stdout",
     "output_type": "stream",
     "text": [
      "[CV 1/5] END lgbm__learning_rate=0.001, lgbm__max_depth=5, lgbm__n_estimators=1000, lgbm__num_leaves=14, preprocessor__text_vec__max_features=20;, score=(train=-217.852, test=-220.447) total time=   2.2s\n"
     ]
    },
    {
     "name": "stderr",
     "output_type": "stream",
     "text": [
      "C:\\Users\\pessoal\\anaconda3\\lib\\site-packages\\sklearn\\preprocessing\\_data.py:3260: RuntimeWarning: overflow encountered in power\n",
      "  out[~pos] = -(np.power(-x[~pos] + 1, 2 - lmbda) - 1) / (2 - lmbda)\n",
      "C:\\Users\\pessoal\\anaconda3\\lib\\site-packages\\numpy\\core\\_methods.py:239: RuntimeWarning: overflow encountered in multiply\n",
      "  x = um.multiply(x, x, out=x)\n",
      "C:\\Users\\pessoal\\anaconda3\\lib\\site-packages\\numpy\\core\\_methods.py:250: RuntimeWarning: overflow encountered in reduce\n",
      "  ret = umr_sum(x, axis, dtype, out, keepdims=keepdims, where=where)\n"
     ]
    },
    {
     "name": "stdout",
     "output_type": "stream",
     "text": [
      "[CV 2/5] END lgbm__learning_rate=0.001, lgbm__max_depth=5, lgbm__n_estimators=1000, lgbm__num_leaves=14, preprocessor__text_vec__max_features=20;, score=(train=-209.758, test=-254.302) total time=   2.6s\n"
     ]
    },
    {
     "name": "stderr",
     "output_type": "stream",
     "text": [
      "C:\\Users\\pessoal\\anaconda3\\lib\\site-packages\\sklearn\\preprocessing\\_data.py:3260: RuntimeWarning: overflow encountered in power\n",
      "  out[~pos] = -(np.power(-x[~pos] + 1, 2 - lmbda) - 1) / (2 - lmbda)\n",
      "C:\\Users\\pessoal\\anaconda3\\lib\\site-packages\\numpy\\core\\_methods.py:239: RuntimeWarning: overflow encountered in multiply\n",
      "  x = um.multiply(x, x, out=x)\n",
      "C:\\Users\\pessoal\\anaconda3\\lib\\site-packages\\numpy\\core\\_methods.py:250: RuntimeWarning: overflow encountered in reduce\n",
      "  ret = umr_sum(x, axis, dtype, out, keepdims=keepdims, where=where)\n"
     ]
    },
    {
     "name": "stdout",
     "output_type": "stream",
     "text": [
      "[CV 3/5] END lgbm__learning_rate=0.001, lgbm__max_depth=5, lgbm__n_estimators=1000, lgbm__num_leaves=14, preprocessor__text_vec__max_features=20;, score=(train=-206.704, test=-259.708) total time=   2.1s\n"
     ]
    },
    {
     "name": "stderr",
     "output_type": "stream",
     "text": [
      "C:\\Users\\pessoal\\anaconda3\\lib\\site-packages\\sklearn\\preprocessing\\_data.py:3260: RuntimeWarning: overflow encountered in power\n",
      "  out[~pos] = -(np.power(-x[~pos] + 1, 2 - lmbda) - 1) / (2 - lmbda)\n",
      "C:\\Users\\pessoal\\anaconda3\\lib\\site-packages\\numpy\\core\\_methods.py:239: RuntimeWarning: overflow encountered in multiply\n",
      "  x = um.multiply(x, x, out=x)\n",
      "C:\\Users\\pessoal\\anaconda3\\lib\\site-packages\\numpy\\core\\_methods.py:250: RuntimeWarning: overflow encountered in reduce\n",
      "  ret = umr_sum(x, axis, dtype, out, keepdims=keepdims, where=where)\n"
     ]
    },
    {
     "name": "stdout",
     "output_type": "stream",
     "text": [
      "[CV 4/5] END lgbm__learning_rate=0.001, lgbm__max_depth=5, lgbm__n_estimators=1000, lgbm__num_leaves=14, preprocessor__text_vec__max_features=20;, score=(train=-228.258, test=-174.047) total time=   2.3s\n"
     ]
    },
    {
     "name": "stderr",
     "output_type": "stream",
     "text": [
      "C:\\Users\\pessoal\\anaconda3\\lib\\site-packages\\sklearn\\preprocessing\\_data.py:3260: RuntimeWarning: overflow encountered in power\n",
      "  out[~pos] = -(np.power(-x[~pos] + 1, 2 - lmbda) - 1) / (2 - lmbda)\n",
      "C:\\Users\\pessoal\\anaconda3\\lib\\site-packages\\numpy\\core\\_methods.py:239: RuntimeWarning: overflow encountered in multiply\n",
      "  x = um.multiply(x, x, out=x)\n",
      "C:\\Users\\pessoal\\anaconda3\\lib\\site-packages\\numpy\\core\\_methods.py:250: RuntimeWarning: overflow encountered in reduce\n",
      "  ret = umr_sum(x, axis, dtype, out, keepdims=keepdims, where=where)\n"
     ]
    },
    {
     "name": "stdout",
     "output_type": "stream",
     "text": [
      "[CV 5/5] END lgbm__learning_rate=0.001, lgbm__max_depth=5, lgbm__n_estimators=1000, lgbm__num_leaves=14, preprocessor__text_vec__max_features=20;, score=(train=-225.997, test=-185.553) total time=   2.4s\n"
     ]
    },
    {
     "name": "stderr",
     "output_type": "stream",
     "text": [
      "C:\\Users\\pessoal\\anaconda3\\lib\\site-packages\\sklearn\\preprocessing\\_data.py:3260: RuntimeWarning: overflow encountered in power\n",
      "  out[~pos] = -(np.power(-x[~pos] + 1, 2 - lmbda) - 1) / (2 - lmbda)\n",
      "C:\\Users\\pessoal\\anaconda3\\lib\\site-packages\\numpy\\core\\_methods.py:239: RuntimeWarning: overflow encountered in multiply\n",
      "  x = um.multiply(x, x, out=x)\n",
      "C:\\Users\\pessoal\\anaconda3\\lib\\site-packages\\numpy\\core\\_methods.py:250: RuntimeWarning: overflow encountered in reduce\n",
      "  ret = umr_sum(x, axis, dtype, out, keepdims=keepdims, where=where)\n"
     ]
    },
    {
     "name": "stdout",
     "output_type": "stream",
     "text": [
      "[CV 1/5] END lgbm__learning_rate=0.001, lgbm__max_depth=-1, lgbm__n_estimators=500, lgbm__num_leaves=14, preprocessor__text_vec__max_features=20;, score=(train=-222.823, test=-224.634) total time=   1.4s\n"
     ]
    },
    {
     "name": "stderr",
     "output_type": "stream",
     "text": [
      "C:\\Users\\pessoal\\anaconda3\\lib\\site-packages\\sklearn\\preprocessing\\_data.py:3260: RuntimeWarning: overflow encountered in power\n",
      "  out[~pos] = -(np.power(-x[~pos] + 1, 2 - lmbda) - 1) / (2 - lmbda)\n",
      "C:\\Users\\pessoal\\anaconda3\\lib\\site-packages\\numpy\\core\\_methods.py:239: RuntimeWarning: overflow encountered in multiply\n",
      "  x = um.multiply(x, x, out=x)\n",
      "C:\\Users\\pessoal\\anaconda3\\lib\\site-packages\\numpy\\core\\_methods.py:250: RuntimeWarning: overflow encountered in reduce\n",
      "  ret = umr_sum(x, axis, dtype, out, keepdims=keepdims, where=where)\n"
     ]
    },
    {
     "name": "stdout",
     "output_type": "stream",
     "text": [
      "[CV 2/5] END lgbm__learning_rate=0.001, lgbm__max_depth=-1, lgbm__n_estimators=500, lgbm__num_leaves=14, preprocessor__text_vec__max_features=20;, score=(train=-213.963, test=-258.336) total time=   1.4s\n"
     ]
    },
    {
     "name": "stderr",
     "output_type": "stream",
     "text": [
      "C:\\Users\\pessoal\\anaconda3\\lib\\site-packages\\sklearn\\preprocessing\\_data.py:3260: RuntimeWarning: overflow encountered in power\n",
      "  out[~pos] = -(np.power(-x[~pos] + 1, 2 - lmbda) - 1) / (2 - lmbda)\n",
      "C:\\Users\\pessoal\\anaconda3\\lib\\site-packages\\numpy\\core\\_methods.py:239: RuntimeWarning: overflow encountered in multiply\n",
      "  x = um.multiply(x, x, out=x)\n",
      "C:\\Users\\pessoal\\anaconda3\\lib\\site-packages\\numpy\\core\\_methods.py:250: RuntimeWarning: overflow encountered in reduce\n",
      "  ret = umr_sum(x, axis, dtype, out, keepdims=keepdims, where=where)\n"
     ]
    },
    {
     "name": "stdout",
     "output_type": "stream",
     "text": [
      "[CV 3/5] END lgbm__learning_rate=0.001, lgbm__max_depth=-1, lgbm__n_estimators=500, lgbm__num_leaves=14, preprocessor__text_vec__max_features=20;, score=(train=-211.823, test=-263.208) total time=   1.5s\n"
     ]
    },
    {
     "name": "stderr",
     "output_type": "stream",
     "text": [
      "C:\\Users\\pessoal\\anaconda3\\lib\\site-packages\\sklearn\\preprocessing\\_data.py:3260: RuntimeWarning: overflow encountered in power\n",
      "  out[~pos] = -(np.power(-x[~pos] + 1, 2 - lmbda) - 1) / (2 - lmbda)\n",
      "C:\\Users\\pessoal\\anaconda3\\lib\\site-packages\\numpy\\core\\_methods.py:239: RuntimeWarning: overflow encountered in multiply\n",
      "  x = um.multiply(x, x, out=x)\n",
      "C:\\Users\\pessoal\\anaconda3\\lib\\site-packages\\numpy\\core\\_methods.py:250: RuntimeWarning: overflow encountered in reduce\n",
      "  ret = umr_sum(x, axis, dtype, out, keepdims=keepdims, where=where)\n"
     ]
    },
    {
     "name": "stdout",
     "output_type": "stream",
     "text": [
      "[CV 4/5] END lgbm__learning_rate=0.001, lgbm__max_depth=-1, lgbm__n_estimators=500, lgbm__num_leaves=14, preprocessor__text_vec__max_features=20;, score=(train=-232.868, test=-178.842) total time=   1.4s\n"
     ]
    },
    {
     "name": "stderr",
     "output_type": "stream",
     "text": [
      "C:\\Users\\pessoal\\anaconda3\\lib\\site-packages\\sklearn\\preprocessing\\_data.py:3260: RuntimeWarning: overflow encountered in power\n",
      "  out[~pos] = -(np.power(-x[~pos] + 1, 2 - lmbda) - 1) / (2 - lmbda)\n",
      "C:\\Users\\pessoal\\anaconda3\\lib\\site-packages\\numpy\\core\\_methods.py:239: RuntimeWarning: overflow encountered in multiply\n",
      "  x = um.multiply(x, x, out=x)\n",
      "C:\\Users\\pessoal\\anaconda3\\lib\\site-packages\\numpy\\core\\_methods.py:250: RuntimeWarning: overflow encountered in reduce\n",
      "  ret = umr_sum(x, axis, dtype, out, keepdims=keepdims, where=where)\n"
     ]
    },
    {
     "name": "stdout",
     "output_type": "stream",
     "text": [
      "[CV 5/5] END lgbm__learning_rate=0.001, lgbm__max_depth=-1, lgbm__n_estimators=500, lgbm__num_leaves=14, preprocessor__text_vec__max_features=20;, score=(train=-230.646, test=-189.715) total time=   1.4s\n"
     ]
    },
    {
     "name": "stderr",
     "output_type": "stream",
     "text": [
      "C:\\Users\\pessoal\\anaconda3\\lib\\site-packages\\sklearn\\preprocessing\\_data.py:3260: RuntimeWarning: overflow encountered in power\n",
      "  out[~pos] = -(np.power(-x[~pos] + 1, 2 - lmbda) - 1) / (2 - lmbda)\n",
      "C:\\Users\\pessoal\\anaconda3\\lib\\site-packages\\numpy\\core\\_methods.py:239: RuntimeWarning: overflow encountered in multiply\n",
      "  x = um.multiply(x, x, out=x)\n",
      "C:\\Users\\pessoal\\anaconda3\\lib\\site-packages\\numpy\\core\\_methods.py:250: RuntimeWarning: overflow encountered in reduce\n",
      "  ret = umr_sum(x, axis, dtype, out, keepdims=keepdims, where=where)\n"
     ]
    },
    {
     "name": "stdout",
     "output_type": "stream",
     "text": [
      "[CV 1/5] END lgbm__learning_rate=0.001, lgbm__max_depth=3, lgbm__n_estimators=1000, lgbm__num_leaves=21, preprocessor__text_vec__max_features=50;, score=(train=-221.711, test=-222.871) total time=   2.1s\n"
     ]
    },
    {
     "name": "stderr",
     "output_type": "stream",
     "text": [
      "C:\\Users\\pessoal\\anaconda3\\lib\\site-packages\\sklearn\\preprocessing\\_data.py:3260: RuntimeWarning: overflow encountered in power\n",
      "  out[~pos] = -(np.power(-x[~pos] + 1, 2 - lmbda) - 1) / (2 - lmbda)\n",
      "C:\\Users\\pessoal\\anaconda3\\lib\\site-packages\\numpy\\core\\_methods.py:239: RuntimeWarning: overflow encountered in multiply\n",
      "  x = um.multiply(x, x, out=x)\n",
      "C:\\Users\\pessoal\\anaconda3\\lib\\site-packages\\numpy\\core\\_methods.py:250: RuntimeWarning: overflow encountered in reduce\n",
      "  ret = umr_sum(x, axis, dtype, out, keepdims=keepdims, where=where)\n"
     ]
    },
    {
     "name": "stdout",
     "output_type": "stream",
     "text": [
      "[CV 2/5] END lgbm__learning_rate=0.001, lgbm__max_depth=3, lgbm__n_estimators=1000, lgbm__num_leaves=21, preprocessor__text_vec__max_features=50;, score=(train=-213.040, test=-255.955) total time=   2.5s\n"
     ]
    },
    {
     "name": "stderr",
     "output_type": "stream",
     "text": [
      "C:\\Users\\pessoal\\anaconda3\\lib\\site-packages\\sklearn\\preprocessing\\_data.py:3260: RuntimeWarning: overflow encountered in power\n",
      "  out[~pos] = -(np.power(-x[~pos] + 1, 2 - lmbda) - 1) / (2 - lmbda)\n",
      "C:\\Users\\pessoal\\anaconda3\\lib\\site-packages\\numpy\\core\\_methods.py:239: RuntimeWarning: overflow encountered in multiply\n",
      "  x = um.multiply(x, x, out=x)\n",
      "C:\\Users\\pessoal\\anaconda3\\lib\\site-packages\\numpy\\core\\_methods.py:250: RuntimeWarning: overflow encountered in reduce\n",
      "  ret = umr_sum(x, axis, dtype, out, keepdims=keepdims, where=where)\n"
     ]
    },
    {
     "name": "stdout",
     "output_type": "stream",
     "text": [
      "[CV 3/5] END lgbm__learning_rate=0.001, lgbm__max_depth=3, lgbm__n_estimators=1000, lgbm__num_leaves=21, preprocessor__text_vec__max_features=50;, score=(train=-211.077, test=-260.914) total time=   2.0s\n"
     ]
    },
    {
     "name": "stderr",
     "output_type": "stream",
     "text": [
      "C:\\Users\\pessoal\\anaconda3\\lib\\site-packages\\sklearn\\preprocessing\\_data.py:3260: RuntimeWarning: overflow encountered in power\n",
      "  out[~pos] = -(np.power(-x[~pos] + 1, 2 - lmbda) - 1) / (2 - lmbda)\n",
      "C:\\Users\\pessoal\\anaconda3\\lib\\site-packages\\numpy\\core\\_methods.py:239: RuntimeWarning: overflow encountered in multiply\n",
      "  x = um.multiply(x, x, out=x)\n",
      "C:\\Users\\pessoal\\anaconda3\\lib\\site-packages\\numpy\\core\\_methods.py:250: RuntimeWarning: overflow encountered in reduce\n",
      "  ret = umr_sum(x, axis, dtype, out, keepdims=keepdims, where=where)\n"
     ]
    },
    {
     "name": "stdout",
     "output_type": "stream",
     "text": [
      "[CV 4/5] END lgbm__learning_rate=0.001, lgbm__max_depth=3, lgbm__n_estimators=1000, lgbm__num_leaves=21, preprocessor__text_vec__max_features=50;, score=(train=-231.776, test=-176.110) total time=   2.2s\n"
     ]
    },
    {
     "name": "stderr",
     "output_type": "stream",
     "text": [
      "C:\\Users\\pessoal\\anaconda3\\lib\\site-packages\\sklearn\\preprocessing\\_data.py:3260: RuntimeWarning: overflow encountered in power\n",
      "  out[~pos] = -(np.power(-x[~pos] + 1, 2 - lmbda) - 1) / (2 - lmbda)\n",
      "C:\\Users\\pessoal\\anaconda3\\lib\\site-packages\\numpy\\core\\_methods.py:239: RuntimeWarning: overflow encountered in multiply\n",
      "  x = um.multiply(x, x, out=x)\n",
      "C:\\Users\\pessoal\\anaconda3\\lib\\site-packages\\numpy\\core\\_methods.py:250: RuntimeWarning: overflow encountered in reduce\n",
      "  ret = umr_sum(x, axis, dtype, out, keepdims=keepdims, where=where)\n"
     ]
    },
    {
     "name": "stdout",
     "output_type": "stream",
     "text": [
      "[CV 5/5] END lgbm__learning_rate=0.001, lgbm__max_depth=3, lgbm__n_estimators=1000, lgbm__num_leaves=21, preprocessor__text_vec__max_features=50;, score=(train=-229.342, test=-187.674) total time=   2.3s\n"
     ]
    },
    {
     "name": "stderr",
     "output_type": "stream",
     "text": [
      "C:\\Users\\pessoal\\anaconda3\\lib\\site-packages\\sklearn\\preprocessing\\_data.py:3260: RuntimeWarning: overflow encountered in power\n",
      "  out[~pos] = -(np.power(-x[~pos] + 1, 2 - lmbda) - 1) / (2 - lmbda)\n",
      "C:\\Users\\pessoal\\anaconda3\\lib\\site-packages\\numpy\\core\\_methods.py:239: RuntimeWarning: overflow encountered in multiply\n",
      "  x = um.multiply(x, x, out=x)\n",
      "C:\\Users\\pessoal\\anaconda3\\lib\\site-packages\\numpy\\core\\_methods.py:250: RuntimeWarning: overflow encountered in reduce\n",
      "  ret = umr_sum(x, axis, dtype, out, keepdims=keepdims, where=where)\n"
     ]
    },
    {
     "name": "stdout",
     "output_type": "stream",
     "text": [
      "[CV 1/5] END lgbm__learning_rate=0.03, lgbm__max_depth=5, lgbm__n_estimators=500, lgbm__num_leaves=21, preprocessor__text_vec__max_features=10;, score=(train=-194.218, test=-219.262) total time=   1.0s\n"
     ]
    },
    {
     "name": "stderr",
     "output_type": "stream",
     "text": [
      "C:\\Users\\pessoal\\anaconda3\\lib\\site-packages\\sklearn\\preprocessing\\_data.py:3260: RuntimeWarning: overflow encountered in power\n",
      "  out[~pos] = -(np.power(-x[~pos] + 1, 2 - lmbda) - 1) / (2 - lmbda)\n",
      "C:\\Users\\pessoal\\anaconda3\\lib\\site-packages\\numpy\\core\\_methods.py:239: RuntimeWarning: overflow encountered in multiply\n",
      "  x = um.multiply(x, x, out=x)\n",
      "C:\\Users\\pessoal\\anaconda3\\lib\\site-packages\\numpy\\core\\_methods.py:250: RuntimeWarning: overflow encountered in reduce\n",
      "  ret = umr_sum(x, axis, dtype, out, keepdims=keepdims, where=where)\n"
     ]
    },
    {
     "name": "stdout",
     "output_type": "stream",
     "text": [
      "[CV 2/5] END lgbm__learning_rate=0.03, lgbm__max_depth=5, lgbm__n_estimators=500, lgbm__num_leaves=21, preprocessor__text_vec__max_features=10;, score=(train=-183.912, test=-248.505) total time=   1.1s\n"
     ]
    },
    {
     "name": "stderr",
     "output_type": "stream",
     "text": [
      "C:\\Users\\pessoal\\anaconda3\\lib\\site-packages\\sklearn\\preprocessing\\_data.py:3260: RuntimeWarning: overflow encountered in power\n",
      "  out[~pos] = -(np.power(-x[~pos] + 1, 2 - lmbda) - 1) / (2 - lmbda)\n",
      "C:\\Users\\pessoal\\anaconda3\\lib\\site-packages\\numpy\\core\\_methods.py:239: RuntimeWarning: overflow encountered in multiply\n",
      "  x = um.multiply(x, x, out=x)\n",
      "C:\\Users\\pessoal\\anaconda3\\lib\\site-packages\\numpy\\core\\_methods.py:250: RuntimeWarning: overflow encountered in reduce\n",
      "  ret = umr_sum(x, axis, dtype, out, keepdims=keepdims, where=where)\n"
     ]
    },
    {
     "name": "stdout",
     "output_type": "stream",
     "text": [
      "[CV 3/5] END lgbm__learning_rate=0.03, lgbm__max_depth=5, lgbm__n_estimators=500, lgbm__num_leaves=21, preprocessor__text_vec__max_features=10;, score=(train=-184.672, test=-254.150) total time=   1.0s\n"
     ]
    },
    {
     "name": "stderr",
     "output_type": "stream",
     "text": [
      "C:\\Users\\pessoal\\anaconda3\\lib\\site-packages\\sklearn\\preprocessing\\_data.py:3260: RuntimeWarning: overflow encountered in power\n",
      "  out[~pos] = -(np.power(-x[~pos] + 1, 2 - lmbda) - 1) / (2 - lmbda)\n",
      "C:\\Users\\pessoal\\anaconda3\\lib\\site-packages\\numpy\\core\\_methods.py:239: RuntimeWarning: overflow encountered in multiply\n",
      "  x = um.multiply(x, x, out=x)\n",
      "C:\\Users\\pessoal\\anaconda3\\lib\\site-packages\\numpy\\core\\_methods.py:250: RuntimeWarning: overflow encountered in reduce\n",
      "  ret = umr_sum(x, axis, dtype, out, keepdims=keepdims, where=where)\n"
     ]
    },
    {
     "name": "stdout",
     "output_type": "stream",
     "text": [
      "[CV 4/5] END lgbm__learning_rate=0.03, lgbm__max_depth=5, lgbm__n_estimators=500, lgbm__num_leaves=21, preprocessor__text_vec__max_features=10;, score=(train=-204.643, test=-166.759) total time=   1.0s\n"
     ]
    },
    {
     "name": "stderr",
     "output_type": "stream",
     "text": [
      "C:\\Users\\pessoal\\anaconda3\\lib\\site-packages\\sklearn\\preprocessing\\_data.py:3260: RuntimeWarning: overflow encountered in power\n",
      "  out[~pos] = -(np.power(-x[~pos] + 1, 2 - lmbda) - 1) / (2 - lmbda)\n",
      "C:\\Users\\pessoal\\anaconda3\\lib\\site-packages\\numpy\\core\\_methods.py:239: RuntimeWarning: overflow encountered in multiply\n",
      "  x = um.multiply(x, x, out=x)\n",
      "C:\\Users\\pessoal\\anaconda3\\lib\\site-packages\\numpy\\core\\_methods.py:250: RuntimeWarning: overflow encountered in reduce\n",
      "  ret = umr_sum(x, axis, dtype, out, keepdims=keepdims, where=where)\n"
     ]
    },
    {
     "name": "stdout",
     "output_type": "stream",
     "text": [
      "[CV 5/5] END lgbm__learning_rate=0.03, lgbm__max_depth=5, lgbm__n_estimators=500, lgbm__num_leaves=21, preprocessor__text_vec__max_features=10;, score=(train=-200.341, test=-179.521) total time=   1.0s\n"
     ]
    },
    {
     "name": "stderr",
     "output_type": "stream",
     "text": [
      "C:\\Users\\pessoal\\anaconda3\\lib\\site-packages\\sklearn\\preprocessing\\_data.py:3260: RuntimeWarning: overflow encountered in power\n",
      "  out[~pos] = -(np.power(-x[~pos] + 1, 2 - lmbda) - 1) / (2 - lmbda)\n",
      "C:\\Users\\pessoal\\anaconda3\\lib\\site-packages\\numpy\\core\\_methods.py:239: RuntimeWarning: overflow encountered in multiply\n",
      "  x = um.multiply(x, x, out=x)\n",
      "C:\\Users\\pessoal\\anaconda3\\lib\\site-packages\\numpy\\core\\_methods.py:250: RuntimeWarning: overflow encountered in reduce\n",
      "  ret = umr_sum(x, axis, dtype, out, keepdims=keepdims, where=where)\n"
     ]
    },
    {
     "name": "stdout",
     "output_type": "stream",
     "text": [
      "[CV 1/5] END lgbm__learning_rate=0.1, lgbm__max_depth=-1, lgbm__n_estimators=500, lgbm__num_leaves=7, preprocessor__text_vec__max_features=10;, score=(train=-187.608, test=-220.864) total time=   0.8s\n"
     ]
    },
    {
     "name": "stderr",
     "output_type": "stream",
     "text": [
      "C:\\Users\\pessoal\\anaconda3\\lib\\site-packages\\sklearn\\preprocessing\\_data.py:3260: RuntimeWarning: overflow encountered in power\n",
      "  out[~pos] = -(np.power(-x[~pos] + 1, 2 - lmbda) - 1) / (2 - lmbda)\n",
      "C:\\Users\\pessoal\\anaconda3\\lib\\site-packages\\numpy\\core\\_methods.py:239: RuntimeWarning: overflow encountered in multiply\n",
      "  x = um.multiply(x, x, out=x)\n",
      "C:\\Users\\pessoal\\anaconda3\\lib\\site-packages\\numpy\\core\\_methods.py:250: RuntimeWarning: overflow encountered in reduce\n",
      "  ret = umr_sum(x, axis, dtype, out, keepdims=keepdims, where=where)\n"
     ]
    },
    {
     "name": "stdout",
     "output_type": "stream",
     "text": [
      "[CV 2/5] END lgbm__learning_rate=0.1, lgbm__max_depth=-1, lgbm__n_estimators=500, lgbm__num_leaves=7, preprocessor__text_vec__max_features=10;, score=(train=-176.447, test=-249.770) total time=   0.8s\n"
     ]
    },
    {
     "name": "stderr",
     "output_type": "stream",
     "text": [
      "C:\\Users\\pessoal\\anaconda3\\lib\\site-packages\\sklearn\\preprocessing\\_data.py:3260: RuntimeWarning: overflow encountered in power\n",
      "  out[~pos] = -(np.power(-x[~pos] + 1, 2 - lmbda) - 1) / (2 - lmbda)\n",
      "C:\\Users\\pessoal\\anaconda3\\lib\\site-packages\\numpy\\core\\_methods.py:239: RuntimeWarning: overflow encountered in multiply\n",
      "  x = um.multiply(x, x, out=x)\n",
      "C:\\Users\\pessoal\\anaconda3\\lib\\site-packages\\numpy\\core\\_methods.py:250: RuntimeWarning: overflow encountered in reduce\n",
      "  ret = umr_sum(x, axis, dtype, out, keepdims=keepdims, where=where)\n"
     ]
    },
    {
     "name": "stdout",
     "output_type": "stream",
     "text": [
      "[CV 3/5] END lgbm__learning_rate=0.1, lgbm__max_depth=-1, lgbm__n_estimators=500, lgbm__num_leaves=7, preprocessor__text_vec__max_features=10;, score=(train=-174.294, test=-254.962) total time=   0.8s\n"
     ]
    },
    {
     "name": "stderr",
     "output_type": "stream",
     "text": [
      "C:\\Users\\pessoal\\anaconda3\\lib\\site-packages\\sklearn\\preprocessing\\_data.py:3260: RuntimeWarning: overflow encountered in power\n",
      "  out[~pos] = -(np.power(-x[~pos] + 1, 2 - lmbda) - 1) / (2 - lmbda)\n",
      "C:\\Users\\pessoal\\anaconda3\\lib\\site-packages\\numpy\\core\\_methods.py:239: RuntimeWarning: overflow encountered in multiply\n",
      "  x = um.multiply(x, x, out=x)\n",
      "C:\\Users\\pessoal\\anaconda3\\lib\\site-packages\\numpy\\core\\_methods.py:250: RuntimeWarning: overflow encountered in reduce\n",
      "  ret = umr_sum(x, axis, dtype, out, keepdims=keepdims, where=where)\n"
     ]
    },
    {
     "name": "stdout",
     "output_type": "stream",
     "text": [
      "[CV 4/5] END lgbm__learning_rate=0.1, lgbm__max_depth=-1, lgbm__n_estimators=500, lgbm__num_leaves=7, preprocessor__text_vec__max_features=10;, score=(train=-196.096, test=-168.726) total time=   0.9s\n"
     ]
    },
    {
     "name": "stderr",
     "output_type": "stream",
     "text": [
      "C:\\Users\\pessoal\\anaconda3\\lib\\site-packages\\sklearn\\preprocessing\\_data.py:3260: RuntimeWarning: overflow encountered in power\n",
      "  out[~pos] = -(np.power(-x[~pos] + 1, 2 - lmbda) - 1) / (2 - lmbda)\n",
      "C:\\Users\\pessoal\\anaconda3\\lib\\site-packages\\numpy\\core\\_methods.py:239: RuntimeWarning: overflow encountered in multiply\n",
      "  x = um.multiply(x, x, out=x)\n",
      "C:\\Users\\pessoal\\anaconda3\\lib\\site-packages\\numpy\\core\\_methods.py:250: RuntimeWarning: overflow encountered in reduce\n",
      "  ret = umr_sum(x, axis, dtype, out, keepdims=keepdims, where=where)\n"
     ]
    },
    {
     "name": "stdout",
     "output_type": "stream",
     "text": [
      "[CV 5/5] END lgbm__learning_rate=0.1, lgbm__max_depth=-1, lgbm__n_estimators=500, lgbm__num_leaves=7, preprocessor__text_vec__max_features=10;, score=(train=-189.624, test=-180.204) total time=   0.9s\n"
     ]
    },
    {
     "name": "stderr",
     "output_type": "stream",
     "text": [
      "C:\\Users\\pessoal\\anaconda3\\lib\\site-packages\\sklearn\\preprocessing\\_data.py:3260: RuntimeWarning: overflow encountered in power\n",
      "  out[~pos] = -(np.power(-x[~pos] + 1, 2 - lmbda) - 1) / (2 - lmbda)\n",
      "C:\\Users\\pessoal\\anaconda3\\lib\\site-packages\\numpy\\core\\_methods.py:239: RuntimeWarning: overflow encountered in multiply\n",
      "  x = um.multiply(x, x, out=x)\n",
      "C:\\Users\\pessoal\\anaconda3\\lib\\site-packages\\numpy\\core\\_methods.py:250: RuntimeWarning: overflow encountered in reduce\n",
      "  ret = umr_sum(x, axis, dtype, out, keepdims=keepdims, where=where)\n"
     ]
    },
    {
     "name": "stdout",
     "output_type": "stream",
     "text": [
      "[CV 1/5] END lgbm__learning_rate=0.03, lgbm__max_depth=3, lgbm__n_estimators=200, lgbm__num_leaves=14, preprocessor__text_vec__max_features=50;, score=(train=-210.151, test=-218.198) total time=   0.8s\n"
     ]
    },
    {
     "name": "stderr",
     "output_type": "stream",
     "text": [
      "C:\\Users\\pessoal\\anaconda3\\lib\\site-packages\\sklearn\\preprocessing\\_data.py:3260: RuntimeWarning: overflow encountered in power\n",
      "  out[~pos] = -(np.power(-x[~pos] + 1, 2 - lmbda) - 1) / (2 - lmbda)\n",
      "C:\\Users\\pessoal\\anaconda3\\lib\\site-packages\\numpy\\core\\_methods.py:239: RuntimeWarning: overflow encountered in multiply\n",
      "  x = um.multiply(x, x, out=x)\n",
      "C:\\Users\\pessoal\\anaconda3\\lib\\site-packages\\numpy\\core\\_methods.py:250: RuntimeWarning: overflow encountered in reduce\n",
      "  ret = umr_sum(x, axis, dtype, out, keepdims=keepdims, where=where)\n"
     ]
    },
    {
     "name": "stdout",
     "output_type": "stream",
     "text": [
      "[CV 2/5] END lgbm__learning_rate=0.03, lgbm__max_depth=3, lgbm__n_estimators=200, lgbm__num_leaves=14, preprocessor__text_vec__max_features=50;, score=(train=-201.899, test=-251.297) total time=   0.8s\n"
     ]
    },
    {
     "name": "stderr",
     "output_type": "stream",
     "text": [
      "C:\\Users\\pessoal\\anaconda3\\lib\\site-packages\\sklearn\\preprocessing\\_data.py:3260: RuntimeWarning: overflow encountered in power\n",
      "  out[~pos] = -(np.power(-x[~pos] + 1, 2 - lmbda) - 1) / (2 - lmbda)\n",
      "C:\\Users\\pessoal\\anaconda3\\lib\\site-packages\\numpy\\core\\_methods.py:239: RuntimeWarning: overflow encountered in multiply\n",
      "  x = um.multiply(x, x, out=x)\n",
      "C:\\Users\\pessoal\\anaconda3\\lib\\site-packages\\numpy\\core\\_methods.py:250: RuntimeWarning: overflow encountered in reduce\n",
      "  ret = umr_sum(x, axis, dtype, out, keepdims=keepdims, where=where)\n"
     ]
    },
    {
     "name": "stdout",
     "output_type": "stream",
     "text": [
      "[CV 3/5] END lgbm__learning_rate=0.03, lgbm__max_depth=3, lgbm__n_estimators=200, lgbm__num_leaves=14, preprocessor__text_vec__max_features=50;, score=(train=-199.962, test=-255.173) total time=   0.8s\n"
     ]
    },
    {
     "name": "stderr",
     "output_type": "stream",
     "text": [
      "C:\\Users\\pessoal\\anaconda3\\lib\\site-packages\\sklearn\\preprocessing\\_data.py:3260: RuntimeWarning: overflow encountered in power\n",
      "  out[~pos] = -(np.power(-x[~pos] + 1, 2 - lmbda) - 1) / (2 - lmbda)\n",
      "C:\\Users\\pessoal\\anaconda3\\lib\\site-packages\\numpy\\core\\_methods.py:239: RuntimeWarning: overflow encountered in multiply\n",
      "  x = um.multiply(x, x, out=x)\n",
      "C:\\Users\\pessoal\\anaconda3\\lib\\site-packages\\numpy\\core\\_methods.py:250: RuntimeWarning: overflow encountered in reduce\n",
      "  ret = umr_sum(x, axis, dtype, out, keepdims=keepdims, where=where)\n"
     ]
    },
    {
     "name": "stdout",
     "output_type": "stream",
     "text": [
      "[CV 4/5] END lgbm__learning_rate=0.03, lgbm__max_depth=3, lgbm__n_estimators=200, lgbm__num_leaves=14, preprocessor__text_vec__max_features=50;, score=(train=-220.556, test=-171.111) total time=   0.7s\n"
     ]
    },
    {
     "name": "stderr",
     "output_type": "stream",
     "text": [
      "C:\\Users\\pessoal\\anaconda3\\lib\\site-packages\\sklearn\\preprocessing\\_data.py:3260: RuntimeWarning: overflow encountered in power\n",
      "  out[~pos] = -(np.power(-x[~pos] + 1, 2 - lmbda) - 1) / (2 - lmbda)\n",
      "C:\\Users\\pessoal\\anaconda3\\lib\\site-packages\\numpy\\core\\_methods.py:239: RuntimeWarning: overflow encountered in multiply\n",
      "  x = um.multiply(x, x, out=x)\n",
      "C:\\Users\\pessoal\\anaconda3\\lib\\site-packages\\numpy\\core\\_methods.py:250: RuntimeWarning: overflow encountered in reduce\n",
      "  ret = umr_sum(x, axis, dtype, out, keepdims=keepdims, where=where)\n"
     ]
    },
    {
     "name": "stdout",
     "output_type": "stream",
     "text": [
      "[CV 5/5] END lgbm__learning_rate=0.03, lgbm__max_depth=3, lgbm__n_estimators=200, lgbm__num_leaves=14, preprocessor__text_vec__max_features=50;, score=(train=-218.070, test=-181.806) total time=   0.8s\n"
     ]
    },
    {
     "name": "stderr",
     "output_type": "stream",
     "text": [
      "C:\\Users\\pessoal\\anaconda3\\lib\\site-packages\\sklearn\\preprocessing\\_data.py:3260: RuntimeWarning: overflow encountered in power\n",
      "  out[~pos] = -(np.power(-x[~pos] + 1, 2 - lmbda) - 1) / (2 - lmbda)\n",
      "C:\\Users\\pessoal\\anaconda3\\lib\\site-packages\\numpy\\core\\_methods.py:239: RuntimeWarning: overflow encountered in multiply\n",
      "  x = um.multiply(x, x, out=x)\n",
      "C:\\Users\\pessoal\\anaconda3\\lib\\site-packages\\numpy\\core\\_methods.py:250: RuntimeWarning: overflow encountered in reduce\n",
      "  ret = umr_sum(x, axis, dtype, out, keepdims=keepdims, where=where)\n"
     ]
    },
    {
     "name": "stdout",
     "output_type": "stream",
     "text": [
      "[CV 1/5] END lgbm__learning_rate=0.1, lgbm__max_depth=3, lgbm__n_estimators=1000, lgbm__num_leaves=7, preprocessor__text_vec__max_features=10;, score=(train=-184.069, test=-224.302) total time=   1.2s\n"
     ]
    },
    {
     "name": "stderr",
     "output_type": "stream",
     "text": [
      "C:\\Users\\pessoal\\anaconda3\\lib\\site-packages\\sklearn\\preprocessing\\_data.py:3260: RuntimeWarning: overflow encountered in power\n",
      "  out[~pos] = -(np.power(-x[~pos] + 1, 2 - lmbda) - 1) / (2 - lmbda)\n",
      "C:\\Users\\pessoal\\anaconda3\\lib\\site-packages\\numpy\\core\\_methods.py:239: RuntimeWarning: overflow encountered in multiply\n",
      "  x = um.multiply(x, x, out=x)\n",
      "C:\\Users\\pessoal\\anaconda3\\lib\\site-packages\\numpy\\core\\_methods.py:250: RuntimeWarning: overflow encountered in reduce\n",
      "  ret = umr_sum(x, axis, dtype, out, keepdims=keepdims, where=where)\n"
     ]
    },
    {
     "name": "stdout",
     "output_type": "stream",
     "text": [
      "[CV 2/5] END lgbm__learning_rate=0.1, lgbm__max_depth=3, lgbm__n_estimators=1000, lgbm__num_leaves=7, preprocessor__text_vec__max_features=10;, score=(train=-179.753, test=-249.850) total time=   1.1s\n"
     ]
    },
    {
     "name": "stderr",
     "output_type": "stream",
     "text": [
      "C:\\Users\\pessoal\\anaconda3\\lib\\site-packages\\sklearn\\preprocessing\\_data.py:3260: RuntimeWarning: overflow encountered in power\n",
      "  out[~pos] = -(np.power(-x[~pos] + 1, 2 - lmbda) - 1) / (2 - lmbda)\n",
      "C:\\Users\\pessoal\\anaconda3\\lib\\site-packages\\numpy\\core\\_methods.py:239: RuntimeWarning: overflow encountered in multiply\n",
      "  x = um.multiply(x, x, out=x)\n",
      "C:\\Users\\pessoal\\anaconda3\\lib\\site-packages\\numpy\\core\\_methods.py:250: RuntimeWarning: overflow encountered in reduce\n",
      "  ret = umr_sum(x, axis, dtype, out, keepdims=keepdims, where=where)\n"
     ]
    },
    {
     "name": "stdout",
     "output_type": "stream",
     "text": [
      "[CV 3/5] END lgbm__learning_rate=0.1, lgbm__max_depth=3, lgbm__n_estimators=1000, lgbm__num_leaves=7, preprocessor__text_vec__max_features=10;, score=(train=-172.151, test=-257.128) total time=   1.1s\n"
     ]
    },
    {
     "name": "stderr",
     "output_type": "stream",
     "text": [
      "C:\\Users\\pessoal\\anaconda3\\lib\\site-packages\\sklearn\\preprocessing\\_data.py:3260: RuntimeWarning: overflow encountered in power\n",
      "  out[~pos] = -(np.power(-x[~pos] + 1, 2 - lmbda) - 1) / (2 - lmbda)\n",
      "C:\\Users\\pessoal\\anaconda3\\lib\\site-packages\\numpy\\core\\_methods.py:239: RuntimeWarning: overflow encountered in multiply\n",
      "  x = um.multiply(x, x, out=x)\n",
      "C:\\Users\\pessoal\\anaconda3\\lib\\site-packages\\numpy\\core\\_methods.py:250: RuntimeWarning: overflow encountered in reduce\n",
      "  ret = umr_sum(x, axis, dtype, out, keepdims=keepdims, where=where)\n"
     ]
    },
    {
     "name": "stdout",
     "output_type": "stream",
     "text": [
      "[CV 4/5] END lgbm__learning_rate=0.1, lgbm__max_depth=3, lgbm__n_estimators=1000, lgbm__num_leaves=7, preprocessor__text_vec__max_features=10;, score=(train=-193.585, test=-168.609) total time=   1.1s\n"
     ]
    },
    {
     "name": "stderr",
     "output_type": "stream",
     "text": [
      "C:\\Users\\pessoal\\anaconda3\\lib\\site-packages\\sklearn\\preprocessing\\_data.py:3260: RuntimeWarning: overflow encountered in power\n",
      "  out[~pos] = -(np.power(-x[~pos] + 1, 2 - lmbda) - 1) / (2 - lmbda)\n",
      "C:\\Users\\pessoal\\anaconda3\\lib\\site-packages\\numpy\\core\\_methods.py:239: RuntimeWarning: overflow encountered in multiply\n",
      "  x = um.multiply(x, x, out=x)\n",
      "C:\\Users\\pessoal\\anaconda3\\lib\\site-packages\\numpy\\core\\_methods.py:250: RuntimeWarning: overflow encountered in reduce\n",
      "  ret = umr_sum(x, axis, dtype, out, keepdims=keepdims, where=where)\n"
     ]
    },
    {
     "name": "stdout",
     "output_type": "stream",
     "text": [
      "[CV 5/5] END lgbm__learning_rate=0.1, lgbm__max_depth=3, lgbm__n_estimators=1000, lgbm__num_leaves=7, preprocessor__text_vec__max_features=10;, score=(train=-192.493, test=-182.549) total time=   1.2s\n"
     ]
    },
    {
     "name": "stderr",
     "output_type": "stream",
     "text": [
      "C:\\Users\\pessoal\\anaconda3\\lib\\site-packages\\sklearn\\preprocessing\\_data.py:3260: RuntimeWarning: overflow encountered in power\n",
      "  out[~pos] = -(np.power(-x[~pos] + 1, 2 - lmbda) - 1) / (2 - lmbda)\n",
      "C:\\Users\\pessoal\\anaconda3\\lib\\site-packages\\numpy\\core\\_methods.py:239: RuntimeWarning: overflow encountered in multiply\n",
      "  x = um.multiply(x, x, out=x)\n",
      "C:\\Users\\pessoal\\anaconda3\\lib\\site-packages\\numpy\\core\\_methods.py:250: RuntimeWarning: overflow encountered in reduce\n",
      "  ret = umr_sum(x, axis, dtype, out, keepdims=keepdims, where=where)\n"
     ]
    },
    {
     "name": "stdout",
     "output_type": "stream",
     "text": [
      "[CV 1/5] END lgbm__learning_rate=0.001, lgbm__max_depth=3, lgbm__n_estimators=1000, lgbm__num_leaves=7, preprocessor__text_vec__max_features=50;, score=(train=-221.713, test=-222.872) total time=   2.1s\n"
     ]
    },
    {
     "name": "stderr",
     "output_type": "stream",
     "text": [
      "C:\\Users\\pessoal\\anaconda3\\lib\\site-packages\\sklearn\\preprocessing\\_data.py:3260: RuntimeWarning: overflow encountered in power\n",
      "  out[~pos] = -(np.power(-x[~pos] + 1, 2 - lmbda) - 1) / (2 - lmbda)\n",
      "C:\\Users\\pessoal\\anaconda3\\lib\\site-packages\\numpy\\core\\_methods.py:239: RuntimeWarning: overflow encountered in multiply\n",
      "  x = um.multiply(x, x, out=x)\n",
      "C:\\Users\\pessoal\\anaconda3\\lib\\site-packages\\numpy\\core\\_methods.py:250: RuntimeWarning: overflow encountered in reduce\n",
      "  ret = umr_sum(x, axis, dtype, out, keepdims=keepdims, where=where)\n"
     ]
    },
    {
     "name": "stdout",
     "output_type": "stream",
     "text": [
      "[CV 2/5] END lgbm__learning_rate=0.001, lgbm__max_depth=3, lgbm__n_estimators=1000, lgbm__num_leaves=7, preprocessor__text_vec__max_features=50;, score=(train=-213.104, test=-255.725) total time=   2.2s\n"
     ]
    },
    {
     "name": "stderr",
     "output_type": "stream",
     "text": [
      "C:\\Users\\pessoal\\anaconda3\\lib\\site-packages\\sklearn\\preprocessing\\_data.py:3260: RuntimeWarning: overflow encountered in power\n",
      "  out[~pos] = -(np.power(-x[~pos] + 1, 2 - lmbda) - 1) / (2 - lmbda)\n",
      "C:\\Users\\pessoal\\anaconda3\\lib\\site-packages\\numpy\\core\\_methods.py:239: RuntimeWarning: overflow encountered in multiply\n",
      "  x = um.multiply(x, x, out=x)\n",
      "C:\\Users\\pessoal\\anaconda3\\lib\\site-packages\\numpy\\core\\_methods.py:250: RuntimeWarning: overflow encountered in reduce\n",
      "  ret = umr_sum(x, axis, dtype, out, keepdims=keepdims, where=where)\n"
     ]
    },
    {
     "name": "stdout",
     "output_type": "stream",
     "text": [
      "[CV 3/5] END lgbm__learning_rate=0.001, lgbm__max_depth=3, lgbm__n_estimators=1000, lgbm__num_leaves=7, preprocessor__text_vec__max_features=50;, score=(train=-211.077, test=-260.914) total time=   2.1s\n"
     ]
    },
    {
     "name": "stderr",
     "output_type": "stream",
     "text": [
      "C:\\Users\\pessoal\\anaconda3\\lib\\site-packages\\sklearn\\preprocessing\\_data.py:3260: RuntimeWarning: overflow encountered in power\n",
      "  out[~pos] = -(np.power(-x[~pos] + 1, 2 - lmbda) - 1) / (2 - lmbda)\n",
      "C:\\Users\\pessoal\\anaconda3\\lib\\site-packages\\numpy\\core\\_methods.py:239: RuntimeWarning: overflow encountered in multiply\n",
      "  x = um.multiply(x, x, out=x)\n",
      "C:\\Users\\pessoal\\anaconda3\\lib\\site-packages\\numpy\\core\\_methods.py:250: RuntimeWarning: overflow encountered in reduce\n",
      "  ret = umr_sum(x, axis, dtype, out, keepdims=keepdims, where=where)\n"
     ]
    },
    {
     "name": "stdout",
     "output_type": "stream",
     "text": [
      "[CV 4/5] END lgbm__learning_rate=0.001, lgbm__max_depth=3, lgbm__n_estimators=1000, lgbm__num_leaves=7, preprocessor__text_vec__max_features=50;, score=(train=-231.776, test=-176.110) total time=   2.0s\n"
     ]
    },
    {
     "name": "stderr",
     "output_type": "stream",
     "text": [
      "C:\\Users\\pessoal\\anaconda3\\lib\\site-packages\\sklearn\\preprocessing\\_data.py:3260: RuntimeWarning: overflow encountered in power\n",
      "  out[~pos] = -(np.power(-x[~pos] + 1, 2 - lmbda) - 1) / (2 - lmbda)\n",
      "C:\\Users\\pessoal\\anaconda3\\lib\\site-packages\\numpy\\core\\_methods.py:239: RuntimeWarning: overflow encountered in multiply\n",
      "  x = um.multiply(x, x, out=x)\n",
      "C:\\Users\\pessoal\\anaconda3\\lib\\site-packages\\numpy\\core\\_methods.py:250: RuntimeWarning: overflow encountered in reduce\n",
      "  ret = umr_sum(x, axis, dtype, out, keepdims=keepdims, where=where)\n"
     ]
    },
    {
     "name": "stdout",
     "output_type": "stream",
     "text": [
      "[CV 5/5] END lgbm__learning_rate=0.001, lgbm__max_depth=3, lgbm__n_estimators=1000, lgbm__num_leaves=7, preprocessor__text_vec__max_features=50;, score=(train=-229.343, test=-187.675) total time=   1.8s\n"
     ]
    },
    {
     "name": "stderr",
     "output_type": "stream",
     "text": [
      "C:\\Users\\pessoal\\anaconda3\\lib\\site-packages\\sklearn\\preprocessing\\_data.py:3260: RuntimeWarning: overflow encountered in power\n",
      "  out[~pos] = -(np.power(-x[~pos] + 1, 2 - lmbda) - 1) / (2 - lmbda)\n",
      "C:\\Users\\pessoal\\anaconda3\\lib\\site-packages\\numpy\\core\\_methods.py:239: RuntimeWarning: overflow encountered in multiply\n",
      "  x = um.multiply(x, x, out=x)\n",
      "C:\\Users\\pessoal\\anaconda3\\lib\\site-packages\\numpy\\core\\_methods.py:250: RuntimeWarning: overflow encountered in reduce\n",
      "  ret = umr_sum(x, axis, dtype, out, keepdims=keepdims, where=where)\n"
     ]
    },
    {
     "name": "stdout",
     "output_type": "stream",
     "text": [
      "[CV 1/5] END lgbm__learning_rate=0.001, lgbm__max_depth=5, lgbm__n_estimators=500, lgbm__num_leaves=7, preprocessor__text_vec__max_features=50;, score=(train=-225.039, test=-225.836) total time=   1.3s\n"
     ]
    },
    {
     "name": "stderr",
     "output_type": "stream",
     "text": [
      "C:\\Users\\pessoal\\anaconda3\\lib\\site-packages\\sklearn\\preprocessing\\_data.py:3260: RuntimeWarning: overflow encountered in power\n",
      "  out[~pos] = -(np.power(-x[~pos] + 1, 2 - lmbda) - 1) / (2 - lmbda)\n",
      "C:\\Users\\pessoal\\anaconda3\\lib\\site-packages\\numpy\\core\\_methods.py:239: RuntimeWarning: overflow encountered in multiply\n",
      "  x = um.multiply(x, x, out=x)\n",
      "C:\\Users\\pessoal\\anaconda3\\lib\\site-packages\\numpy\\core\\_methods.py:250: RuntimeWarning: overflow encountered in reduce\n",
      "  ret = umr_sum(x, axis, dtype, out, keepdims=keepdims, where=where)\n"
     ]
    },
    {
     "name": "stdout",
     "output_type": "stream",
     "text": [
      "[CV 2/5] END lgbm__learning_rate=0.001, lgbm__max_depth=5, lgbm__n_estimators=500, lgbm__num_leaves=7, preprocessor__text_vec__max_features=50;, score=(train=-216.108, test=-259.112) total time=   1.5s\n"
     ]
    },
    {
     "name": "stderr",
     "output_type": "stream",
     "text": [
      "C:\\Users\\pessoal\\anaconda3\\lib\\site-packages\\sklearn\\preprocessing\\_data.py:3260: RuntimeWarning: overflow encountered in power\n",
      "  out[~pos] = -(np.power(-x[~pos] + 1, 2 - lmbda) - 1) / (2 - lmbda)\n",
      "C:\\Users\\pessoal\\anaconda3\\lib\\site-packages\\numpy\\core\\_methods.py:239: RuntimeWarning: overflow encountered in multiply\n",
      "  x = um.multiply(x, x, out=x)\n",
      "C:\\Users\\pessoal\\anaconda3\\lib\\site-packages\\numpy\\core\\_methods.py:250: RuntimeWarning: overflow encountered in reduce\n",
      "  ret = umr_sum(x, axis, dtype, out, keepdims=keepdims, where=where)\n"
     ]
    },
    {
     "name": "stdout",
     "output_type": "stream",
     "text": [
      "[CV 3/5] END lgbm__learning_rate=0.001, lgbm__max_depth=5, lgbm__n_estimators=500, lgbm__num_leaves=7, preprocessor__text_vec__max_features=50;, score=(train=-214.431, test=-263.792) total time=   1.3s\n"
     ]
    },
    {
     "name": "stderr",
     "output_type": "stream",
     "text": [
      "C:\\Users\\pessoal\\anaconda3\\lib\\site-packages\\sklearn\\preprocessing\\_data.py:3260: RuntimeWarning: overflow encountered in power\n",
      "  out[~pos] = -(np.power(-x[~pos] + 1, 2 - lmbda) - 1) / (2 - lmbda)\n",
      "C:\\Users\\pessoal\\anaconda3\\lib\\site-packages\\numpy\\core\\_methods.py:239: RuntimeWarning: overflow encountered in multiply\n",
      "  x = um.multiply(x, x, out=x)\n",
      "C:\\Users\\pessoal\\anaconda3\\lib\\site-packages\\numpy\\core\\_methods.py:250: RuntimeWarning: overflow encountered in reduce\n",
      "  ret = umr_sum(x, axis, dtype, out, keepdims=keepdims, where=where)\n"
     ]
    },
    {
     "name": "stdout",
     "output_type": "stream",
     "text": [
      "[CV 4/5] END lgbm__learning_rate=0.001, lgbm__max_depth=5, lgbm__n_estimators=500, lgbm__num_leaves=7, preprocessor__text_vec__max_features=50;, score=(train=-235.073, test=-180.017) total time=   1.4s\n"
     ]
    },
    {
     "name": "stderr",
     "output_type": "stream",
     "text": [
      "C:\\Users\\pessoal\\anaconda3\\lib\\site-packages\\sklearn\\preprocessing\\_data.py:3260: RuntimeWarning: overflow encountered in power\n",
      "  out[~pos] = -(np.power(-x[~pos] + 1, 2 - lmbda) - 1) / (2 - lmbda)\n",
      "C:\\Users\\pessoal\\anaconda3\\lib\\site-packages\\numpy\\core\\_methods.py:239: RuntimeWarning: overflow encountered in multiply\n",
      "  x = um.multiply(x, x, out=x)\n",
      "C:\\Users\\pessoal\\anaconda3\\lib\\site-packages\\numpy\\core\\_methods.py:250: RuntimeWarning: overflow encountered in reduce\n",
      "  ret = umr_sum(x, axis, dtype, out, keepdims=keepdims, where=where)\n"
     ]
    },
    {
     "name": "stdout",
     "output_type": "stream",
     "text": [
      "[CV 5/5] END lgbm__learning_rate=0.001, lgbm__max_depth=5, lgbm__n_estimators=500, lgbm__num_leaves=7, preprocessor__text_vec__max_features=50;, score=(train=-232.926, test=-190.489) total time=   1.3s\n"
     ]
    },
    {
     "name": "stderr",
     "output_type": "stream",
     "text": [
      "C:\\Users\\pessoal\\anaconda3\\lib\\site-packages\\sklearn\\preprocessing\\_data.py:3260: RuntimeWarning: overflow encountered in power\n",
      "  out[~pos] = -(np.power(-x[~pos] + 1, 2 - lmbda) - 1) / (2 - lmbda)\n",
      "C:\\Users\\pessoal\\anaconda3\\lib\\site-packages\\numpy\\core\\_methods.py:239: RuntimeWarning: overflow encountered in multiply\n",
      "  x = um.multiply(x, x, out=x)\n",
      "C:\\Users\\pessoal\\anaconda3\\lib\\site-packages\\numpy\\core\\_methods.py:250: RuntimeWarning: overflow encountered in reduce\n",
      "  ret = umr_sum(x, axis, dtype, out, keepdims=keepdims, where=where)\n"
     ]
    },
    {
     "name": "stdout",
     "output_type": "stream",
     "text": [
      "[CV 1/5] END lgbm__learning_rate=0.001, lgbm__max_depth=-1, lgbm__n_estimators=200, lgbm__num_leaves=21, preprocessor__text_vec__max_features=50;, score=(train=-227.786, test=-229.523) total time=   1.2s\n"
     ]
    },
    {
     "name": "stderr",
     "output_type": "stream",
     "text": [
      "C:\\Users\\pessoal\\anaconda3\\lib\\site-packages\\sklearn\\preprocessing\\_data.py:3260: RuntimeWarning: overflow encountered in power\n",
      "  out[~pos] = -(np.power(-x[~pos] + 1, 2 - lmbda) - 1) / (2 - lmbda)\n",
      "C:\\Users\\pessoal\\anaconda3\\lib\\site-packages\\numpy\\core\\_methods.py:239: RuntimeWarning: overflow encountered in multiply\n",
      "  x = um.multiply(x, x, out=x)\n",
      "C:\\Users\\pessoal\\anaconda3\\lib\\site-packages\\numpy\\core\\_methods.py:250: RuntimeWarning: overflow encountered in reduce\n",
      "  ret = umr_sum(x, axis, dtype, out, keepdims=keepdims, where=where)\n"
     ]
    },
    {
     "name": "stdout",
     "output_type": "stream",
     "text": [
      "[CV 2/5] END lgbm__learning_rate=0.001, lgbm__max_depth=-1, lgbm__n_estimators=200, lgbm__num_leaves=21, preprocessor__text_vec__max_features=50;, score=(train=-219.228, test=-262.125) total time=   1.2s\n"
     ]
    },
    {
     "name": "stderr",
     "output_type": "stream",
     "text": [
      "C:\\Users\\pessoal\\anaconda3\\lib\\site-packages\\sklearn\\preprocessing\\_data.py:3260: RuntimeWarning: overflow encountered in power\n",
      "  out[~pos] = -(np.power(-x[~pos] + 1, 2 - lmbda) - 1) / (2 - lmbda)\n",
      "C:\\Users\\pessoal\\anaconda3\\lib\\site-packages\\numpy\\core\\_methods.py:239: RuntimeWarning: overflow encountered in multiply\n",
      "  x = um.multiply(x, x, out=x)\n",
      "C:\\Users\\pessoal\\anaconda3\\lib\\site-packages\\numpy\\core\\_methods.py:250: RuntimeWarning: overflow encountered in reduce\n",
      "  ret = umr_sum(x, axis, dtype, out, keepdims=keepdims, where=where)\n"
     ]
    },
    {
     "name": "stdout",
     "output_type": "stream",
     "text": [
      "[CV 3/5] END lgbm__learning_rate=0.001, lgbm__max_depth=-1, lgbm__n_estimators=200, lgbm__num_leaves=21, preprocessor__text_vec__max_features=50;, score=(train=-217.641, test=-266.501) total time=   1.3s\n"
     ]
    },
    {
     "name": "stderr",
     "output_type": "stream",
     "text": [
      "C:\\Users\\pessoal\\anaconda3\\lib\\site-packages\\sklearn\\preprocessing\\_data.py:3260: RuntimeWarning: overflow encountered in power\n",
      "  out[~pos] = -(np.power(-x[~pos] + 1, 2 - lmbda) - 1) / (2 - lmbda)\n",
      "C:\\Users\\pessoal\\anaconda3\\lib\\site-packages\\numpy\\core\\_methods.py:239: RuntimeWarning: overflow encountered in multiply\n",
      "  x = um.multiply(x, x, out=x)\n",
      "C:\\Users\\pessoal\\anaconda3\\lib\\site-packages\\numpy\\core\\_methods.py:250: RuntimeWarning: overflow encountered in reduce\n",
      "  ret = umr_sum(x, axis, dtype, out, keepdims=keepdims, where=where)\n"
     ]
    },
    {
     "name": "stdout",
     "output_type": "stream",
     "text": [
      "[CV 4/5] END lgbm__learning_rate=0.001, lgbm__max_depth=-1, lgbm__n_estimators=200, lgbm__num_leaves=21, preprocessor__text_vec__max_features=50;, score=(train=-237.816, test=-183.931) total time=   1.3s\n"
     ]
    },
    {
     "name": "stderr",
     "output_type": "stream",
     "text": [
      "C:\\Users\\pessoal\\anaconda3\\lib\\site-packages\\sklearn\\preprocessing\\_data.py:3260: RuntimeWarning: overflow encountered in power\n",
      "  out[~pos] = -(np.power(-x[~pos] + 1, 2 - lmbda) - 1) / (2 - lmbda)\n",
      "C:\\Users\\pessoal\\anaconda3\\lib\\site-packages\\numpy\\core\\_methods.py:239: RuntimeWarning: overflow encountered in multiply\n",
      "  x = um.multiply(x, x, out=x)\n",
      "C:\\Users\\pessoal\\anaconda3\\lib\\site-packages\\numpy\\core\\_methods.py:250: RuntimeWarning: overflow encountered in reduce\n",
      "  ret = umr_sum(x, axis, dtype, out, keepdims=keepdims, where=where)\n"
     ]
    },
    {
     "name": "stdout",
     "output_type": "stream",
     "text": [
      "[CV 5/5] END lgbm__learning_rate=0.001, lgbm__max_depth=-1, lgbm__n_estimators=200, lgbm__num_leaves=21, preprocessor__text_vec__max_features=50;, score=(train=-235.601, test=-194.142) total time=   1.2s\n"
     ]
    },
    {
     "name": "stderr",
     "output_type": "stream",
     "text": [
      "C:\\Users\\pessoal\\anaconda3\\lib\\site-packages\\sklearn\\preprocessing\\_data.py:3260: RuntimeWarning: overflow encountered in power\n",
      "  out[~pos] = -(np.power(-x[~pos] + 1, 2 - lmbda) - 1) / (2 - lmbda)\n",
      "C:\\Users\\pessoal\\anaconda3\\lib\\site-packages\\numpy\\core\\_methods.py:239: RuntimeWarning: overflow encountered in multiply\n",
      "  x = um.multiply(x, x, out=x)\n",
      "C:\\Users\\pessoal\\anaconda3\\lib\\site-packages\\numpy\\core\\_methods.py:250: RuntimeWarning: overflow encountered in reduce\n",
      "  ret = umr_sum(x, axis, dtype, out, keepdims=keepdims, where=where)\n"
     ]
    },
    {
     "name": "stdout",
     "output_type": "stream",
     "text": [
      "[CV 1/5] END lgbm__learning_rate=0.03, lgbm__max_depth=-1, lgbm__n_estimators=200, lgbm__num_leaves=7, preprocessor__text_vec__max_features=20;, score=(train=-206.407, test=-216.444) total time=   0.8s\n"
     ]
    },
    {
     "name": "stderr",
     "output_type": "stream",
     "text": [
      "C:\\Users\\pessoal\\anaconda3\\lib\\site-packages\\sklearn\\preprocessing\\_data.py:3260: RuntimeWarning: overflow encountered in power\n",
      "  out[~pos] = -(np.power(-x[~pos] + 1, 2 - lmbda) - 1) / (2 - lmbda)\n",
      "C:\\Users\\pessoal\\anaconda3\\lib\\site-packages\\numpy\\core\\_methods.py:239: RuntimeWarning: overflow encountered in multiply\n",
      "  x = um.multiply(x, x, out=x)\n",
      "C:\\Users\\pessoal\\anaconda3\\lib\\site-packages\\numpy\\core\\_methods.py:250: RuntimeWarning: overflow encountered in reduce\n",
      "  ret = umr_sum(x, axis, dtype, out, keepdims=keepdims, where=where)\n"
     ]
    },
    {
     "name": "stdout",
     "output_type": "stream",
     "text": [
      "[CV 2/5] END lgbm__learning_rate=0.03, lgbm__max_depth=-1, lgbm__n_estimators=200, lgbm__num_leaves=7, preprocessor__text_vec__max_features=20;, score=(train=-198.473, test=-250.843) total time=   0.7s\n"
     ]
    },
    {
     "name": "stderr",
     "output_type": "stream",
     "text": [
      "C:\\Users\\pessoal\\anaconda3\\lib\\site-packages\\sklearn\\preprocessing\\_data.py:3260: RuntimeWarning: overflow encountered in power\n",
      "  out[~pos] = -(np.power(-x[~pos] + 1, 2 - lmbda) - 1) / (2 - lmbda)\n",
      "C:\\Users\\pessoal\\anaconda3\\lib\\site-packages\\numpy\\core\\_methods.py:239: RuntimeWarning: overflow encountered in multiply\n",
      "  x = um.multiply(x, x, out=x)\n",
      "C:\\Users\\pessoal\\anaconda3\\lib\\site-packages\\numpy\\core\\_methods.py:250: RuntimeWarning: overflow encountered in reduce\n",
      "  ret = umr_sum(x, axis, dtype, out, keepdims=keepdims, where=where)\n"
     ]
    },
    {
     "name": "stdout",
     "output_type": "stream",
     "text": [
      "[CV 3/5] END lgbm__learning_rate=0.03, lgbm__max_depth=-1, lgbm__n_estimators=200, lgbm__num_leaves=7, preprocessor__text_vec__max_features=20;, score=(train=-195.955, test=-254.573) total time=   0.7s\n"
     ]
    },
    {
     "name": "stderr",
     "output_type": "stream",
     "text": [
      "C:\\Users\\pessoal\\anaconda3\\lib\\site-packages\\sklearn\\preprocessing\\_data.py:3260: RuntimeWarning: overflow encountered in power\n",
      "  out[~pos] = -(np.power(-x[~pos] + 1, 2 - lmbda) - 1) / (2 - lmbda)\n",
      "C:\\Users\\pessoal\\anaconda3\\lib\\site-packages\\numpy\\core\\_methods.py:239: RuntimeWarning: overflow encountered in multiply\n",
      "  x = um.multiply(x, x, out=x)\n",
      "C:\\Users\\pessoal\\anaconda3\\lib\\site-packages\\numpy\\core\\_methods.py:250: RuntimeWarning: overflow encountered in reduce\n",
      "  ret = umr_sum(x, axis, dtype, out, keepdims=keepdims, where=where)\n"
     ]
    },
    {
     "name": "stdout",
     "output_type": "stream",
     "text": [
      "[CV 4/5] END lgbm__learning_rate=0.03, lgbm__max_depth=-1, lgbm__n_estimators=200, lgbm__num_leaves=7, preprocessor__text_vec__max_features=20;, score=(train=-216.049, test=-167.934) total time=   0.7s\n"
     ]
    },
    {
     "name": "stderr",
     "output_type": "stream",
     "text": [
      "C:\\Users\\pessoal\\anaconda3\\lib\\site-packages\\sklearn\\preprocessing\\_data.py:3260: RuntimeWarning: overflow encountered in power\n",
      "  out[~pos] = -(np.power(-x[~pos] + 1, 2 - lmbda) - 1) / (2 - lmbda)\n",
      "C:\\Users\\pessoal\\anaconda3\\lib\\site-packages\\numpy\\core\\_methods.py:239: RuntimeWarning: overflow encountered in multiply\n",
      "  x = um.multiply(x, x, out=x)\n",
      "C:\\Users\\pessoal\\anaconda3\\lib\\site-packages\\numpy\\core\\_methods.py:250: RuntimeWarning: overflow encountered in reduce\n",
      "  ret = umr_sum(x, axis, dtype, out, keepdims=keepdims, where=where)\n"
     ]
    },
    {
     "name": "stdout",
     "output_type": "stream",
     "text": [
      "[CV 5/5] END lgbm__learning_rate=0.03, lgbm__max_depth=-1, lgbm__n_estimators=200, lgbm__num_leaves=7, preprocessor__text_vec__max_features=20;, score=(train=-214.656, test=-179.968) total time=   0.7s\n"
     ]
    },
    {
     "name": "stderr",
     "output_type": "stream",
     "text": [
      "C:\\Users\\pessoal\\anaconda3\\lib\\site-packages\\sklearn\\preprocessing\\_data.py:3260: RuntimeWarning: overflow encountered in power\n",
      "  out[~pos] = -(np.power(-x[~pos] + 1, 2 - lmbda) - 1) / (2 - lmbda)\n",
      "C:\\Users\\pessoal\\anaconda3\\lib\\site-packages\\numpy\\core\\_methods.py:239: RuntimeWarning: overflow encountered in multiply\n",
      "  x = um.multiply(x, x, out=x)\n",
      "C:\\Users\\pessoal\\anaconda3\\lib\\site-packages\\numpy\\core\\_methods.py:250: RuntimeWarning: overflow encountered in reduce\n",
      "  ret = umr_sum(x, axis, dtype, out, keepdims=keepdims, where=where)\n"
     ]
    },
    {
     "data": {
      "text/html": [
       "<style>#sk-container-id-4 {color: black;background-color: white;}#sk-container-id-4 pre{padding: 0;}#sk-container-id-4 div.sk-toggleable {background-color: white;}#sk-container-id-4 label.sk-toggleable__label {cursor: pointer;display: block;width: 100%;margin-bottom: 0;padding: 0.3em;box-sizing: border-box;text-align: center;}#sk-container-id-4 label.sk-toggleable__label-arrow:before {content: \"▸\";float: left;margin-right: 0.25em;color: #696969;}#sk-container-id-4 label.sk-toggleable__label-arrow:hover:before {color: black;}#sk-container-id-4 div.sk-estimator:hover label.sk-toggleable__label-arrow:before {color: black;}#sk-container-id-4 div.sk-toggleable__content {max-height: 0;max-width: 0;overflow: hidden;text-align: left;background-color: #f0f8ff;}#sk-container-id-4 div.sk-toggleable__content pre {margin: 0.2em;color: black;border-radius: 0.25em;background-color: #f0f8ff;}#sk-container-id-4 input.sk-toggleable__control:checked~div.sk-toggleable__content {max-height: 200px;max-width: 100%;overflow: auto;}#sk-container-id-4 input.sk-toggleable__control:checked~label.sk-toggleable__label-arrow:before {content: \"▾\";}#sk-container-id-4 div.sk-estimator input.sk-toggleable__control:checked~label.sk-toggleable__label {background-color: #d4ebff;}#sk-container-id-4 div.sk-label input.sk-toggleable__control:checked~label.sk-toggleable__label {background-color: #d4ebff;}#sk-container-id-4 input.sk-hidden--visually {border: 0;clip: rect(1px 1px 1px 1px);clip: rect(1px, 1px, 1px, 1px);height: 1px;margin: -1px;overflow: hidden;padding: 0;position: absolute;width: 1px;}#sk-container-id-4 div.sk-estimator {font-family: monospace;background-color: #f0f8ff;border: 1px dotted black;border-radius: 0.25em;box-sizing: border-box;margin-bottom: 0.5em;}#sk-container-id-4 div.sk-estimator:hover {background-color: #d4ebff;}#sk-container-id-4 div.sk-parallel-item::after {content: \"\";width: 100%;border-bottom: 1px solid gray;flex-grow: 1;}#sk-container-id-4 div.sk-label:hover label.sk-toggleable__label {background-color: #d4ebff;}#sk-container-id-4 div.sk-serial::before {content: \"\";position: absolute;border-left: 1px solid gray;box-sizing: border-box;top: 0;bottom: 0;left: 50%;z-index: 0;}#sk-container-id-4 div.sk-serial {display: flex;flex-direction: column;align-items: center;background-color: white;padding-right: 0.2em;padding-left: 0.2em;position: relative;}#sk-container-id-4 div.sk-item {position: relative;z-index: 1;}#sk-container-id-4 div.sk-parallel {display: flex;align-items: stretch;justify-content: center;background-color: white;position: relative;}#sk-container-id-4 div.sk-item::before, #sk-container-id-4 div.sk-parallel-item::before {content: \"\";position: absolute;border-left: 1px solid gray;box-sizing: border-box;top: 0;bottom: 0;left: 50%;z-index: -1;}#sk-container-id-4 div.sk-parallel-item {display: flex;flex-direction: column;z-index: 1;position: relative;background-color: white;}#sk-container-id-4 div.sk-parallel-item:first-child::after {align-self: flex-end;width: 50%;}#sk-container-id-4 div.sk-parallel-item:last-child::after {align-self: flex-start;width: 50%;}#sk-container-id-4 div.sk-parallel-item:only-child::after {width: 0;}#sk-container-id-4 div.sk-dashed-wrapped {border: 1px dashed gray;margin: 0 0.4em 0.5em 0.4em;box-sizing: border-box;padding-bottom: 0.4em;background-color: white;}#sk-container-id-4 div.sk-label label {font-family: monospace;font-weight: bold;display: inline-block;line-height: 1.2em;}#sk-container-id-4 div.sk-label-container {text-align: center;}#sk-container-id-4 div.sk-container {/* jupyter's `normalize.less` sets `[hidden] { display: none; }` but bootstrap.min.css set `[hidden] { display: none !important; }` so we also need the `!important` here to be able to override the default hidden behavior on the sphinx rendered scikit-learn.org. See: https://github.com/scikit-learn/scikit-learn/issues/21755 */display: inline-block !important;position: relative;}#sk-container-id-4 div.sk-text-repr-fallback {display: none;}</style><div id=\"sk-container-id-4\" class=\"sk-top-container\"><div class=\"sk-text-repr-fallback\"><pre>RandomizedSearchCV(cv=5,\n",
       "                   estimator=Pipeline(steps=[(&#x27;preprocessor&#x27;,\n",
       "                                              ColumnTransformer(transformers=[(&#x27;num&#x27;,\n",
       "                                                                               Pipeline(steps=[(&#x27;yeo&#x27;,\n",
       "                                                                                                PowerTransformer())]),\n",
       "                                                                               [&#x27;latitude&#x27;,\n",
       "                                                                                &#x27;longitude&#x27;,\n",
       "                                                                                &#x27;minimum_nights&#x27;,\n",
       "                                                                                &#x27;number_of_reviews&#x27;,\n",
       "                                                                                &#x27;reviews_per_month&#x27;,\n",
       "                                                                                &#x27;calculated_host_listings_count&#x27;,\n",
       "                                                                                &#x27;availability_365&#x27;]),\n",
       "                                                                              (&#x27;text_vec&#x27;,\n",
       "                                                                               TfidfVectorizer(),\n",
       "                                                                               &#x27;name&#x27;),\n",
       "                                                                              (&#x27;cat&#x27;,\n",
       "                                                                               Pipeline(steps=[(&#x27;en...\n",
       "                                                                               [&#x27;neighbourhood_group&#x27;,\n",
       "                                                                                &#x27;room_type&#x27;])])),\n",
       "                                             (&#x27;lgbm&#x27;, LGBMRegressor())]),\n",
       "                   n_iter=15,\n",
       "                   param_distributions={&#x27;lgbm__learning_rate&#x27;: [0.1, 0.03,\n",
       "                                                                0.001],\n",
       "                                        &#x27;lgbm__max_depth&#x27;: [-1, 3, 5],\n",
       "                                        &#x27;lgbm__n_estimators&#x27;: [200, 500, 1000],\n",
       "                                        &#x27;lgbm__num_leaves&#x27;: [7, 14, 21],\n",
       "                                        &#x27;preprocessor__text_vec__max_features&#x27;: [10,\n",
       "                                                                                 20,\n",
       "                                                                                 50]},\n",
       "                   random_state=42, return_train_score=True,\n",
       "                   scoring=&#x27;neg_root_mean_squared_error&#x27;, verbose=3)</pre><b>In a Jupyter environment, please rerun this cell to show the HTML representation or trust the notebook. <br />On GitHub, the HTML representation is unable to render, please try loading this page with nbviewer.org.</b></div><div class=\"sk-container\" hidden><div class=\"sk-item sk-dashed-wrapped\"><div class=\"sk-label-container\"><div class=\"sk-label sk-toggleable\"><input class=\"sk-toggleable__control sk-hidden--visually\" id=\"sk-estimator-id-29\" type=\"checkbox\" ><label for=\"sk-estimator-id-29\" class=\"sk-toggleable__label sk-toggleable__label-arrow\">RandomizedSearchCV</label><div class=\"sk-toggleable__content\"><pre>RandomizedSearchCV(cv=5,\n",
       "                   estimator=Pipeline(steps=[(&#x27;preprocessor&#x27;,\n",
       "                                              ColumnTransformer(transformers=[(&#x27;num&#x27;,\n",
       "                                                                               Pipeline(steps=[(&#x27;yeo&#x27;,\n",
       "                                                                                                PowerTransformer())]),\n",
       "                                                                               [&#x27;latitude&#x27;,\n",
       "                                                                                &#x27;longitude&#x27;,\n",
       "                                                                                &#x27;minimum_nights&#x27;,\n",
       "                                                                                &#x27;number_of_reviews&#x27;,\n",
       "                                                                                &#x27;reviews_per_month&#x27;,\n",
       "                                                                                &#x27;calculated_host_listings_count&#x27;,\n",
       "                                                                                &#x27;availability_365&#x27;]),\n",
       "                                                                              (&#x27;text_vec&#x27;,\n",
       "                                                                               TfidfVectorizer(),\n",
       "                                                                               &#x27;name&#x27;),\n",
       "                                                                              (&#x27;cat&#x27;,\n",
       "                                                                               Pipeline(steps=[(&#x27;en...\n",
       "                                                                               [&#x27;neighbourhood_group&#x27;,\n",
       "                                                                                &#x27;room_type&#x27;])])),\n",
       "                                             (&#x27;lgbm&#x27;, LGBMRegressor())]),\n",
       "                   n_iter=15,\n",
       "                   param_distributions={&#x27;lgbm__learning_rate&#x27;: [0.1, 0.03,\n",
       "                                                                0.001],\n",
       "                                        &#x27;lgbm__max_depth&#x27;: [-1, 3, 5],\n",
       "                                        &#x27;lgbm__n_estimators&#x27;: [200, 500, 1000],\n",
       "                                        &#x27;lgbm__num_leaves&#x27;: [7, 14, 21],\n",
       "                                        &#x27;preprocessor__text_vec__max_features&#x27;: [10,\n",
       "                                                                                 20,\n",
       "                                                                                 50]},\n",
       "                   random_state=42, return_train_score=True,\n",
       "                   scoring=&#x27;neg_root_mean_squared_error&#x27;, verbose=3)</pre></div></div></div><div class=\"sk-parallel\"><div class=\"sk-parallel-item\"><div class=\"sk-item\"><div class=\"sk-label-container\"><div class=\"sk-label sk-toggleable\"><input class=\"sk-toggleable__control sk-hidden--visually\" id=\"sk-estimator-id-30\" type=\"checkbox\" ><label for=\"sk-estimator-id-30\" class=\"sk-toggleable__label sk-toggleable__label-arrow\">estimator: Pipeline</label><div class=\"sk-toggleable__content\"><pre>Pipeline(steps=[(&#x27;preprocessor&#x27;,\n",
       "                 ColumnTransformer(transformers=[(&#x27;num&#x27;,\n",
       "                                                  Pipeline(steps=[(&#x27;yeo&#x27;,\n",
       "                                                                   PowerTransformer())]),\n",
       "                                                  [&#x27;latitude&#x27;, &#x27;longitude&#x27;,\n",
       "                                                   &#x27;minimum_nights&#x27;,\n",
       "                                                   &#x27;number_of_reviews&#x27;,\n",
       "                                                   &#x27;reviews_per_month&#x27;,\n",
       "                                                   &#x27;calculated_host_listings_count&#x27;,\n",
       "                                                   &#x27;availability_365&#x27;]),\n",
       "                                                 (&#x27;text_vec&#x27;, TfidfVectorizer(),\n",
       "                                                  &#x27;name&#x27;),\n",
       "                                                 (&#x27;cat&#x27;,\n",
       "                                                  Pipeline(steps=[(&#x27;encoder&#x27;,\n",
       "                                                                   OneHotEncoder(handle_unknown=&#x27;ignore&#x27;))]),\n",
       "                                                  [&#x27;neighbourhood_group&#x27;,\n",
       "                                                   &#x27;room_type&#x27;])])),\n",
       "                (&#x27;lgbm&#x27;, LGBMRegressor())])</pre></div></div></div><div class=\"sk-serial\"><div class=\"sk-item\"><div class=\"sk-serial\"><div class=\"sk-item sk-dashed-wrapped\"><div class=\"sk-label-container\"><div class=\"sk-label sk-toggleable\"><input class=\"sk-toggleable__control sk-hidden--visually\" id=\"sk-estimator-id-31\" type=\"checkbox\" ><label for=\"sk-estimator-id-31\" class=\"sk-toggleable__label sk-toggleable__label-arrow\">preprocessor: ColumnTransformer</label><div class=\"sk-toggleable__content\"><pre>ColumnTransformer(transformers=[(&#x27;num&#x27;,\n",
       "                                 Pipeline(steps=[(&#x27;yeo&#x27;, PowerTransformer())]),\n",
       "                                 [&#x27;latitude&#x27;, &#x27;longitude&#x27;, &#x27;minimum_nights&#x27;,\n",
       "                                  &#x27;number_of_reviews&#x27;, &#x27;reviews_per_month&#x27;,\n",
       "                                  &#x27;calculated_host_listings_count&#x27;,\n",
       "                                  &#x27;availability_365&#x27;]),\n",
       "                                (&#x27;text_vec&#x27;, TfidfVectorizer(), &#x27;name&#x27;),\n",
       "                                (&#x27;cat&#x27;,\n",
       "                                 Pipeline(steps=[(&#x27;encoder&#x27;,\n",
       "                                                  OneHotEncoder(handle_unknown=&#x27;ignore&#x27;))]),\n",
       "                                 [&#x27;neighbourhood_group&#x27;, &#x27;room_type&#x27;])])</pre></div></div></div><div class=\"sk-parallel\"><div class=\"sk-parallel-item\"><div class=\"sk-item\"><div class=\"sk-label-container\"><div class=\"sk-label sk-toggleable\"><input class=\"sk-toggleable__control sk-hidden--visually\" id=\"sk-estimator-id-32\" type=\"checkbox\" ><label for=\"sk-estimator-id-32\" class=\"sk-toggleable__label sk-toggleable__label-arrow\">num</label><div class=\"sk-toggleable__content\"><pre>[&#x27;latitude&#x27;, &#x27;longitude&#x27;, &#x27;minimum_nights&#x27;, &#x27;number_of_reviews&#x27;, &#x27;reviews_per_month&#x27;, &#x27;calculated_host_listings_count&#x27;, &#x27;availability_365&#x27;]</pre></div></div></div><div class=\"sk-serial\"><div class=\"sk-item\"><div class=\"sk-serial\"><div class=\"sk-item\"><div class=\"sk-estimator sk-toggleable\"><input class=\"sk-toggleable__control sk-hidden--visually\" id=\"sk-estimator-id-33\" type=\"checkbox\" ><label for=\"sk-estimator-id-33\" class=\"sk-toggleable__label sk-toggleable__label-arrow\">PowerTransformer</label><div class=\"sk-toggleable__content\"><pre>PowerTransformer()</pre></div></div></div></div></div></div></div></div><div class=\"sk-parallel-item\"><div class=\"sk-item\"><div class=\"sk-label-container\"><div class=\"sk-label sk-toggleable\"><input class=\"sk-toggleable__control sk-hidden--visually\" id=\"sk-estimator-id-34\" type=\"checkbox\" ><label for=\"sk-estimator-id-34\" class=\"sk-toggleable__label sk-toggleable__label-arrow\">text_vec</label><div class=\"sk-toggleable__content\"><pre>name</pre></div></div></div><div class=\"sk-serial\"><div class=\"sk-item\"><div class=\"sk-estimator sk-toggleable\"><input class=\"sk-toggleable__control sk-hidden--visually\" id=\"sk-estimator-id-35\" type=\"checkbox\" ><label for=\"sk-estimator-id-35\" class=\"sk-toggleable__label sk-toggleable__label-arrow\">TfidfVectorizer</label><div class=\"sk-toggleable__content\"><pre>TfidfVectorizer()</pre></div></div></div></div></div></div><div class=\"sk-parallel-item\"><div class=\"sk-item\"><div class=\"sk-label-container\"><div class=\"sk-label sk-toggleable\"><input class=\"sk-toggleable__control sk-hidden--visually\" id=\"sk-estimator-id-36\" type=\"checkbox\" ><label for=\"sk-estimator-id-36\" class=\"sk-toggleable__label sk-toggleable__label-arrow\">cat</label><div class=\"sk-toggleable__content\"><pre>[&#x27;neighbourhood_group&#x27;, &#x27;room_type&#x27;]</pre></div></div></div><div class=\"sk-serial\"><div class=\"sk-item\"><div class=\"sk-serial\"><div class=\"sk-item\"><div class=\"sk-estimator sk-toggleable\"><input class=\"sk-toggleable__control sk-hidden--visually\" id=\"sk-estimator-id-37\" type=\"checkbox\" ><label for=\"sk-estimator-id-37\" class=\"sk-toggleable__label sk-toggleable__label-arrow\">OneHotEncoder</label><div class=\"sk-toggleable__content\"><pre>OneHotEncoder(handle_unknown=&#x27;ignore&#x27;)</pre></div></div></div></div></div></div></div></div></div></div><div class=\"sk-item\"><div class=\"sk-estimator sk-toggleable\"><input class=\"sk-toggleable__control sk-hidden--visually\" id=\"sk-estimator-id-38\" type=\"checkbox\" ><label for=\"sk-estimator-id-38\" class=\"sk-toggleable__label sk-toggleable__label-arrow\">LGBMRegressor</label><div class=\"sk-toggleable__content\"><pre>LGBMRegressor()</pre></div></div></div></div></div></div></div></div></div></div></div></div>"
      ],
      "text/plain": [
       "RandomizedSearchCV(cv=5,\n",
       "                   estimator=Pipeline(steps=[('preprocessor',\n",
       "                                              ColumnTransformer(transformers=[('num',\n",
       "                                                                               Pipeline(steps=[('yeo',\n",
       "                                                                                                PowerTransformer())]),\n",
       "                                                                               ['latitude',\n",
       "                                                                                'longitude',\n",
       "                                                                                'minimum_nights',\n",
       "                                                                                'number_of_reviews',\n",
       "                                                                                'reviews_per_month',\n",
       "                                                                                'calculated_host_listings_count',\n",
       "                                                                                'availability_365']),\n",
       "                                                                              ('text_vec',\n",
       "                                                                               TfidfVectorizer(),\n",
       "                                                                               'name'),\n",
       "                                                                              ('cat',\n",
       "                                                                               Pipeline(steps=[('en...\n",
       "                                                                               ['neighbourhood_group',\n",
       "                                                                                'room_type'])])),\n",
       "                                             ('lgbm', LGBMRegressor())]),\n",
       "                   n_iter=15,\n",
       "                   param_distributions={'lgbm__learning_rate': [0.1, 0.03,\n",
       "                                                                0.001],\n",
       "                                        'lgbm__max_depth': [-1, 3, 5],\n",
       "                                        'lgbm__n_estimators': [200, 500, 1000],\n",
       "                                        'lgbm__num_leaves': [7, 14, 21],\n",
       "                                        'preprocessor__text_vec__max_features': [10,\n",
       "                                                                                 20,\n",
       "                                                                                 50]},\n",
       "                   random_state=42, return_train_score=True,\n",
       "                   scoring='neg_root_mean_squared_error', verbose=3)"
      ]
     },
     "execution_count": 39,
     "metadata": {},
     "output_type": "execute_result"
    }
   ],
   "source": [
    "lgbm_tune.fit(X_train,y_train)"
   ]
  },
  {
   "cell_type": "code",
   "execution_count": 40,
   "id": "edc3fa24",
   "metadata": {},
   "outputs": [
    {
     "data": {
      "text/html": [
       "<style>#sk-container-id-5 {color: black;background-color: white;}#sk-container-id-5 pre{padding: 0;}#sk-container-id-5 div.sk-toggleable {background-color: white;}#sk-container-id-5 label.sk-toggleable__label {cursor: pointer;display: block;width: 100%;margin-bottom: 0;padding: 0.3em;box-sizing: border-box;text-align: center;}#sk-container-id-5 label.sk-toggleable__label-arrow:before {content: \"▸\";float: left;margin-right: 0.25em;color: #696969;}#sk-container-id-5 label.sk-toggleable__label-arrow:hover:before {color: black;}#sk-container-id-5 div.sk-estimator:hover label.sk-toggleable__label-arrow:before {color: black;}#sk-container-id-5 div.sk-toggleable__content {max-height: 0;max-width: 0;overflow: hidden;text-align: left;background-color: #f0f8ff;}#sk-container-id-5 div.sk-toggleable__content pre {margin: 0.2em;color: black;border-radius: 0.25em;background-color: #f0f8ff;}#sk-container-id-5 input.sk-toggleable__control:checked~div.sk-toggleable__content {max-height: 200px;max-width: 100%;overflow: auto;}#sk-container-id-5 input.sk-toggleable__control:checked~label.sk-toggleable__label-arrow:before {content: \"▾\";}#sk-container-id-5 div.sk-estimator input.sk-toggleable__control:checked~label.sk-toggleable__label {background-color: #d4ebff;}#sk-container-id-5 div.sk-label input.sk-toggleable__control:checked~label.sk-toggleable__label {background-color: #d4ebff;}#sk-container-id-5 input.sk-hidden--visually {border: 0;clip: rect(1px 1px 1px 1px);clip: rect(1px, 1px, 1px, 1px);height: 1px;margin: -1px;overflow: hidden;padding: 0;position: absolute;width: 1px;}#sk-container-id-5 div.sk-estimator {font-family: monospace;background-color: #f0f8ff;border: 1px dotted black;border-radius: 0.25em;box-sizing: border-box;margin-bottom: 0.5em;}#sk-container-id-5 div.sk-estimator:hover {background-color: #d4ebff;}#sk-container-id-5 div.sk-parallel-item::after {content: \"\";width: 100%;border-bottom: 1px solid gray;flex-grow: 1;}#sk-container-id-5 div.sk-label:hover label.sk-toggleable__label {background-color: #d4ebff;}#sk-container-id-5 div.sk-serial::before {content: \"\";position: absolute;border-left: 1px solid gray;box-sizing: border-box;top: 0;bottom: 0;left: 50%;z-index: 0;}#sk-container-id-5 div.sk-serial {display: flex;flex-direction: column;align-items: center;background-color: white;padding-right: 0.2em;padding-left: 0.2em;position: relative;}#sk-container-id-5 div.sk-item {position: relative;z-index: 1;}#sk-container-id-5 div.sk-parallel {display: flex;align-items: stretch;justify-content: center;background-color: white;position: relative;}#sk-container-id-5 div.sk-item::before, #sk-container-id-5 div.sk-parallel-item::before {content: \"\";position: absolute;border-left: 1px solid gray;box-sizing: border-box;top: 0;bottom: 0;left: 50%;z-index: -1;}#sk-container-id-5 div.sk-parallel-item {display: flex;flex-direction: column;z-index: 1;position: relative;background-color: white;}#sk-container-id-5 div.sk-parallel-item:first-child::after {align-self: flex-end;width: 50%;}#sk-container-id-5 div.sk-parallel-item:last-child::after {align-self: flex-start;width: 50%;}#sk-container-id-5 div.sk-parallel-item:only-child::after {width: 0;}#sk-container-id-5 div.sk-dashed-wrapped {border: 1px dashed gray;margin: 0 0.4em 0.5em 0.4em;box-sizing: border-box;padding-bottom: 0.4em;background-color: white;}#sk-container-id-5 div.sk-label label {font-family: monospace;font-weight: bold;display: inline-block;line-height: 1.2em;}#sk-container-id-5 div.sk-label-container {text-align: center;}#sk-container-id-5 div.sk-container {/* jupyter's `normalize.less` sets `[hidden] { display: none; }` but bootstrap.min.css set `[hidden] { display: none !important; }` so we also need the `!important` here to be able to override the default hidden behavior on the sphinx rendered scikit-learn.org. See: https://github.com/scikit-learn/scikit-learn/issues/21755 */display: inline-block !important;position: relative;}#sk-container-id-5 div.sk-text-repr-fallback {display: none;}</style><div id=\"sk-container-id-5\" class=\"sk-top-container\"><div class=\"sk-text-repr-fallback\"><pre>Pipeline(steps=[(&#x27;preprocessor&#x27;,\n",
       "                 ColumnTransformer(transformers=[(&#x27;num&#x27;,\n",
       "                                                  Pipeline(steps=[(&#x27;yeo&#x27;,\n",
       "                                                                   PowerTransformer())]),\n",
       "                                                  [&#x27;latitude&#x27;, &#x27;longitude&#x27;,\n",
       "                                                   &#x27;minimum_nights&#x27;,\n",
       "                                                   &#x27;number_of_reviews&#x27;,\n",
       "                                                   &#x27;reviews_per_month&#x27;,\n",
       "                                                   &#x27;calculated_host_listings_count&#x27;,\n",
       "                                                   &#x27;availability_365&#x27;]),\n",
       "                                                 (&#x27;text_vec&#x27;,\n",
       "                                                  TfidfVectorizer(max_features=10),\n",
       "                                                  &#x27;name&#x27;),\n",
       "                                                 (&#x27;cat&#x27;,\n",
       "                                                  Pipeline(steps=[(&#x27;encoder&#x27;,\n",
       "                                                                   OneHotEncoder(handle_unknown=&#x27;ignore&#x27;))]),\n",
       "                                                  [&#x27;neighbourhood_group&#x27;,\n",
       "                                                   &#x27;room_type&#x27;])])),\n",
       "                (&#x27;lgbm&#x27;,\n",
       "                 LGBMRegressor(learning_rate=0.03, max_depth=5,\n",
       "                               n_estimators=500, num_leaves=21))])</pre><b>In a Jupyter environment, please rerun this cell to show the HTML representation or trust the notebook. <br />On GitHub, the HTML representation is unable to render, please try loading this page with nbviewer.org.</b></div><div class=\"sk-container\" hidden><div class=\"sk-item sk-dashed-wrapped\"><div class=\"sk-label-container\"><div class=\"sk-label sk-toggleable\"><input class=\"sk-toggleable__control sk-hidden--visually\" id=\"sk-estimator-id-39\" type=\"checkbox\" ><label for=\"sk-estimator-id-39\" class=\"sk-toggleable__label sk-toggleable__label-arrow\">Pipeline</label><div class=\"sk-toggleable__content\"><pre>Pipeline(steps=[(&#x27;preprocessor&#x27;,\n",
       "                 ColumnTransformer(transformers=[(&#x27;num&#x27;,\n",
       "                                                  Pipeline(steps=[(&#x27;yeo&#x27;,\n",
       "                                                                   PowerTransformer())]),\n",
       "                                                  [&#x27;latitude&#x27;, &#x27;longitude&#x27;,\n",
       "                                                   &#x27;minimum_nights&#x27;,\n",
       "                                                   &#x27;number_of_reviews&#x27;,\n",
       "                                                   &#x27;reviews_per_month&#x27;,\n",
       "                                                   &#x27;calculated_host_listings_count&#x27;,\n",
       "                                                   &#x27;availability_365&#x27;]),\n",
       "                                                 (&#x27;text_vec&#x27;,\n",
       "                                                  TfidfVectorizer(max_features=10),\n",
       "                                                  &#x27;name&#x27;),\n",
       "                                                 (&#x27;cat&#x27;,\n",
       "                                                  Pipeline(steps=[(&#x27;encoder&#x27;,\n",
       "                                                                   OneHotEncoder(handle_unknown=&#x27;ignore&#x27;))]),\n",
       "                                                  [&#x27;neighbourhood_group&#x27;,\n",
       "                                                   &#x27;room_type&#x27;])])),\n",
       "                (&#x27;lgbm&#x27;,\n",
       "                 LGBMRegressor(learning_rate=0.03, max_depth=5,\n",
       "                               n_estimators=500, num_leaves=21))])</pre></div></div></div><div class=\"sk-serial\"><div class=\"sk-item sk-dashed-wrapped\"><div class=\"sk-label-container\"><div class=\"sk-label sk-toggleable\"><input class=\"sk-toggleable__control sk-hidden--visually\" id=\"sk-estimator-id-40\" type=\"checkbox\" ><label for=\"sk-estimator-id-40\" class=\"sk-toggleable__label sk-toggleable__label-arrow\">preprocessor: ColumnTransformer</label><div class=\"sk-toggleable__content\"><pre>ColumnTransformer(transformers=[(&#x27;num&#x27;,\n",
       "                                 Pipeline(steps=[(&#x27;yeo&#x27;, PowerTransformer())]),\n",
       "                                 [&#x27;latitude&#x27;, &#x27;longitude&#x27;, &#x27;minimum_nights&#x27;,\n",
       "                                  &#x27;number_of_reviews&#x27;, &#x27;reviews_per_month&#x27;,\n",
       "                                  &#x27;calculated_host_listings_count&#x27;,\n",
       "                                  &#x27;availability_365&#x27;]),\n",
       "                                (&#x27;text_vec&#x27;, TfidfVectorizer(max_features=10),\n",
       "                                 &#x27;name&#x27;),\n",
       "                                (&#x27;cat&#x27;,\n",
       "                                 Pipeline(steps=[(&#x27;encoder&#x27;,\n",
       "                                                  OneHotEncoder(handle_unknown=&#x27;ignore&#x27;))]),\n",
       "                                 [&#x27;neighbourhood_group&#x27;, &#x27;room_type&#x27;])])</pre></div></div></div><div class=\"sk-parallel\"><div class=\"sk-parallel-item\"><div class=\"sk-item\"><div class=\"sk-label-container\"><div class=\"sk-label sk-toggleable\"><input class=\"sk-toggleable__control sk-hidden--visually\" id=\"sk-estimator-id-41\" type=\"checkbox\" ><label for=\"sk-estimator-id-41\" class=\"sk-toggleable__label sk-toggleable__label-arrow\">num</label><div class=\"sk-toggleable__content\"><pre>[&#x27;latitude&#x27;, &#x27;longitude&#x27;, &#x27;minimum_nights&#x27;, &#x27;number_of_reviews&#x27;, &#x27;reviews_per_month&#x27;, &#x27;calculated_host_listings_count&#x27;, &#x27;availability_365&#x27;]</pre></div></div></div><div class=\"sk-serial\"><div class=\"sk-item\"><div class=\"sk-serial\"><div class=\"sk-item\"><div class=\"sk-estimator sk-toggleable\"><input class=\"sk-toggleable__control sk-hidden--visually\" id=\"sk-estimator-id-42\" type=\"checkbox\" ><label for=\"sk-estimator-id-42\" class=\"sk-toggleable__label sk-toggleable__label-arrow\">PowerTransformer</label><div class=\"sk-toggleable__content\"><pre>PowerTransformer()</pre></div></div></div></div></div></div></div></div><div class=\"sk-parallel-item\"><div class=\"sk-item\"><div class=\"sk-label-container\"><div class=\"sk-label sk-toggleable\"><input class=\"sk-toggleable__control sk-hidden--visually\" id=\"sk-estimator-id-43\" type=\"checkbox\" ><label for=\"sk-estimator-id-43\" class=\"sk-toggleable__label sk-toggleable__label-arrow\">text_vec</label><div class=\"sk-toggleable__content\"><pre>name</pre></div></div></div><div class=\"sk-serial\"><div class=\"sk-item\"><div class=\"sk-estimator sk-toggleable\"><input class=\"sk-toggleable__control sk-hidden--visually\" id=\"sk-estimator-id-44\" type=\"checkbox\" ><label for=\"sk-estimator-id-44\" class=\"sk-toggleable__label sk-toggleable__label-arrow\">TfidfVectorizer</label><div class=\"sk-toggleable__content\"><pre>TfidfVectorizer(max_features=10)</pre></div></div></div></div></div></div><div class=\"sk-parallel-item\"><div class=\"sk-item\"><div class=\"sk-label-container\"><div class=\"sk-label sk-toggleable\"><input class=\"sk-toggleable__control sk-hidden--visually\" id=\"sk-estimator-id-45\" type=\"checkbox\" ><label for=\"sk-estimator-id-45\" class=\"sk-toggleable__label sk-toggleable__label-arrow\">cat</label><div class=\"sk-toggleable__content\"><pre>[&#x27;neighbourhood_group&#x27;, &#x27;room_type&#x27;]</pre></div></div></div><div class=\"sk-serial\"><div class=\"sk-item\"><div class=\"sk-serial\"><div class=\"sk-item\"><div class=\"sk-estimator sk-toggleable\"><input class=\"sk-toggleable__control sk-hidden--visually\" id=\"sk-estimator-id-46\" type=\"checkbox\" ><label for=\"sk-estimator-id-46\" class=\"sk-toggleable__label sk-toggleable__label-arrow\">OneHotEncoder</label><div class=\"sk-toggleable__content\"><pre>OneHotEncoder(handle_unknown=&#x27;ignore&#x27;)</pre></div></div></div></div></div></div></div></div></div></div><div class=\"sk-item\"><div class=\"sk-estimator sk-toggleable\"><input class=\"sk-toggleable__control sk-hidden--visually\" id=\"sk-estimator-id-47\" type=\"checkbox\" ><label for=\"sk-estimator-id-47\" class=\"sk-toggleable__label sk-toggleable__label-arrow\">LGBMRegressor</label><div class=\"sk-toggleable__content\"><pre>LGBMRegressor(learning_rate=0.03, max_depth=5, n_estimators=500, num_leaves=21)</pre></div></div></div></div></div></div></div>"
      ],
      "text/plain": [
       "Pipeline(steps=[('preprocessor',\n",
       "                 ColumnTransformer(transformers=[('num',\n",
       "                                                  Pipeline(steps=[('yeo',\n",
       "                                                                   PowerTransformer())]),\n",
       "                                                  ['latitude', 'longitude',\n",
       "                                                   'minimum_nights',\n",
       "                                                   'number_of_reviews',\n",
       "                                                   'reviews_per_month',\n",
       "                                                   'calculated_host_listings_count',\n",
       "                                                   'availability_365']),\n",
       "                                                 ('text_vec',\n",
       "                                                  TfidfVectorizer(max_features=10),\n",
       "                                                  'name'),\n",
       "                                                 ('cat',\n",
       "                                                  Pipeline(steps=[('encoder',\n",
       "                                                                   OneHotEncoder(handle_unknown='ignore'))]),\n",
       "                                                  ['neighbourhood_group',\n",
       "                                                   'room_type'])])),\n",
       "                ('lgbm',\n",
       "                 LGBMRegressor(learning_rate=0.03, max_depth=5,\n",
       "                               n_estimators=500, num_leaves=21))])"
      ]
     },
     "execution_count": 40,
     "metadata": {},
     "output_type": "execute_result"
    }
   ],
   "source": [
    "lgbm_tune.best_estimator_"
   ]
  },
  {
   "cell_type": "code",
   "execution_count": 41,
   "id": "7a129ce6",
   "metadata": {},
   "outputs": [
    {
     "data": {
      "text/plain": [
       "-213.6394921368345"
      ]
     },
     "execution_count": 41,
     "metadata": {},
     "output_type": "execute_result"
    }
   ],
   "source": [
    "lgbm_tune.best_score_"
   ]
  },
  {
   "cell_type": "code",
   "execution_count": 42,
   "id": "f3d25d33",
   "metadata": {},
   "outputs": [
    {
     "data": {
      "text/html": [
       "<div>\n",
       "<style scoped>\n",
       "    .dataframe tbody tr th:only-of-type {\n",
       "        vertical-align: middle;\n",
       "    }\n",
       "\n",
       "    .dataframe tbody tr th {\n",
       "        vertical-align: top;\n",
       "    }\n",
       "\n",
       "    .dataframe thead th {\n",
       "        text-align: right;\n",
       "    }\n",
       "</style>\n",
       "<table border=\"1\" class=\"dataframe\">\n",
       "  <thead>\n",
       "    <tr style=\"text-align: right;\">\n",
       "      <th></th>\n",
       "      <th>mean_fit_time</th>\n",
       "      <th>std_fit_time</th>\n",
       "      <th>mean_score_time</th>\n",
       "      <th>std_score_time</th>\n",
       "      <th>param_preprocessor__text_vec__max_features</th>\n",
       "      <th>param_lgbm__num_leaves</th>\n",
       "      <th>param_lgbm__n_estimators</th>\n",
       "      <th>param_lgbm__max_depth</th>\n",
       "      <th>param_lgbm__learning_rate</th>\n",
       "      <th>params</th>\n",
       "      <th>...</th>\n",
       "      <th>mean_test_score</th>\n",
       "      <th>std_test_score</th>\n",
       "      <th>rank_test_score</th>\n",
       "      <th>split0_train_score</th>\n",
       "      <th>split1_train_score</th>\n",
       "      <th>split2_train_score</th>\n",
       "      <th>split3_train_score</th>\n",
       "      <th>split4_train_score</th>\n",
       "      <th>mean_train_score</th>\n",
       "      <th>std_train_score</th>\n",
       "    </tr>\n",
       "  </thead>\n",
       "  <tbody>\n",
       "    <tr>\n",
       "      <th>0</th>\n",
       "      <td>2.065219</td>\n",
       "      <td>0.457989</td>\n",
       "      <td>0.207682</td>\n",
       "      <td>0.009255</td>\n",
       "      <td>10</td>\n",
       "      <td>21</td>\n",
       "      <td>1000</td>\n",
       "      <td>-1</td>\n",
       "      <td>0.1</td>\n",
       "      <td>{'preprocessor__text_vec__max_features': 10, '...</td>\n",
       "      <td>...</td>\n",
       "      <td>-223.688142</td>\n",
       "      <td>32.477958</td>\n",
       "      <td>13</td>\n",
       "      <td>-122.569327</td>\n",
       "      <td>-114.230902</td>\n",
       "      <td>-112.902704</td>\n",
       "      <td>-124.311545</td>\n",
       "      <td>-119.775339</td>\n",
       "      <td>-118.757964</td>\n",
       "      <td>4.498492</td>\n",
       "    </tr>\n",
       "    <tr>\n",
       "      <th>1</th>\n",
       "      <td>0.839520</td>\n",
       "      <td>0.102549</td>\n",
       "      <td>0.128528</td>\n",
       "      <td>0.003772</td>\n",
       "      <td>10</td>\n",
       "      <td>21</td>\n",
       "      <td>200</td>\n",
       "      <td>-1</td>\n",
       "      <td>0.1</td>\n",
       "      <td>{'preprocessor__text_vec__max_features': 10, '...</td>\n",
       "      <td>...</td>\n",
       "      <td>-216.348118</td>\n",
       "      <td>35.638959</td>\n",
       "      <td>6</td>\n",
       "      <td>-168.035974</td>\n",
       "      <td>-160.205847</td>\n",
       "      <td>-159.710738</td>\n",
       "      <td>-176.540518</td>\n",
       "      <td>-172.008218</td>\n",
       "      <td>-167.300259</td>\n",
       "      <td>6.572976</td>\n",
       "    </tr>\n",
       "    <tr>\n",
       "      <th>2</th>\n",
       "      <td>2.033438</td>\n",
       "      <td>0.447034</td>\n",
       "      <td>0.176899</td>\n",
       "      <td>0.013364</td>\n",
       "      <td>50</td>\n",
       "      <td>21</td>\n",
       "      <td>500</td>\n",
       "      <td>5</td>\n",
       "      <td>0.03</td>\n",
       "      <td>{'preprocessor__text_vec__max_features': 50, '...</td>\n",
       "      <td>...</td>\n",
       "      <td>-215.590940</td>\n",
       "      <td>33.812618</td>\n",
       "      <td>5</td>\n",
       "      <td>-191.533195</td>\n",
       "      <td>-183.397260</td>\n",
       "      <td>-181.494215</td>\n",
       "      <td>-202.609543</td>\n",
       "      <td>-198.765413</td>\n",
       "      <td>-191.559925</td>\n",
       "      <td>8.269963</td>\n",
       "    </tr>\n",
       "    <tr>\n",
       "      <th>3</th>\n",
       "      <td>1.695555</td>\n",
       "      <td>0.176197</td>\n",
       "      <td>0.149116</td>\n",
       "      <td>0.003598</td>\n",
       "      <td>20</td>\n",
       "      <td>21</td>\n",
       "      <td>500</td>\n",
       "      <td>5</td>\n",
       "      <td>0.001</td>\n",
       "      <td>{'preprocessor__text_vec__max_features': 20, '...</td>\n",
       "      <td>...</td>\n",
       "      <td>-222.349773</td>\n",
       "      <td>34.407237</td>\n",
       "      <td>11</td>\n",
       "      <td>-222.942864</td>\n",
       "      <td>-214.641413</td>\n",
       "      <td>-212.271487</td>\n",
       "      <td>-233.090351</td>\n",
       "      <td>-230.909508</td>\n",
       "      <td>-222.771125</td>\n",
       "      <td>8.355642</td>\n",
       "    </tr>\n",
       "    <tr>\n",
       "      <th>4</th>\n",
       "      <td>2.254412</td>\n",
       "      <td>0.175176</td>\n",
       "      <td>0.175700</td>\n",
       "      <td>0.007050</td>\n",
       "      <td>20</td>\n",
       "      <td>14</td>\n",
       "      <td>1000</td>\n",
       "      <td>5</td>\n",
       "      <td>0.001</td>\n",
       "      <td>{'preprocessor__text_vec__max_features': 20, '...</td>\n",
       "      <td>...</td>\n",
       "      <td>-218.811531</td>\n",
       "      <td>34.770052</td>\n",
       "      <td>8</td>\n",
       "      <td>-217.852439</td>\n",
       "      <td>-209.758255</td>\n",
       "      <td>-206.704027</td>\n",
       "      <td>-228.258190</td>\n",
       "      <td>-225.996546</td>\n",
       "      <td>-217.713891</td>\n",
       "      <td>8.535960</td>\n",
       "    </tr>\n",
       "    <tr>\n",
       "      <th>5</th>\n",
       "      <td>1.375245</td>\n",
       "      <td>0.038341</td>\n",
       "      <td>0.139121</td>\n",
       "      <td>0.002924</td>\n",
       "      <td>20</td>\n",
       "      <td>14</td>\n",
       "      <td>500</td>\n",
       "      <td>-1</td>\n",
       "      <td>0.001</td>\n",
       "      <td>{'preprocessor__text_vec__max_features': 20, '...</td>\n",
       "      <td>...</td>\n",
       "      <td>-222.947197</td>\n",
       "      <td>34.426212</td>\n",
       "      <td>12</td>\n",
       "      <td>-222.823490</td>\n",
       "      <td>-213.963153</td>\n",
       "      <td>-211.822786</td>\n",
       "      <td>-232.868500</td>\n",
       "      <td>-230.646071</td>\n",
       "      <td>-222.424800</td>\n",
       "      <td>8.494955</td>\n",
       "    </tr>\n",
       "    <tr>\n",
       "      <th>6</th>\n",
       "      <td>2.148173</td>\n",
       "      <td>0.177182</td>\n",
       "      <td>0.184695</td>\n",
       "      <td>0.014488</td>\n",
       "      <td>50</td>\n",
       "      <td>21</td>\n",
       "      <td>1000</td>\n",
       "      <td>3</td>\n",
       "      <td>0.001</td>\n",
       "      <td>{'preprocessor__text_vec__max_features': 50, '...</td>\n",
       "      <td>...</td>\n",
       "      <td>-220.704846</td>\n",
       "      <td>34.478340</td>\n",
       "      <td>10</td>\n",
       "      <td>-221.711496</td>\n",
       "      <td>-213.039792</td>\n",
       "      <td>-211.077288</td>\n",
       "      <td>-231.776252</td>\n",
       "      <td>-229.341658</td>\n",
       "      <td>-221.389297</td>\n",
       "      <td>8.334080</td>\n",
       "    </tr>\n",
       "    <tr>\n",
       "      <th>7</th>\n",
       "      <td>0.981439</td>\n",
       "      <td>0.046052</td>\n",
       "      <td>0.157311</td>\n",
       "      <td>0.003876</td>\n",
       "      <td>10</td>\n",
       "      <td>21</td>\n",
       "      <td>500</td>\n",
       "      <td>5</td>\n",
       "      <td>0.03</td>\n",
       "      <td>{'preprocessor__text_vec__max_features': 10, '...</td>\n",
       "      <td>...</td>\n",
       "      <td>-213.639492</td>\n",
       "      <td>35.355738</td>\n",
       "      <td>1</td>\n",
       "      <td>-194.217681</td>\n",
       "      <td>-183.911840</td>\n",
       "      <td>-184.672008</td>\n",
       "      <td>-204.643038</td>\n",
       "      <td>-200.341350</td>\n",
       "      <td>-193.557183</td>\n",
       "      <td>8.262401</td>\n",
       "    </tr>\n",
       "    <tr>\n",
       "      <th>8</th>\n",
       "      <td>0.801342</td>\n",
       "      <td>0.022414</td>\n",
       "      <td>0.133125</td>\n",
       "      <td>0.005032</td>\n",
       "      <td>10</td>\n",
       "      <td>7</td>\n",
       "      <td>500</td>\n",
       "      <td>-1</td>\n",
       "      <td>0.1</td>\n",
       "      <td>{'preprocessor__text_vec__max_features': 10, '...</td>\n",
       "      <td>...</td>\n",
       "      <td>-214.905366</td>\n",
       "      <td>35.191840</td>\n",
       "      <td>3</td>\n",
       "      <td>-187.607532</td>\n",
       "      <td>-176.447394</td>\n",
       "      <td>-174.294450</td>\n",
       "      <td>-196.095881</td>\n",
       "      <td>-189.624107</td>\n",
       "      <td>-184.813873</td>\n",
       "      <td>8.232652</td>\n",
       "    </tr>\n",
       "    <tr>\n",
       "      <th>9</th>\n",
       "      <td>0.785951</td>\n",
       "      <td>0.040275</td>\n",
       "      <td>0.120930</td>\n",
       "      <td>0.002605</td>\n",
       "      <td>50</td>\n",
       "      <td>14</td>\n",
       "      <td>200</td>\n",
       "      <td>3</td>\n",
       "      <td>0.03</td>\n",
       "      <td>{'preprocessor__text_vec__max_features': 50, '...</td>\n",
       "      <td>...</td>\n",
       "      <td>-215.517014</td>\n",
       "      <td>34.549409</td>\n",
       "      <td>4</td>\n",
       "      <td>-210.150859</td>\n",
       "      <td>-201.899352</td>\n",
       "      <td>-199.962196</td>\n",
       "      <td>-220.555924</td>\n",
       "      <td>-218.070247</td>\n",
       "      <td>-210.127716</td>\n",
       "      <td>8.281010</td>\n",
       "    </tr>\n",
       "    <tr>\n",
       "      <th>10</th>\n",
       "      <td>1.061593</td>\n",
       "      <td>0.036445</td>\n",
       "      <td>0.174301</td>\n",
       "      <td>0.006403</td>\n",
       "      <td>10</td>\n",
       "      <td>7</td>\n",
       "      <td>1000</td>\n",
       "      <td>3</td>\n",
       "      <td>0.1</td>\n",
       "      <td>{'preprocessor__text_vec__max_features': 10, '...</td>\n",
       "      <td>...</td>\n",
       "      <td>-216.487360</td>\n",
       "      <td>35.411576</td>\n",
       "      <td>7</td>\n",
       "      <td>-184.068570</td>\n",
       "      <td>-179.753251</td>\n",
       "      <td>-172.150583</td>\n",
       "      <td>-193.584582</td>\n",
       "      <td>-192.493475</td>\n",
       "      <td>-184.410092</td>\n",
       "      <td>8.020109</td>\n",
       "    </tr>\n",
       "    <tr>\n",
       "      <th>11</th>\n",
       "      <td>1.977094</td>\n",
       "      <td>0.138715</td>\n",
       "      <td>0.167705</td>\n",
       "      <td>0.006142</td>\n",
       "      <td>50</td>\n",
       "      <td>7</td>\n",
       "      <td>1000</td>\n",
       "      <td>3</td>\n",
       "      <td>0.001</td>\n",
       "      <td>{'preprocessor__text_vec__max_features': 50, '...</td>\n",
       "      <td>...</td>\n",
       "      <td>-220.659133</td>\n",
       "      <td>34.431254</td>\n",
       "      <td>9</td>\n",
       "      <td>-221.712791</td>\n",
       "      <td>-213.103819</td>\n",
       "      <td>-211.077288</td>\n",
       "      <td>-231.776252</td>\n",
       "      <td>-229.342651</td>\n",
       "      <td>-221.402560</td>\n",
       "      <td>8.321480</td>\n",
       "    </tr>\n",
       "    <tr>\n",
       "      <th>12</th>\n",
       "      <td>1.336467</td>\n",
       "      <td>0.097366</td>\n",
       "      <td>0.131525</td>\n",
       "      <td>0.003198</td>\n",
       "      <td>50</td>\n",
       "      <td>7</td>\n",
       "      <td>500</td>\n",
       "      <td>5</td>\n",
       "      <td>0.001</td>\n",
       "      <td>{'preprocessor__text_vec__max_features': 50, '...</td>\n",
       "      <td>...</td>\n",
       "      <td>-223.849135</td>\n",
       "      <td>34.284148</td>\n",
       "      <td>14</td>\n",
       "      <td>-225.038548</td>\n",
       "      <td>-216.108047</td>\n",
       "      <td>-214.431394</td>\n",
       "      <td>-235.072834</td>\n",
       "      <td>-232.925920</td>\n",
       "      <td>-224.715349</td>\n",
       "      <td>8.421886</td>\n",
       "    </tr>\n",
       "    <tr>\n",
       "      <th>13</th>\n",
       "      <td>1.214906</td>\n",
       "      <td>0.048191</td>\n",
       "      <td>0.119932</td>\n",
       "      <td>0.006599</td>\n",
       "      <td>50</td>\n",
       "      <td>21</td>\n",
       "      <td>200</td>\n",
       "      <td>-1</td>\n",
       "      <td>0.001</td>\n",
       "      <td>{'preprocessor__text_vec__max_features': 50, '...</td>\n",
       "      <td>...</td>\n",
       "      <td>-227.244506</td>\n",
       "      <td>33.866732</td>\n",
       "      <td>15</td>\n",
       "      <td>-227.786486</td>\n",
       "      <td>-219.228011</td>\n",
       "      <td>-217.641104</td>\n",
       "      <td>-237.816347</td>\n",
       "      <td>-235.601241</td>\n",
       "      <td>-227.614638</td>\n",
       "      <td>8.218237</td>\n",
       "    </tr>\n",
       "    <tr>\n",
       "      <th>14</th>\n",
       "      <td>0.709994</td>\n",
       "      <td>0.056092</td>\n",
       "      <td>0.115334</td>\n",
       "      <td>0.008232</td>\n",
       "      <td>20</td>\n",
       "      <td>7</td>\n",
       "      <td>200</td>\n",
       "      <td>-1</td>\n",
       "      <td>0.03</td>\n",
       "      <td>{'preprocessor__text_vec__max_features': 20, '...</td>\n",
       "      <td>...</td>\n",
       "      <td>-213.952573</td>\n",
       "      <td>35.467756</td>\n",
       "      <td>2</td>\n",
       "      <td>-206.407404</td>\n",
       "      <td>-198.473097</td>\n",
       "      <td>-195.955025</td>\n",
       "      <td>-216.048545</td>\n",
       "      <td>-214.656226</td>\n",
       "      <td>-206.308059</td>\n",
       "      <td>8.162730</td>\n",
       "    </tr>\n",
       "  </tbody>\n",
       "</table>\n",
       "<p>15 rows × 25 columns</p>\n",
       "</div>"
      ],
      "text/plain": [
       "    mean_fit_time  std_fit_time  mean_score_time  std_score_time  \\\n",
       "0        2.065219      0.457989         0.207682        0.009255   \n",
       "1        0.839520      0.102549         0.128528        0.003772   \n",
       "2        2.033438      0.447034         0.176899        0.013364   \n",
       "3        1.695555      0.176197         0.149116        0.003598   \n",
       "4        2.254412      0.175176         0.175700        0.007050   \n",
       "5        1.375245      0.038341         0.139121        0.002924   \n",
       "6        2.148173      0.177182         0.184695        0.014488   \n",
       "7        0.981439      0.046052         0.157311        0.003876   \n",
       "8        0.801342      0.022414         0.133125        0.005032   \n",
       "9        0.785951      0.040275         0.120930        0.002605   \n",
       "10       1.061593      0.036445         0.174301        0.006403   \n",
       "11       1.977094      0.138715         0.167705        0.006142   \n",
       "12       1.336467      0.097366         0.131525        0.003198   \n",
       "13       1.214906      0.048191         0.119932        0.006599   \n",
       "14       0.709994      0.056092         0.115334        0.008232   \n",
       "\n",
       "   param_preprocessor__text_vec__max_features param_lgbm__num_leaves  \\\n",
       "0                                          10                     21   \n",
       "1                                          10                     21   \n",
       "2                                          50                     21   \n",
       "3                                          20                     21   \n",
       "4                                          20                     14   \n",
       "5                                          20                     14   \n",
       "6                                          50                     21   \n",
       "7                                          10                     21   \n",
       "8                                          10                      7   \n",
       "9                                          50                     14   \n",
       "10                                         10                      7   \n",
       "11                                         50                      7   \n",
       "12                                         50                      7   \n",
       "13                                         50                     21   \n",
       "14                                         20                      7   \n",
       "\n",
       "   param_lgbm__n_estimators param_lgbm__max_depth param_lgbm__learning_rate  \\\n",
       "0                      1000                    -1                       0.1   \n",
       "1                       200                    -1                       0.1   \n",
       "2                       500                     5                      0.03   \n",
       "3                       500                     5                     0.001   \n",
       "4                      1000                     5                     0.001   \n",
       "5                       500                    -1                     0.001   \n",
       "6                      1000                     3                     0.001   \n",
       "7                       500                     5                      0.03   \n",
       "8                       500                    -1                       0.1   \n",
       "9                       200                     3                      0.03   \n",
       "10                     1000                     3                       0.1   \n",
       "11                     1000                     3                     0.001   \n",
       "12                      500                     5                     0.001   \n",
       "13                      200                    -1                     0.001   \n",
       "14                      200                    -1                      0.03   \n",
       "\n",
       "                                               params  ...  mean_test_score  \\\n",
       "0   {'preprocessor__text_vec__max_features': 10, '...  ...      -223.688142   \n",
       "1   {'preprocessor__text_vec__max_features': 10, '...  ...      -216.348118   \n",
       "2   {'preprocessor__text_vec__max_features': 50, '...  ...      -215.590940   \n",
       "3   {'preprocessor__text_vec__max_features': 20, '...  ...      -222.349773   \n",
       "4   {'preprocessor__text_vec__max_features': 20, '...  ...      -218.811531   \n",
       "5   {'preprocessor__text_vec__max_features': 20, '...  ...      -222.947197   \n",
       "6   {'preprocessor__text_vec__max_features': 50, '...  ...      -220.704846   \n",
       "7   {'preprocessor__text_vec__max_features': 10, '...  ...      -213.639492   \n",
       "8   {'preprocessor__text_vec__max_features': 10, '...  ...      -214.905366   \n",
       "9   {'preprocessor__text_vec__max_features': 50, '...  ...      -215.517014   \n",
       "10  {'preprocessor__text_vec__max_features': 10, '...  ...      -216.487360   \n",
       "11  {'preprocessor__text_vec__max_features': 50, '...  ...      -220.659133   \n",
       "12  {'preprocessor__text_vec__max_features': 50, '...  ...      -223.849135   \n",
       "13  {'preprocessor__text_vec__max_features': 50, '...  ...      -227.244506   \n",
       "14  {'preprocessor__text_vec__max_features': 20, '...  ...      -213.952573   \n",
       "\n",
       "    std_test_score  rank_test_score  split0_train_score  split1_train_score  \\\n",
       "0        32.477958               13         -122.569327         -114.230902   \n",
       "1        35.638959                6         -168.035974         -160.205847   \n",
       "2        33.812618                5         -191.533195         -183.397260   \n",
       "3        34.407237               11         -222.942864         -214.641413   \n",
       "4        34.770052                8         -217.852439         -209.758255   \n",
       "5        34.426212               12         -222.823490         -213.963153   \n",
       "6        34.478340               10         -221.711496         -213.039792   \n",
       "7        35.355738                1         -194.217681         -183.911840   \n",
       "8        35.191840                3         -187.607532         -176.447394   \n",
       "9        34.549409                4         -210.150859         -201.899352   \n",
       "10       35.411576                7         -184.068570         -179.753251   \n",
       "11       34.431254                9         -221.712791         -213.103819   \n",
       "12       34.284148               14         -225.038548         -216.108047   \n",
       "13       33.866732               15         -227.786486         -219.228011   \n",
       "14       35.467756                2         -206.407404         -198.473097   \n",
       "\n",
       "    split2_train_score  split3_train_score  split4_train_score  \\\n",
       "0          -112.902704         -124.311545         -119.775339   \n",
       "1          -159.710738         -176.540518         -172.008218   \n",
       "2          -181.494215         -202.609543         -198.765413   \n",
       "3          -212.271487         -233.090351         -230.909508   \n",
       "4          -206.704027         -228.258190         -225.996546   \n",
       "5          -211.822786         -232.868500         -230.646071   \n",
       "6          -211.077288         -231.776252         -229.341658   \n",
       "7          -184.672008         -204.643038         -200.341350   \n",
       "8          -174.294450         -196.095881         -189.624107   \n",
       "9          -199.962196         -220.555924         -218.070247   \n",
       "10         -172.150583         -193.584582         -192.493475   \n",
       "11         -211.077288         -231.776252         -229.342651   \n",
       "12         -214.431394         -235.072834         -232.925920   \n",
       "13         -217.641104         -237.816347         -235.601241   \n",
       "14         -195.955025         -216.048545         -214.656226   \n",
       "\n",
       "    mean_train_score  std_train_score  \n",
       "0        -118.757964         4.498492  \n",
       "1        -167.300259         6.572976  \n",
       "2        -191.559925         8.269963  \n",
       "3        -222.771125         8.355642  \n",
       "4        -217.713891         8.535960  \n",
       "5        -222.424800         8.494955  \n",
       "6        -221.389297         8.334080  \n",
       "7        -193.557183         8.262401  \n",
       "8        -184.813873         8.232652  \n",
       "9        -210.127716         8.281010  \n",
       "10       -184.410092         8.020109  \n",
       "11       -221.402560         8.321480  \n",
       "12       -224.715349         8.421886  \n",
       "13       -227.614638         8.218237  \n",
       "14       -206.308059         8.162730  \n",
       "\n",
       "[15 rows x 25 columns]"
      ]
     },
     "execution_count": 42,
     "metadata": {},
     "output_type": "execute_result"
    }
   ],
   "source": [
    "pd.DataFrame(lgbm_tune.cv_results_)"
   ]
  }
 ],
 "metadata": {
  "kernelspec": {
   "display_name": "Python 3",
   "language": "python",
   "name": "python3"
  },
  "language_info": {
   "codemirror_mode": {
    "name": "ipython",
    "version": 3
   },
   "file_extension": ".py",
   "mimetype": "text/x-python",
   "name": "python",
   "nbconvert_exporter": "python",
   "pygments_lexer": "ipython3",
   "version": "3.8.8"
  }
 },
 "nbformat": 4,
 "nbformat_minor": 5
}
